{
  "nbformat": 4,
  "nbformat_minor": 0,
  "metadata": {
    "colab": {
      "provenance": [],
      "toc_visible": true,
      "authorship_tag": "ABX9TyOuFyeOKPk7W907AXiLnakt",
      "include_colab_link": true
    },
    "kernelspec": {
      "name": "python3",
      "display_name": "Python 3"
    },
    "language_info": {
      "name": "python"
    }
  },
  "cells": [
    {
      "cell_type": "markdown",
      "metadata": {
        "id": "view-in-github",
        "colab_type": "text"
      },
      "source": [
        "<a href=\"https://colab.research.google.com/github/SimonGsponer/Introduciendo_Python_Para_Ciencias_Sociales/blob/main/Analysis_de_Datos_Para_Ciencias_Sociales_Clase_1.ipynb\" target=\"_parent\"><img src=\"https://colab.research.google.com/assets/colab-badge.svg\" alt=\"Open In Colab\"/></a>"
      ]
    },
    {
      "cell_type": "markdown",
      "source": [
        "# Introducción a Análisis de Datos Para Ciencias Sociales\n",
        "\n",
        "En esta clase vamos a aprender los primeros pasos para analisar un conjunto de datos con el módulo `pandas`\n",
        "\n",
        "**Enlaces Importantes**:\n",
        "* [Documentación Pandas](https://pandas.pydata.org/pandas-docs/version/1.5/reference/api/pandas.Series.values.html) -> asegúrese de que uses la versión correcta de la documentación\n",
        "* [Guía del usario oficial de Pandas](https://pandas.pydata.org/docs/user_guide/index.html)"
      ],
      "metadata": {
        "id": "N44SZ-Cr9s_5"
      }
    },
    {
      "cell_type": "markdown",
      "source": [
        "# 1.0 Primeros Pasitos"
      ],
      "metadata": {
        "id": "qkVnoWPtUxkg"
      }
    },
    {
      "cell_type": "markdown",
      "source": [
        "## Trabajando con nuestro primer DataFrame"
      ],
      "metadata": {
        "id": "C2LLMoJhHvUz"
      }
    },
    {
      "cell_type": "code",
      "source": [
        "import pandas as pd"
      ],
      "metadata": {
        "id": "mXXlCDkeATCw"
      },
      "execution_count": 5,
      "outputs": []
    },
    {
      "cell_type": "code",
      "source": [
        "# para nuestros primeros pasitos con pandas, vamos a usar un conjunto de datos artificial que definimos más abajo\n",
        "\n",
        "filas = [\n",
        "    (35, 'M', 5_000_000, False),\n",
        "    (18, 'F', 10_000_000, True),\n",
        "    (25, 'F', 7_000_000, True),\n",
        "    (40, 'M', 3_000_000, False),\n",
        "    (22, 'F', 10_000_000, False),\n",
        "    (21, 'F', 2_000_000, False)\n",
        "]\n",
        "\n",
        "columnas = ['edad', 'sexo', 'sueldo_anual', 'habla_inglés']\n",
        "\n",
        "df = pd.DataFrame(data=filas, columns=columnas)"
      ],
      "metadata": {
        "id": "Fyjdxof0_Mpn"
      },
      "execution_count": 4,
      "outputs": []
    },
    {
      "cell_type": "markdown",
      "source": [
        "Ahora, necesitamos familiarizarnos con 3 conceptos importantes:\n",
        "* **Índice:** Son los números de 0 a 5 al lado izquierdo. En este ejemplo tenemos un índice numérico, pero un índice también puede ser un número de identificación, una marca de tiempo o cualquier información que identifique solamente una (!) fila.\n",
        "* **Serie:** Una columna sola se llama `serie` en pandas. `edad` es una serie, y por supuesto `sexo`, `sueldo_anual` y `habla_inglés` también.\n",
        "* **DataFrame:** El dataframe es el índice y todas las series juntos, constituyendo el conjunto de datos.\n",
        "\n",
        "En general, estos objetos (`Índice`, `Serie`, `DataFrame`) tienen 'herramientas' (término correcto será métodos) y informaciones de si mismo (atributos) diferentes, así es muy importante saber cuando usted está trabajando con cual."
      ],
      "metadata": {
        "id": "edvcdcNFB_ze"
      }
    },
    {
      "cell_type": "markdown",
      "source": [
        "## DataFrame Slicing\n",
        "\n",
        "DataFrame slicing es el proceso de seleccionar ciertas filas y columnas de un DataFrame. Para la selección se puede usar dos métodos del DataFrame: `loc` (seleccionando filas/columnas por valores) y `iloc` (seleccionando filas/columnas por su posición). \n",
        "\n",
        "Los métodos .loc y .iloc se invocan usando corchetes y necesitan dos informaciones: la selección deseada de las filas y la selección deseade de columnas."
      ],
      "metadata": {
        "id": "QfCXEMt7Ho3y"
      }
    },
    {
      "cell_type": "markdown",
      "source": [
        "**`.loc`**"
      ],
      "metadata": {
        "id": "8fiv4YL1LT1G"
      }
    },
    {
      "cell_type": "code",
      "source": [
        "sub_df = df.loc[:,:] # : significa \"todo\", o sea sub_df contiene todas filas y todas columnas\n",
        "print(sub_df)"
      ],
      "metadata": {
        "colab": {
          "base_uri": "https://localhost:8080/"
        },
        "id": "AvxwuqZlASHE",
        "outputId": "3d4af65b-5458-4601-f0f3-8bbea51318c1"
      },
      "execution_count": 5,
      "outputs": [
        {
          "output_type": "stream",
          "name": "stdout",
          "text": [
            "   edad sexo  sueldo_anual  habla_inglés\n",
            "0    35    M       5000000         False\n",
            "1    18    F      10000000          True\n",
            "2    25    F       7000000          True\n",
            "3    40    M       3000000         False\n",
            "4    22    F      10000000         False\n",
            "5    21    F       2000000         False\n"
          ]
        }
      ]
    },
    {
      "cell_type": "code",
      "source": [
        "sub_df = df.loc[[2,3], :] # selecciona las filas que tienen el valor de índice 2 y 3, y todas columnas\n",
        "print(sub_df)"
      ],
      "metadata": {
        "colab": {
          "base_uri": "https://localhost:8080/"
        },
        "id": "-uaADMvLKjot",
        "outputId": "38018098-183a-48fa-dd2b-a308772a5ca9"
      },
      "execution_count": 6,
      "outputs": [
        {
          "output_type": "stream",
          "name": "stdout",
          "text": [
            "   edad sexo  sueldo_anual  habla_inglés\n",
            "2    25    F       7000000          True\n",
            "3    40    M       3000000         False\n"
          ]
        }
      ]
    },
    {
      "cell_type": "code",
      "source": [
        "sub_df = df.loc[:, ['edad', 'sueldo_anual']] # selecciona todas filas pero solamente las columnas 'edad' y 'sueldo_anual'\n",
        "print(sub_df)"
      ],
      "metadata": {
        "colab": {
          "base_uri": "https://localhost:8080/"
        },
        "id": "8Ul_IohZKjmt",
        "outputId": "49b212a7-aa69-46e0-cf54-03e8bbe16d1e"
      },
      "execution_count": 7,
      "outputs": [
        {
          "output_type": "stream",
          "name": "stdout",
          "text": [
            "   edad  sueldo_anual\n",
            "0    35       5000000\n",
            "1    18      10000000\n",
            "2    25       7000000\n",
            "3    40       3000000\n",
            "4    22      10000000\n",
            "5    21       2000000\n"
          ]
        }
      ]
    },
    {
      "cell_type": "code",
      "source": [
        "sub_df = df.loc[~df.index.isin([2,3]), ['edad']] # selecciona todas filas aparte de aquellas que tienen el valor de índice 2 & 3; selecciona la columna edad\n",
        "print(sub_df)"
      ],
      "metadata": {
        "colab": {
          "base_uri": "https://localhost:8080/"
        },
        "id": "NdVI79EcKjj4",
        "outputId": "9c3e46f9-a5d0-4637-9666-a1102739d9e2"
      },
      "execution_count": 8,
      "outputs": [
        {
          "output_type": "stream",
          "name": "stdout",
          "text": [
            "   edad\n",
            "0    35\n",
            "1    18\n",
            "4    22\n",
            "5    21\n"
          ]
        }
      ]
    },
    {
      "cell_type": "code",
      "source": [
        "sub_df = df.loc[df['edad'].gt(35), :] # selecciona todas filas donde la persona tiene más de 35 años\n",
        "print(sub_df)"
      ],
      "metadata": {
        "colab": {
          "base_uri": "https://localhost:8080/"
        },
        "id": "9FV9xyKrpOyS",
        "outputId": "bc196694-6369-4d8a-8ace-c84695cc51e3"
      },
      "execution_count": 19,
      "outputs": [
        {
          "output_type": "stream",
          "name": "stdout",
          "text": [
            "   edad sexo  sueldo_anual  habla_inglés\n",
            "3    40    M       3000000         False\n"
          ]
        }
      ]
    },
    {
      "cell_type": "code",
      "source": [
        "sub_df = df.loc[\n",
        "    (\n",
        "        (df['edad'].gt(24))\n",
        "        & (df['sueldo_anual'].ge(5_000_000))\n",
        "    ), :] # selecciona todas filas donde la persona tiene más de 24 años y gana 5,000,000 colones o más\n",
        "print(sub_df)"
      ],
      "metadata": {
        "colab": {
          "base_uri": "https://localhost:8080/"
        },
        "id": "D2-j87YKpfpp",
        "outputId": "ec0cb811-1509-4762-bc9f-b5c3fc58ba0b"
      },
      "execution_count": 24,
      "outputs": [
        {
          "output_type": "stream",
          "name": "stdout",
          "text": [
            "   edad sexo  sueldo_anual  habla_inglés\n",
            "2    25    F       7000000          True\n",
            "0    35    M       5000000         False\n"
          ]
        }
      ]
    },
    {
      "cell_type": "markdown",
      "source": [
        "**`.iloc`**\n",
        "\n",
        "Para entender mejor la diferencia entre el valor del índice y la posición de la fila, vamos a mezclar nuestro DataFrame."
      ],
      "metadata": {
        "id": "BF48gX9iLY4M"
      }
    },
    {
      "cell_type": "code",
      "source": [
        "df = df.sample(frac=1) # hacemos una muestra del conjunto de datos y usamos 100% del conjunto como muestra\n",
        "print(df)"
      ],
      "metadata": {
        "colab": {
          "base_uri": "https://localhost:8080/"
        },
        "id": "U6EJxc0NKjbt",
        "outputId": "ebe55aa2-9a32-48f7-cfc4-5eb582fd4481"
      },
      "execution_count": 9,
      "outputs": [
        {
          "output_type": "stream",
          "name": "stdout",
          "text": [
            "   edad sexo  sueldo_anual  habla_inglés\n",
            "2    25    F       7000000          True\n",
            "5    21    F       2000000         False\n",
            "1    18    F      10000000          True\n",
            "3    40    M       3000000         False\n",
            "4    22    F      10000000         False\n",
            "0    35    M       5000000         False\n"
          ]
        }
      ]
    },
    {
      "cell_type": "code",
      "source": [
        "sub_df = df.iloc[[1],[1]] # selecciona la segunda fila y la segunda columna; IMPORTANTE: los índices en python empiezan a 0!\n",
        "print(sub_df)"
      ],
      "metadata": {
        "colab": {
          "base_uri": "https://localhost:8080/"
        },
        "id": "TyXO_ZtYKjNo",
        "outputId": "b065abca-c8e6-4d19-ec9b-8a6b5845d741"
      },
      "execution_count": 10,
      "outputs": [
        {
          "output_type": "stream",
          "name": "stdout",
          "text": [
            "  sexo\n",
            "5    F\n"
          ]
        }
      ]
    },
    {
      "cell_type": "code",
      "source": [
        "sub_df = df.iloc[1:4, 1:2] # nota: especificando rangos (selecciona segunda fila hasta la cuarta) no require corchetes dentro las corchetes principales\n",
        "print(sub_df)\n"
      ],
      "metadata": {
        "colab": {
          "base_uri": "https://localhost:8080/"
        },
        "id": "QmI5EEGfk-t7",
        "outputId": "709c32b3-b753-4374-b54d-cdc714c8d365"
      },
      "execution_count": 17,
      "outputs": [
        {
          "output_type": "stream",
          "name": "stdout",
          "text": [
            "  sexo\n",
            "5    F\n",
            "1    F\n",
            "3    M\n"
          ]
        }
      ]
    },
    {
      "cell_type": "markdown",
      "source": [
        "## Aggregaciones y Agrupaciones\n",
        "\n",
        "Sin análisis adicional, solamente filtrar datos no sirve mucho. Por eso, vamos a ver como se puede aggregar datos para obtener la media, suma, etc."
      ],
      "metadata": {
        "id": "Xrz7i6YrmiJ0"
      }
    },
    {
      "cell_type": "code",
      "source": [
        "edad_promedia = df.loc[df['sexo']=='F',['edad']].mean() # la edad promedia de las mujeres en nuestro conjunto de datos\n",
        "print(edad_promedia)"
      ],
      "metadata": {
        "colab": {
          "base_uri": "https://localhost:8080/"
        },
        "id": "TX7XyTNHmmzc",
        "outputId": "d726a9e3-99c0-439c-bd56-654dc68252f5"
      },
      "execution_count": 29,
      "outputs": [
        {
          "output_type": "stream",
          "name": "stdout",
          "text": [
            "edad    21.5\n",
            "dtype: float64\n"
          ]
        }
      ]
    },
    {
      "cell_type": "code",
      "source": [
        "agg_df = df.loc[df['sexo']=='F', :].agg({'edad': 'mean', 'sueldo_anual': 'sum'}) # con agg podemos especificar más aggregaciones a la vez\n",
        "print(agg_df)"
      ],
      "metadata": {
        "colab": {
          "base_uri": "https://localhost:8080/"
        },
        "id": "9U1rweqFmmxL",
        "outputId": "dd721ed3-2b68-42df-99ce-6f440c40e3c0"
      },
      "execution_count": 33,
      "outputs": [
        {
          "output_type": "stream",
          "name": "stdout",
          "text": [
            "edad                  21.5\n",
            "sueldo_anual    29000000.0\n",
            "dtype: float64\n"
          ]
        }
      ]
    },
    {
      "cell_type": "code",
      "source": [
        "agg_df = (\n",
        "    df\n",
        "    .groupby(['sexo'])\n",
        "    .agg(\n",
        "          {\n",
        "            'edad': 'mean',\n",
        "            'sueldo_anual': ['sum', 'max', 'min']\n",
        "           }\n",
        "         )\n",
        "    ) # usamos 'groupby' para obtener las mismas agregaciones para chicos también\n",
        "\n",
        "print(agg_df)"
      ],
      "metadata": {
        "colab": {
          "base_uri": "https://localhost:8080/"
        },
        "id": "7zLgmdGVmmlV",
        "outputId": "704d209d-cbdb-4660-e5d4-cdf7c40c33a9"
      },
      "execution_count": 36,
      "outputs": [
        {
          "output_type": "stream",
          "name": "stdout",
          "text": [
            "      edad sueldo_anual                   \n",
            "      mean          sum       max      min\n",
            "sexo                                      \n",
            "F     21.5     29000000  10000000  2000000\n",
            "M     37.5      8000000   5000000  3000000\n"
          ]
        }
      ]
    },
    {
      "cell_type": "markdown",
      "source": [
        "## Práctica de Capítulo 1.0\n",
        "\n",
        "Para la práctica, use el dataframe `practica_df` que se define más abajo"
      ],
      "metadata": {
        "id": "hDZ9zuG4Ujk7"
      }
    },
    {
      "cell_type": "code",
      "source": [
        "import numpy as np"
      ],
      "metadata": {
        "id": "cqAPOTPTXT3i"
      },
      "execution_count": 6,
      "outputs": []
    },
    {
      "cell_type": "code",
      "source": [
        "# para nuestros primeros pasitos con pandas, vamos a usar un conjunto de datos artificial que definimos más abajo\n",
        "\n",
        "filas = [\n",
        "    (1980, 'M', 500_000, 200, np.NaN),\n",
        "    (2001, 'F', 400_000, 180, 7),\n",
        "    (1995, 'F', 300_000, np.NaN, 6),\n",
        "    (2004, 'M', 700_000, 150, 5),\n",
        "    (1992, 'F', 1_000_000, 250, 12),\n",
        "    (1985, 'F', np.NaN, np.NaN, 8),\n",
        "    (1998, 'M', 350_000, 7, 10),\n",
        "    (1997, 'F', 800_000, 9, 9)\n",
        "]\n",
        "\n",
        "columnas = ['fecha_de_nacimiento', 'sexo', 'sueldo_mensual', 'n_dias_de_trabajo_anual', 'n_horas_por_dia']\n",
        "\n",
        "practica_df = pd.DataFrame(data=filas, columns=columnas)"
      ],
      "metadata": {
        "id": "-ID3VrDDWXO9"
      },
      "execution_count": 23,
      "outputs": []
    },
    {
      "cell_type": "code",
      "source": [
        "# 1.1 Cree una columna nueva que contiene el salario anual con el nombre `salario_anual`.\n",
        "# Truco: acuérdese de las operaciones matemáticas básicas\n",
        "\n",
        "practica_df['sueldo_anual'] =\n",
        "\n",
        "# 1.2 Cree una columna nueva que contiene el edad de las personas encuestadas.\n",
        "# Supongamos que estos datos hayan sido coleccionado en el año 2022.\n",
        "\n",
        "# 1.3 El conjuncto de datos lleva la información del total de los dias que las personas trabajan\n",
        "# por año y el número de horas que trabajan en promedio. Use esta información para calcular el número de horas\n",
        "# que trabajan en total por año.\n",
        "\n",
        "# 1.4 Calcule el promedio sueldo de las personas en el conjunto de datos\n",
        "\n",
        "# 1.5 Use el promedio sueldo para remplazar las observaciones que faltan (los np.NaN).\n",
        "# Hágalo para las dos columnas conteniendo información del sueldo\n",
        "\n",
        "promedio_sueldo_mensual =\n",
        "promedio_sueldo_anual =\n",
        "\n",
        "practica_df['sueldo_mensual'].fillna(\n",
        "    value=promedio_sueldo_mensual,\n",
        "    inplace=True\n",
        ")\n",
        "practica_df['sueldo_anual'] = practica_df['sueldo_anual'].fillna(\n",
        "    value=promedio_sueldo_anual,\n",
        "    inplace=False\n",
        ")\n",
        "\n",
        "# 1.6 ¿Qué hace la palabra clave `inplace` en el ejercicio 1.5?\n",
        "\n",
        "# 1.7 ¿En promedio cuántas horas trabajan los hombres y las muyeres encuestados por año?\n",
        "# Calcule los dos promedios.\n",
        "\n",
        "# 1.8 Cree un conjunto de datos que se llama `sub_df` y que contiene todas las personas que\n",
        "# tengan más de 25 años y que tengan un sueldo anual de más de 1'000'000 colones.\n",
        "\n",
        "# 1.9 ¿Cúal es la diferencia entre los siguientes objetos? ¿Por qué importa la diferencia?\n",
        "\n",
        "objeto_a = practica_df.loc[:, 'sueldo_mensual']\n",
        "objeto_b = practica_df.loc[:, ['sueldo_mensual']]"
      ],
      "metadata": {
        "colab": {
          "base_uri": "https://localhost:8080/",
          "height": 514
        },
        "id": "iouBe7HtWT6M",
        "outputId": "165217f1-d6fc-4e1b-de55-052549e3a1c4"
      },
      "execution_count": 21,
      "outputs": [
        {
          "output_type": "error",
          "ename": "KeyError",
          "evalue": "ignored",
          "traceback": [
            "\u001b[0;31m---------------------------------------------------------------------------\u001b[0m",
            "\u001b[0;31mKeyError\u001b[0m                                  Traceback (most recent call last)",
            "\u001b[0;32m/usr/local/lib/python3.9/dist-packages/pandas/core/indexes/base.py\u001b[0m in \u001b[0;36mget_loc\u001b[0;34m(self, key, method, tolerance)\u001b[0m\n\u001b[1;32m   3801\u001b[0m             \u001b[0;32mtry\u001b[0m\u001b[0;34m:\u001b[0m\u001b[0;34m\u001b[0m\u001b[0;34m\u001b[0m\u001b[0m\n\u001b[0;32m-> 3802\u001b[0;31m                 \u001b[0;32mreturn\u001b[0m \u001b[0mself\u001b[0m\u001b[0;34m.\u001b[0m\u001b[0m_engine\u001b[0m\u001b[0;34m.\u001b[0m\u001b[0mget_loc\u001b[0m\u001b[0;34m(\u001b[0m\u001b[0mcasted_key\u001b[0m\u001b[0;34m)\u001b[0m\u001b[0;34m\u001b[0m\u001b[0;34m\u001b[0m\u001b[0m\n\u001b[0m\u001b[1;32m   3803\u001b[0m             \u001b[0;32mexcept\u001b[0m \u001b[0mKeyError\u001b[0m \u001b[0;32mas\u001b[0m \u001b[0merr\u001b[0m\u001b[0;34m:\u001b[0m\u001b[0;34m\u001b[0m\u001b[0;34m\u001b[0m\u001b[0m\n",
            "\u001b[0;32m/usr/local/lib/python3.9/dist-packages/pandas/_libs/index.pyx\u001b[0m in \u001b[0;36mpandas._libs.index.IndexEngine.get_loc\u001b[0;34m()\u001b[0m\n",
            "\u001b[0;32m/usr/local/lib/python3.9/dist-packages/pandas/_libs/index.pyx\u001b[0m in \u001b[0;36mpandas._libs.index.IndexEngine.get_loc\u001b[0;34m()\u001b[0m\n",
            "\u001b[0;32mpandas/_libs/hashtable_class_helper.pxi\u001b[0m in \u001b[0;36mpandas._libs.hashtable.PyObjectHashTable.get_item\u001b[0;34m()\u001b[0m\n",
            "\u001b[0;32mpandas/_libs/hashtable_class_helper.pxi\u001b[0m in \u001b[0;36mpandas._libs.hashtable.PyObjectHashTable.get_item\u001b[0;34m()\u001b[0m\n",
            "\u001b[0;31mKeyError\u001b[0m: 'sueldo_anual'",
            "\nThe above exception was the direct cause of the following exception:\n",
            "\u001b[0;31mKeyError\u001b[0m                                  Traceback (most recent call last)",
            "\u001b[0;32m<ipython-input-21-c4ce3d40357e>\u001b[0m in \u001b[0;36m<cell line: 25>\u001b[0;34m()\u001b[0m\n\u001b[1;32m     23\u001b[0m     \u001b[0minplace\u001b[0m\u001b[0;34m=\u001b[0m\u001b[0;32mTrue\u001b[0m\u001b[0;34m\u001b[0m\u001b[0;34m\u001b[0m\u001b[0m\n\u001b[1;32m     24\u001b[0m )\n\u001b[0;32m---> 25\u001b[0;31m practica_df['sueldo_anual'] = practica_df['sueldo_anual'].fillna(\n\u001b[0m\u001b[1;32m     26\u001b[0m     \u001b[0mvalue\u001b[0m\u001b[0;34m=\u001b[0m\u001b[0mpromedio_sueldo_anual\u001b[0m\u001b[0;34m,\u001b[0m\u001b[0;34m\u001b[0m\u001b[0;34m\u001b[0m\u001b[0m\n\u001b[1;32m     27\u001b[0m     \u001b[0minplace\u001b[0m\u001b[0;34m=\u001b[0m\u001b[0;32mFalse\u001b[0m\u001b[0;34m\u001b[0m\u001b[0;34m\u001b[0m\u001b[0m\n",
            "\u001b[0;32m/usr/local/lib/python3.9/dist-packages/pandas/core/frame.py\u001b[0m in \u001b[0;36m__getitem__\u001b[0;34m(self, key)\u001b[0m\n\u001b[1;32m   3805\u001b[0m             \u001b[0;32mif\u001b[0m \u001b[0mself\u001b[0m\u001b[0;34m.\u001b[0m\u001b[0mcolumns\u001b[0m\u001b[0;34m.\u001b[0m\u001b[0mnlevels\u001b[0m \u001b[0;34m>\u001b[0m \u001b[0;36m1\u001b[0m\u001b[0;34m:\u001b[0m\u001b[0;34m\u001b[0m\u001b[0;34m\u001b[0m\u001b[0m\n\u001b[1;32m   3806\u001b[0m                 \u001b[0;32mreturn\u001b[0m \u001b[0mself\u001b[0m\u001b[0;34m.\u001b[0m\u001b[0m_getitem_multilevel\u001b[0m\u001b[0;34m(\u001b[0m\u001b[0mkey\u001b[0m\u001b[0;34m)\u001b[0m\u001b[0;34m\u001b[0m\u001b[0;34m\u001b[0m\u001b[0m\n\u001b[0;32m-> 3807\u001b[0;31m             \u001b[0mindexer\u001b[0m \u001b[0;34m=\u001b[0m \u001b[0mself\u001b[0m\u001b[0;34m.\u001b[0m\u001b[0mcolumns\u001b[0m\u001b[0;34m.\u001b[0m\u001b[0mget_loc\u001b[0m\u001b[0;34m(\u001b[0m\u001b[0mkey\u001b[0m\u001b[0;34m)\u001b[0m\u001b[0;34m\u001b[0m\u001b[0;34m\u001b[0m\u001b[0m\n\u001b[0m\u001b[1;32m   3808\u001b[0m             \u001b[0;32mif\u001b[0m \u001b[0mis_integer\u001b[0m\u001b[0;34m(\u001b[0m\u001b[0mindexer\u001b[0m\u001b[0;34m)\u001b[0m\u001b[0;34m:\u001b[0m\u001b[0;34m\u001b[0m\u001b[0;34m\u001b[0m\u001b[0m\n\u001b[1;32m   3809\u001b[0m                 \u001b[0mindexer\u001b[0m \u001b[0;34m=\u001b[0m \u001b[0;34m[\u001b[0m\u001b[0mindexer\u001b[0m\u001b[0;34m]\u001b[0m\u001b[0;34m\u001b[0m\u001b[0;34m\u001b[0m\u001b[0m\n",
            "\u001b[0;32m/usr/local/lib/python3.9/dist-packages/pandas/core/indexes/base.py\u001b[0m in \u001b[0;36mget_loc\u001b[0;34m(self, key, method, tolerance)\u001b[0m\n\u001b[1;32m   3802\u001b[0m                 \u001b[0;32mreturn\u001b[0m \u001b[0mself\u001b[0m\u001b[0;34m.\u001b[0m\u001b[0m_engine\u001b[0m\u001b[0;34m.\u001b[0m\u001b[0mget_loc\u001b[0m\u001b[0;34m(\u001b[0m\u001b[0mcasted_key\u001b[0m\u001b[0;34m)\u001b[0m\u001b[0;34m\u001b[0m\u001b[0;34m\u001b[0m\u001b[0m\n\u001b[1;32m   3803\u001b[0m             \u001b[0;32mexcept\u001b[0m \u001b[0mKeyError\u001b[0m \u001b[0;32mas\u001b[0m \u001b[0merr\u001b[0m\u001b[0;34m:\u001b[0m\u001b[0;34m\u001b[0m\u001b[0;34m\u001b[0m\u001b[0m\n\u001b[0;32m-> 3804\u001b[0;31m                 \u001b[0;32mraise\u001b[0m \u001b[0mKeyError\u001b[0m\u001b[0;34m(\u001b[0m\u001b[0mkey\u001b[0m\u001b[0;34m)\u001b[0m \u001b[0;32mfrom\u001b[0m \u001b[0merr\u001b[0m\u001b[0;34m\u001b[0m\u001b[0;34m\u001b[0m\u001b[0m\n\u001b[0m\u001b[1;32m   3805\u001b[0m             \u001b[0;32mexcept\u001b[0m \u001b[0mTypeError\u001b[0m\u001b[0;34m:\u001b[0m\u001b[0;34m\u001b[0m\u001b[0;34m\u001b[0m\u001b[0m\n\u001b[1;32m   3806\u001b[0m                 \u001b[0;31m# If we have a listlike key, _check_indexing_error will raise\u001b[0m\u001b[0;34m\u001b[0m\u001b[0;34m\u001b[0m\u001b[0m\n",
            "\u001b[0;31mKeyError\u001b[0m: 'sueldo_anual'"
          ]
        }
      ]
    },
    {
      "cell_type": "code",
      "source": [
        "practica_df"
      ],
      "metadata": {
        "colab": {
          "base_uri": "https://localhost:8080/",
          "height": 300
        },
        "id": "aIZP4UK0YhOF",
        "outputId": "c53786a0-4a0e-4062-cef9-84c4001e0410"
      },
      "execution_count": 22,
      "outputs": [
        {
          "output_type": "execute_result",
          "data": {
            "text/plain": [
              "   fecha_de_nacimiento sexo  sueldo_mensual  n_dias_de_trabajo_anual  \\\n",
              "0                 1980    M        500000.0                    200.0   \n",
              "1                 2001    F        400000.0                    180.0   \n",
              "2                 1995    F        300000.0                      NaN   \n",
              "3                 2004    M        700000.0                    150.0   \n",
              "4                 1992    F       1000000.0                    250.0   \n",
              "5                 1985    F             1.0                      NaN   \n",
              "6                 1998    M        350000.0                      7.0   \n",
              "7                 1997    F        800000.0                      9.0   \n",
              "\n",
              "   n_horas_por_dia  \n",
              "0              NaN  \n",
              "1              7.0  \n",
              "2              6.0  \n",
              "3              5.0  \n",
              "4             12.0  \n",
              "5              NaN  \n",
              "6              NaN  \n",
              "7              NaN  "
            ],
            "text/html": [
              "\n",
              "  <div id=\"df-6c1de416-f375-4503-b661-3d1b9e789eaf\">\n",
              "    <div class=\"colab-df-container\">\n",
              "      <div>\n",
              "<style scoped>\n",
              "    .dataframe tbody tr th:only-of-type {\n",
              "        vertical-align: middle;\n",
              "    }\n",
              "\n",
              "    .dataframe tbody tr th {\n",
              "        vertical-align: top;\n",
              "    }\n",
              "\n",
              "    .dataframe thead th {\n",
              "        text-align: right;\n",
              "    }\n",
              "</style>\n",
              "<table border=\"1\" class=\"dataframe\">\n",
              "  <thead>\n",
              "    <tr style=\"text-align: right;\">\n",
              "      <th></th>\n",
              "      <th>fecha_de_nacimiento</th>\n",
              "      <th>sexo</th>\n",
              "      <th>sueldo_mensual</th>\n",
              "      <th>n_dias_de_trabajo_anual</th>\n",
              "      <th>n_horas_por_dia</th>\n",
              "    </tr>\n",
              "  </thead>\n",
              "  <tbody>\n",
              "    <tr>\n",
              "      <th>0</th>\n",
              "      <td>1980</td>\n",
              "      <td>M</td>\n",
              "      <td>500000.0</td>\n",
              "      <td>200.0</td>\n",
              "      <td>NaN</td>\n",
              "    </tr>\n",
              "    <tr>\n",
              "      <th>1</th>\n",
              "      <td>2001</td>\n",
              "      <td>F</td>\n",
              "      <td>400000.0</td>\n",
              "      <td>180.0</td>\n",
              "      <td>7.0</td>\n",
              "    </tr>\n",
              "    <tr>\n",
              "      <th>2</th>\n",
              "      <td>1995</td>\n",
              "      <td>F</td>\n",
              "      <td>300000.0</td>\n",
              "      <td>NaN</td>\n",
              "      <td>6.0</td>\n",
              "    </tr>\n",
              "    <tr>\n",
              "      <th>3</th>\n",
              "      <td>2004</td>\n",
              "      <td>M</td>\n",
              "      <td>700000.0</td>\n",
              "      <td>150.0</td>\n",
              "      <td>5.0</td>\n",
              "    </tr>\n",
              "    <tr>\n",
              "      <th>4</th>\n",
              "      <td>1992</td>\n",
              "      <td>F</td>\n",
              "      <td>1000000.0</td>\n",
              "      <td>250.0</td>\n",
              "      <td>12.0</td>\n",
              "    </tr>\n",
              "    <tr>\n",
              "      <th>5</th>\n",
              "      <td>1985</td>\n",
              "      <td>F</td>\n",
              "      <td>1.0</td>\n",
              "      <td>NaN</td>\n",
              "      <td>NaN</td>\n",
              "    </tr>\n",
              "    <tr>\n",
              "      <th>6</th>\n",
              "      <td>1998</td>\n",
              "      <td>M</td>\n",
              "      <td>350000.0</td>\n",
              "      <td>7.0</td>\n",
              "      <td>NaN</td>\n",
              "    </tr>\n",
              "    <tr>\n",
              "      <th>7</th>\n",
              "      <td>1997</td>\n",
              "      <td>F</td>\n",
              "      <td>800000.0</td>\n",
              "      <td>9.0</td>\n",
              "      <td>NaN</td>\n",
              "    </tr>\n",
              "  </tbody>\n",
              "</table>\n",
              "</div>\n",
              "      <button class=\"colab-df-convert\" onclick=\"convertToInteractive('df-6c1de416-f375-4503-b661-3d1b9e789eaf')\"\n",
              "              title=\"Convert this dataframe to an interactive table.\"\n",
              "              style=\"display:none;\">\n",
              "        \n",
              "  <svg xmlns=\"http://www.w3.org/2000/svg\" height=\"24px\"viewBox=\"0 0 24 24\"\n",
              "       width=\"24px\">\n",
              "    <path d=\"M0 0h24v24H0V0z\" fill=\"none\"/>\n",
              "    <path d=\"M18.56 5.44l.94 2.06.94-2.06 2.06-.94-2.06-.94-.94-2.06-.94 2.06-2.06.94zm-11 1L8.5 8.5l.94-2.06 2.06-.94-2.06-.94L8.5 2.5l-.94 2.06-2.06.94zm10 10l.94 2.06.94-2.06 2.06-.94-2.06-.94-.94-2.06-.94 2.06-2.06.94z\"/><path d=\"M17.41 7.96l-1.37-1.37c-.4-.4-.92-.59-1.43-.59-.52 0-1.04.2-1.43.59L10.3 9.45l-7.72 7.72c-.78.78-.78 2.05 0 2.83L4 21.41c.39.39.9.59 1.41.59.51 0 1.02-.2 1.41-.59l7.78-7.78 2.81-2.81c.8-.78.8-2.07 0-2.86zM5.41 20L4 18.59l7.72-7.72 1.47 1.35L5.41 20z\"/>\n",
              "  </svg>\n",
              "      </button>\n",
              "      \n",
              "  <style>\n",
              "    .colab-df-container {\n",
              "      display:flex;\n",
              "      flex-wrap:wrap;\n",
              "      gap: 12px;\n",
              "    }\n",
              "\n",
              "    .colab-df-convert {\n",
              "      background-color: #E8F0FE;\n",
              "      border: none;\n",
              "      border-radius: 50%;\n",
              "      cursor: pointer;\n",
              "      display: none;\n",
              "      fill: #1967D2;\n",
              "      height: 32px;\n",
              "      padding: 0 0 0 0;\n",
              "      width: 32px;\n",
              "    }\n",
              "\n",
              "    .colab-df-convert:hover {\n",
              "      background-color: #E2EBFA;\n",
              "      box-shadow: 0px 1px 2px rgba(60, 64, 67, 0.3), 0px 1px 3px 1px rgba(60, 64, 67, 0.15);\n",
              "      fill: #174EA6;\n",
              "    }\n",
              "\n",
              "    [theme=dark] .colab-df-convert {\n",
              "      background-color: #3B4455;\n",
              "      fill: #D2E3FC;\n",
              "    }\n",
              "\n",
              "    [theme=dark] .colab-df-convert:hover {\n",
              "      background-color: #434B5C;\n",
              "      box-shadow: 0px 1px 3px 1px rgba(0, 0, 0, 0.15);\n",
              "      filter: drop-shadow(0px 1px 2px rgba(0, 0, 0, 0.3));\n",
              "      fill: #FFFFFF;\n",
              "    }\n",
              "  </style>\n",
              "\n",
              "      <script>\n",
              "        const buttonEl =\n",
              "          document.querySelector('#df-6c1de416-f375-4503-b661-3d1b9e789eaf button.colab-df-convert');\n",
              "        buttonEl.style.display =\n",
              "          google.colab.kernel.accessAllowed ? 'block' : 'none';\n",
              "\n",
              "        async function convertToInteractive(key) {\n",
              "          const element = document.querySelector('#df-6c1de416-f375-4503-b661-3d1b9e789eaf');\n",
              "          const dataTable =\n",
              "            await google.colab.kernel.invokeFunction('convertToInteractive',\n",
              "                                                     [key], {});\n",
              "          if (!dataTable) return;\n",
              "\n",
              "          const docLinkHtml = 'Like what you see? Visit the ' +\n",
              "            '<a target=\"_blank\" href=https://colab.research.google.com/notebooks/data_table.ipynb>data table notebook</a>'\n",
              "            + ' to learn more about interactive tables.';\n",
              "          element.innerHTML = '';\n",
              "          dataTable['output_type'] = 'display_data';\n",
              "          await google.colab.output.renderOutput(dataTable, element);\n",
              "          const docLink = document.createElement('div');\n",
              "          docLink.innerHTML = docLinkHtml;\n",
              "          element.appendChild(docLink);\n",
              "        }\n",
              "      </script>\n",
              "    </div>\n",
              "  </div>\n",
              "  "
            ]
          },
          "metadata": {},
          "execution_count": 22
        }
      ]
    },
    {
      "cell_type": "code",
      "source": [],
      "metadata": {
        "id": "Bj0bityIjAgy"
      },
      "execution_count": null,
      "outputs": []
    },
    {
      "cell_type": "markdown",
      "source": [
        "# ⚠️ Zona de Construcción ⚠️👷"
      ],
      "metadata": {
        "id": "dm8VDcPdjCaZ"
      }
    },
    {
      "cell_type": "markdown",
      "source": [
        "## Inicialización\n",
        "\n",
        "**El propósito principal de esta sección es crear el entorno para trabajar, y cargar todos los conjuntos de datos que usemos.**\n",
        "\n",
        "* Es más legible importar todos los módulos al inicio ([PEP-8](https://peps.python.org/pep-0008/))\n",
        "* Si usted necesita instalar algun módulo (como lo hacemos con `pyreadstat`), siempre incluye la versión del módulo que necesitemos\n",
        "\n",
        "\n",
        "\n"
      ],
      "metadata": {
        "id": "3yD-aIlKMdik"
      }
    },
    {
      "cell_type": "markdown",
      "source": [],
      "metadata": {
        "id": "mla3a8Xg9rLx"
      }
    },
    {
      "cell_type": "code",
      "execution_count": 1,
      "metadata": {
        "id": "KcLPIMFFPqQD"
      },
      "outputs": [],
      "source": [
        "# ¿Cómo saber cual version que instalar?\n",
        "# pd.__version__ -> abrir environment.yaml \n",
        "%pip install pyreadstat>=1.1.5"
      ]
    },
    {
      "cell_type": "code",
      "source": [
        "import pandas as pd\n",
        "import numpy as np\n",
        "\n",
        "from google.colab import drive\n",
        "drive.mount('/content/drive')"
      ],
      "metadata": {
        "id": "GL8v_oC7XYNz",
        "colab": {
          "base_uri": "https://localhost:8080/"
        },
        "outputId": "f364de0b-ee7c-4b12-c6e7-3db5eb998a19"
      },
      "execution_count": 5,
      "outputs": [
        {
          "output_type": "stream",
          "name": "stdout",
          "text": [
            "Drive already mounted at /content/drive; to attempt to forcibly remount, call drive.mount(\"/content/drive\", force_remount=True).\n"
          ]
        }
      ]
    },
    {
      "cell_type": "code",
      "source": [
        "ruta_spss = '/content/drive/My Drive/analisis_datos_ciencias_sociales/III Trimestre 2022.sav'"
      ],
      "metadata": {
        "id": "kb2VqaOCUaAN"
      },
      "execution_count": 6,
      "outputs": []
    },
    {
      "cell_type": "code",
      "source": [
        "df = pd.read_spss(ruta_spss)"
      ],
      "metadata": {
        "id": "0CjReyWoW1Qo"
      },
      "execution_count": 7,
      "outputs": []
    },
    {
      "cell_type": "markdown",
      "source": [
        "## Introducción a Pandas"
      ],
      "metadata": {
        "id": "5LJ5pY-VTvYO"
      }
    },
    {
      "cell_type": "code",
      "source": [
        "# df es un dataframe, o sea el objecto que contiene nuestro conjunto de datos. ¿Pero cómo se puede ver nuestros datitos?\n",
        "# Use `df.head()` o `df.tail()` para ver las primeras/últimas filas. Estos métodos también permiten especificar el\n",
        "# número de filas usando la palabra clave `n`\n",
        "df.head(n=2)"
      ],
      "metadata": {
        "colab": {
          "base_uri": "https://localhost:8080/",
          "height": 292
        },
        "id": "rBHbFK95Tvqc",
        "outputId": "c116fdbc-6dea-46e6-fb87-1d5581b1dd8b"
      },
      "execution_count": 11,
      "outputs": [
        {
          "output_type": "execute_result",
          "data": {
            "text/plain": [
              "   ID_AMO  ID_TRIMESTRE  ID_VIVIENDA  ID_HOGAR  ID_LINEA   Sexo  Edad  \\\n",
              "0  2022.0           3.0          1.0       1.0       1.0  Mujer  92.0   \n",
              "1  2022.0           3.0          1.0       1.0       2.0  Mujer  54.0   \n",
              "\n",
              "  Estado_conyugal Lugar_nacimiento Permanencia_pais  ...  \\\n",
              "0    ...viudo(a)?   En otro cantón              NaN  ...   \n",
              "1  ...soltero(a)?   En otro cantón              NaN  ...   \n",
              "\n",
              "  Asalariado_TeletrabajoCOVID19 Ocupados_con_Conectividad Consecutivo N_hogar  \\\n",
              "0                           NaN                       NaN       880.0     1.0   \n",
              "1        No realiza teletrabajo                       NaN       880.0     0.0   \n",
              "\n",
              "     Grupo_edad Ingreso_principal_nomonetario Poblacion_joven  \\\n",
              "0      60 y más                           NaN             NaN   \n",
              "1  45 a 59 años                      453100.0             NaN   \n",
              "\n",
              "   Poblacion_adulto Joven_nini                                    Tipo_seguro  \n",
              "0  Población adulta        NaN  ...pensionado de la CCSS, Magisterio, u otro?  \n",
              "1  Población adulta        NaN                 ...cuenta propia o voluntario?  \n",
              "\n",
              "[2 rows x 388 columns]"
            ],
            "text/html": [
              "\n",
              "  <div id=\"df-02c36ae6-9790-4558-ae91-70b2298f1371\">\n",
              "    <div class=\"colab-df-container\">\n",
              "      <div>\n",
              "<style scoped>\n",
              "    .dataframe tbody tr th:only-of-type {\n",
              "        vertical-align: middle;\n",
              "    }\n",
              "\n",
              "    .dataframe tbody tr th {\n",
              "        vertical-align: top;\n",
              "    }\n",
              "\n",
              "    .dataframe thead th {\n",
              "        text-align: right;\n",
              "    }\n",
              "</style>\n",
              "<table border=\"1\" class=\"dataframe\">\n",
              "  <thead>\n",
              "    <tr style=\"text-align: right;\">\n",
              "      <th></th>\n",
              "      <th>ID_AMO</th>\n",
              "      <th>ID_TRIMESTRE</th>\n",
              "      <th>ID_VIVIENDA</th>\n",
              "      <th>ID_HOGAR</th>\n",
              "      <th>ID_LINEA</th>\n",
              "      <th>Sexo</th>\n",
              "      <th>Edad</th>\n",
              "      <th>Estado_conyugal</th>\n",
              "      <th>Lugar_nacimiento</th>\n",
              "      <th>Permanencia_pais</th>\n",
              "      <th>...</th>\n",
              "      <th>Asalariado_TeletrabajoCOVID19</th>\n",
              "      <th>Ocupados_con_Conectividad</th>\n",
              "      <th>Consecutivo</th>\n",
              "      <th>N_hogar</th>\n",
              "      <th>Grupo_edad</th>\n",
              "      <th>Ingreso_principal_nomonetario</th>\n",
              "      <th>Poblacion_joven</th>\n",
              "      <th>Poblacion_adulto</th>\n",
              "      <th>Joven_nini</th>\n",
              "      <th>Tipo_seguro</th>\n",
              "    </tr>\n",
              "  </thead>\n",
              "  <tbody>\n",
              "    <tr>\n",
              "      <th>0</th>\n",
              "      <td>2022.0</td>\n",
              "      <td>3.0</td>\n",
              "      <td>1.0</td>\n",
              "      <td>1.0</td>\n",
              "      <td>1.0</td>\n",
              "      <td>Mujer</td>\n",
              "      <td>92.0</td>\n",
              "      <td>...viudo(a)?</td>\n",
              "      <td>En otro cantón</td>\n",
              "      <td>NaN</td>\n",
              "      <td>...</td>\n",
              "      <td>NaN</td>\n",
              "      <td>NaN</td>\n",
              "      <td>880.0</td>\n",
              "      <td>1.0</td>\n",
              "      <td>60 y más</td>\n",
              "      <td>NaN</td>\n",
              "      <td>NaN</td>\n",
              "      <td>Población adulta</td>\n",
              "      <td>NaN</td>\n",
              "      <td>...pensionado de la CCSS, Magisterio, u otro?</td>\n",
              "    </tr>\n",
              "    <tr>\n",
              "      <th>1</th>\n",
              "      <td>2022.0</td>\n",
              "      <td>3.0</td>\n",
              "      <td>1.0</td>\n",
              "      <td>1.0</td>\n",
              "      <td>2.0</td>\n",
              "      <td>Mujer</td>\n",
              "      <td>54.0</td>\n",
              "      <td>...soltero(a)?</td>\n",
              "      <td>En otro cantón</td>\n",
              "      <td>NaN</td>\n",
              "      <td>...</td>\n",
              "      <td>No realiza teletrabajo</td>\n",
              "      <td>NaN</td>\n",
              "      <td>880.0</td>\n",
              "      <td>0.0</td>\n",
              "      <td>45 a 59 años</td>\n",
              "      <td>453100.0</td>\n",
              "      <td>NaN</td>\n",
              "      <td>Población adulta</td>\n",
              "      <td>NaN</td>\n",
              "      <td>...cuenta propia o voluntario?</td>\n",
              "    </tr>\n",
              "  </tbody>\n",
              "</table>\n",
              "<p>2 rows × 388 columns</p>\n",
              "</div>\n",
              "      <button class=\"colab-df-convert\" onclick=\"convertToInteractive('df-02c36ae6-9790-4558-ae91-70b2298f1371')\"\n",
              "              title=\"Convert this dataframe to an interactive table.\"\n",
              "              style=\"display:none;\">\n",
              "        \n",
              "  <svg xmlns=\"http://www.w3.org/2000/svg\" height=\"24px\"viewBox=\"0 0 24 24\"\n",
              "       width=\"24px\">\n",
              "    <path d=\"M0 0h24v24H0V0z\" fill=\"none\"/>\n",
              "    <path d=\"M18.56 5.44l.94 2.06.94-2.06 2.06-.94-2.06-.94-.94-2.06-.94 2.06-2.06.94zm-11 1L8.5 8.5l.94-2.06 2.06-.94-2.06-.94L8.5 2.5l-.94 2.06-2.06.94zm10 10l.94 2.06.94-2.06 2.06-.94-2.06-.94-.94-2.06-.94 2.06-2.06.94z\"/><path d=\"M17.41 7.96l-1.37-1.37c-.4-.4-.92-.59-1.43-.59-.52 0-1.04.2-1.43.59L10.3 9.45l-7.72 7.72c-.78.78-.78 2.05 0 2.83L4 21.41c.39.39.9.59 1.41.59.51 0 1.02-.2 1.41-.59l7.78-7.78 2.81-2.81c.8-.78.8-2.07 0-2.86zM5.41 20L4 18.59l7.72-7.72 1.47 1.35L5.41 20z\"/>\n",
              "  </svg>\n",
              "      </button>\n",
              "      \n",
              "  <style>\n",
              "    .colab-df-container {\n",
              "      display:flex;\n",
              "      flex-wrap:wrap;\n",
              "      gap: 12px;\n",
              "    }\n",
              "\n",
              "    .colab-df-convert {\n",
              "      background-color: #E8F0FE;\n",
              "      border: none;\n",
              "      border-radius: 50%;\n",
              "      cursor: pointer;\n",
              "      display: none;\n",
              "      fill: #1967D2;\n",
              "      height: 32px;\n",
              "      padding: 0 0 0 0;\n",
              "      width: 32px;\n",
              "    }\n",
              "\n",
              "    .colab-df-convert:hover {\n",
              "      background-color: #E2EBFA;\n",
              "      box-shadow: 0px 1px 2px rgba(60, 64, 67, 0.3), 0px 1px 3px 1px rgba(60, 64, 67, 0.15);\n",
              "      fill: #174EA6;\n",
              "    }\n",
              "\n",
              "    [theme=dark] .colab-df-convert {\n",
              "      background-color: #3B4455;\n",
              "      fill: #D2E3FC;\n",
              "    }\n",
              "\n",
              "    [theme=dark] .colab-df-convert:hover {\n",
              "      background-color: #434B5C;\n",
              "      box-shadow: 0px 1px 3px 1px rgba(0, 0, 0, 0.15);\n",
              "      filter: drop-shadow(0px 1px 2px rgba(0, 0, 0, 0.3));\n",
              "      fill: #FFFFFF;\n",
              "    }\n",
              "  </style>\n",
              "\n",
              "      <script>\n",
              "        const buttonEl =\n",
              "          document.querySelector('#df-02c36ae6-9790-4558-ae91-70b2298f1371 button.colab-df-convert');\n",
              "        buttonEl.style.display =\n",
              "          google.colab.kernel.accessAllowed ? 'block' : 'none';\n",
              "\n",
              "        async function convertToInteractive(key) {\n",
              "          const element = document.querySelector('#df-02c36ae6-9790-4558-ae91-70b2298f1371');\n",
              "          const dataTable =\n",
              "            await google.colab.kernel.invokeFunction('convertToInteractive',\n",
              "                                                     [key], {});\n",
              "          if (!dataTable) return;\n",
              "\n",
              "          const docLinkHtml = 'Like what you see? Visit the ' +\n",
              "            '<a target=\"_blank\" href=https://colab.research.google.com/notebooks/data_table.ipynb>data table notebook</a>'\n",
              "            + ' to learn more about interactive tables.';\n",
              "          element.innerHTML = '';\n",
              "          dataTable['output_type'] = 'display_data';\n",
              "          await google.colab.output.renderOutput(dataTable, element);\n",
              "          const docLink = document.createElement('div');\n",
              "          docLink.innerHTML = docLinkHtml;\n",
              "          element.appendChild(docLink);\n",
              "        }\n",
              "      </script>\n",
              "    </div>\n",
              "  </div>\n",
              "  "
            ]
          },
          "metadata": {},
          "execution_count": 11
        }
      ]
    },
    {
      "cell_type": "code",
      "source": [
        "# Para obtener información básica sobre el conjunto de datos como el número de filas y columnas, use el atributo `.shape`\n",
        "df.shape"
      ],
      "metadata": {
        "colab": {
          "base_uri": "https://localhost:8080/"
        },
        "id": "Ho57nuKeTvsz",
        "outputId": "e31686c2-b436-476c-d1ed-679878d44907"
      },
      "execution_count": 15,
      "outputs": [
        {
          "output_type": "execute_result",
          "data": {
            "text/plain": [
              "(23484, 388)"
            ]
          },
          "metadata": {},
          "execution_count": 15
        }
      ]
    },
    {
      "cell_type": "code",
      "source": [
        "# Ya que pandas no está deseñado para mostrar todos los datos de un dataframe,\n",
        "# todas las columnas se pueden mostrar únicamente recorriéndolas a la vez.\n",
        "# Para alcanzarlo, usamos el atributo `.columns` que contiene todas columnas de un dataframe como una lista.\n",
        "\n",
        "for col in df.columns:\n",
        "  print(col)"
      ],
      "metadata": {
        "colab": {
          "base_uri": "https://localhost:8080/"
        },
        "id": "8jalKWfWTvu9",
        "outputId": "7288bc82-62f3-43e7-95a0-0dda6848db3a"
      },
      "execution_count": 16,
      "outputs": [
        {
          "output_type": "stream",
          "name": "stdout",
          "text": [
            "ID_AMO\n",
            "ID_TRIMESTRE\n",
            "ID_VIVIENDA\n",
            "ID_HOGAR\n",
            "ID_LINEA\n",
            "Sexo\n",
            "Edad\n",
            "Estado_conyugal\n",
            "Lugar_nacimiento\n",
            "Permanencia_pais\n",
            "Permanencia_intension\n",
            "Permanencia_motivo\n",
            "Seguro\n",
            "Regimen_pension\n",
            "Plan_voluntario\n",
            "Educacion_asiste\n",
            "Educacion_nivel_grado\n",
            "Educacion_codigotitulo\n",
            "EducacionNoregular_asiste\n",
            "EducacionNoregular_codigo\n",
            "EducacionNoregular_institucion\n",
            "Idioma\n",
            "Idioma_cual\n",
            "Trabajo\n",
            "Trabajo_marginal\n",
            "Actividad_sinpaga\n",
            "Ausente\n",
            "Motivo_ausente\n",
            "Desea_trabajar\n",
            "Busca_trabajo\n",
            "Motivo_nobusco\n",
            "Cod_empresa\n",
            "Lugar_trabajo\n",
            "Cod_rama\n",
            "Cod_rama_5digitos\n",
            "Herramientas\n",
            "Cod_ocupacion\n",
            "Horas_normales_principal\n",
            "Horas_extras_principal\n",
            "Horas_menos_principal\n",
            "Horas_efectivas_principal\n",
            "Cantidad_personas\n",
            "Lugar_tareas\n",
            "Empresa_paga\n",
            "Cod_empresa_paga\n",
            "Cod_rama_paga\n",
            "Cod_rama_paga_5digitos\n",
            "D1\n",
            "D2\n",
            "D3\n",
            "D4\n",
            "D5\n",
            "D5A\n",
            "D6A\n",
            "D6B\n",
            "D6C\n",
            "D6D\n",
            "D7\n",
            "D8\n",
            "D9\n",
            "D10\n",
            "D12A\n",
            "D13\n",
            "D14_1\n",
            "D14_2\n",
            "D14A_1\n",
            "D15A\n",
            "D15B\n",
            "D15C\n",
            "D15D\n",
            "D15E\n",
            "D16\n",
            "D17\n",
            "D18\n",
            "D18_1\n",
            "D18A\n",
            "D20\n",
            "D22\n",
            "D22A\n",
            "D23\n",
            "D23A\n",
            "D24\n",
            "D24_1\n",
            "D24A\n",
            "D25A\n",
            "D26A\n",
            "D27\n",
            "E1\n",
            "E2\n",
            "E3\n",
            "E3A\n",
            "E4\n",
            "E5_1\n",
            "E5_2\n",
            "E5A\n",
            "E6A\n",
            "E6B\n",
            "E6C\n",
            "E6D\n",
            "E6E\n",
            "E7\n",
            "E8\n",
            "E8A\n",
            "E9A\n",
            "E9B\n",
            "E9C\n",
            "E9D\n",
            "E9E\n",
            "E10A\n",
            "E10B\n",
            "E11\n",
            "E13A\n",
            "E13B\n",
            "E14A1\n",
            "E14A2\n",
            "E14A3\n",
            "E14A4\n",
            "E15A\n",
            "E15B\n",
            "E15C\n",
            "E15D\n",
            "E15E\n",
            "F1\n",
            "F1A\n",
            "F1B\n",
            "F1C\n",
            "Cod_empresa_sec\n",
            "Cod_actividad_sec\n",
            "Cod_actividad5digitos_sec\n",
            "F3B\n",
            "Cod_ocupacion_sec\n",
            "F3D\n",
            "F3E\n",
            "F5\n",
            "F5A\n",
            "Horas_normales_secs\n",
            "Horas_extras_secs\n",
            "Horas_menos_secs\n",
            "Horas_efectivas_secs\n",
            "F6E\n",
            "F7A1\n",
            "F7B1\n",
            "F7C\n",
            "F7C1\n",
            "F8D\n",
            "F8E\n",
            "F9\n",
            "F13\n",
            "G1\n",
            "G2\n",
            "G3\n",
            "G4\n",
            "G5\n",
            "G6\n",
            "G7\n",
            "H1\n",
            "H2\n",
            "Cod_empresa_desempleo\n",
            "Cod_actividad_desempleo\n",
            "Cod_actividad5digitos_desempleo\n",
            "H6A\n",
            "H6B\n",
            "H7\n",
            "H8\n",
            "H9\n",
            "I1A\n",
            "I1B\n",
            "I2\n",
            "I3\n",
            "I5\n",
            "I5A\n",
            "I6\n",
            "I6A\n",
            "I7\n",
            "I7A\n",
            "I9\n",
            "J1\n",
            "J2\n",
            "J3\n",
            "J4\n",
            "J5\n",
            "J6\n",
            "J7\n",
            "J8\n",
            "J9\n",
            "J10\n",
            "J11\n",
            "J12\n",
            "J13_1\n",
            "J13_2\n",
            "J13_3\n",
            "J13_4\n",
            "J13_5\n",
            "J13_6\n",
            "J13_7\n",
            "J14\n",
            "J15_1\n",
            "J15_2\n",
            "J15_3\n",
            "J15_4\n",
            "J15_5\n",
            "J15_6\n",
            "J15_7\n",
            "J16\n",
            "J16_1\n",
            "J16_2\n",
            "J16_3\n",
            "J16_4\n",
            "J16_5\n",
            "J17\n",
            "J18\n",
            "J19\n",
            "J19_1\n",
            "J20\n",
            "J21_1\n",
            "J21_2\n",
            "J21_3\n",
            "J21_4\n",
            "J21_5\n",
            "J22\n",
            "J23_1\n",
            "J23_2\n",
            "J23_3\n",
            "J23_4\n",
            "J23_5\n",
            "J24\n",
            "J25_1\n",
            "J25_2\n",
            "J25_3\n",
            "J25_4\n",
            "J26_1\n",
            "J26_2\n",
            "J26_3\n",
            "J26_4\n",
            "J26_5\n",
            "J26_6\n",
            "J26_7\n",
            "J27_1\n",
            "J27_2\n",
            "J27_3\n",
            "J27_4\n",
            "J27_5\n",
            "J27_6\n",
            "Region\n",
            "Zona\n",
            "Factor_ponderacion\n",
            "Poblacion\n",
            "N_vivienda\n",
            "Relacion_parentesco\n",
            "Mayor_15\n",
            "Provincia_nacimiento\n",
            "Pais_nacimiento\n",
            "Residente_pais\n",
            "Amos_educacion\n",
            "Educacion_titulo\n",
            "Nivel_educativo\n",
            "Especialidad_estudio\n",
            "Especialidad_estudio_no_regular\n",
            "Condicion_actividad\n",
            "Fuerza_trabajo\n",
            "Ocupado\n",
            "Desempleado\n",
            "Fuera_fuerza_trabajo\n",
            "Desempleado_con_experiencia\n",
            "Desempleado_sin_experiencia\n",
            "Ausente_trabajo\n",
            "Horas_efectivas\n",
            "Grupo_horas_efectivas\n",
            "Hora_normal_total\n",
            "Horas_efectivas_total\n",
            "Tamano_empresa\n",
            "Posicion_empleo\n",
            "Establecimiento_independiente\n",
            "Ocupacion_COCR11\n",
            "Calificacion_ocupacion_COCR11\n",
            "Cod_empresa_publicacion\n",
            "Sector_institucional\n",
            "Sector_institucional_SCN\n",
            "Cod_rama_publicacion\n",
            "Rama_actividad\n",
            "Sector_actividad\n",
            "Ubicacion_empresa\n",
            "Condicion_busqueda_empleo\n",
            "Estabilidad_empleo\n",
            "Condicion_aseguramiento\n",
            "Subempleado\n",
            "Clasificacion_asalariado\n",
            "Formalidad_informalidad\n",
            "Empleo_secundario\n",
            "Posicion_secundario\n",
            "Ocupacion_secundario_COCR11\n",
            "Calificacion_ocupacion_secund\n",
            "Sector_institucional_secundario\n",
            "Rama_actividad_secundario\n",
            "Disponibilidad_fuera_fuerza_trab\n",
            "Razon_desempleado_con_experienc\n",
            "Tiempo_busqueda_empleo\n",
            "Posicion_desempleo\n",
            "Sector_institucional_desempleo\n",
            "Rama_actividad_desempleo\n",
            "Salario_neto\n",
            "Aguinaldo\n",
            "Salario_escolar\n",
            "Bonificacion\n",
            "Propina\n",
            "Pago_hora_extra\n",
            "Otros_pagos\n",
            "Otro_monetario\n",
            "Monetario_asal\n",
            "Ingreso_especie_alimentacion_asal\n",
            "Ingreso_especie_transporte_asal\n",
            "Ingreso_especie_vivienda_asal\n",
            "Ingreso_especie_vehiculo_asal\n",
            "Otro_especie_asal\n",
            "Especie_asal\n",
            "Ingreso_asalariado\n",
            "Salario_constituido\n",
            "Ganancia_constituido\n",
            "Salario_constituido2\n",
            "Aguinaldo_constituido\n",
            "Monetario_constituido\n",
            "Ingreso_especie_alimentacion_indep\n",
            "Ingreso_especie_transporte_indep\n",
            "Ingreso_especie_vivienda_indep\n",
            "Ingreso_especie_vehiculo_indep\n",
            "Otro_especie_indep\n",
            "Especie_constituido\n",
            "Ingreso_constituido\n",
            "Ganancia_no_agro\n",
            "Autoconsumo_no_agro\n",
            "Ingreso_no_agro\n",
            "D22B\n",
            "D23B\n",
            "Resta_agro\n",
            "Ganancia_agro\n",
            "Autoconsumo_agro\n",
            "Ingreso_agro\n",
            "Ingreso_independiente\n",
            "Ingreso_principal\n",
            "Salario_neto_sec\n",
            "Especie_asal_sec\n",
            "Ingreso_asal_sec\n",
            "F7A1B\n",
            "F7B1B\n",
            "Monetario_indep_sec\n",
            "F8A2\n",
            "F8C2\n",
            "Autoconsumo_sec\n",
            "Ingreso_indep_sec\n",
            "Ingreso_secundario\n",
            "Ingreso_otros\n",
            "Ingreso_total\n",
            "Salario_bruto\n",
            "Monetario_asal_bruto\n",
            "Ingreso_asalariado_bruto\n",
            "Ingreso_bruto_principal\n",
            "Ingreso_bruto_principal_monet\n",
            "Ingreso_bruto_principal_hora\n",
            "Salario_bruto_sec\n",
            "Ingreso_asal_bruto_sec\n",
            "Ingreso_bruto_secundario\n",
            "Ingreso_bruto_total_trabajo\n",
            "Ingreso_bruto_total_trabajo_hora\n",
            "Rango_ingreso_bruto_total_trabaj\n",
            "Rango_ingreso_bruto_principal\n",
            "Mas_40horas_menos_minimoingreso\n",
            "Asalariado_Incidencia_IngresoCOVID19\n",
            "Asalariado_Afectación_JornadaCOVID19\n",
            "Independiente_IncidenciaCOVID19\n",
            "Desempleado_IncidenciaCOVID19\n",
            "Ocupado_IncidenciaCOVID19\n",
            "Fuerza_trabajo_IncidenciaCOVID19\n",
            "Fuera_fuerza_trabajo_IncidenciaCOVID19\n",
            "Mayor_15_IncidenciaCOVID19\n",
            "Condicion_Actividad_IncidenciaCOVID19\n",
            "Incidencia_laboral\n",
            "Independiente_GananciaCOVID19\n",
            "Independiente_con_EstrategiasCOVID19\n",
            "Asalariado_TeletrabajoCOVID19\n",
            "Ocupados_con_Conectividad\n",
            "Consecutivo\n",
            "N_hogar\n",
            "Grupo_edad\n",
            "Ingreso_principal_nomonetario\n",
            "Poblacion_joven\n",
            "Poblacion_adulto\n",
            "Joven_nini\n",
            "Tipo_seguro\n"
          ]
        }
      ]
    },
    {
      "cell_type": "markdown",
      "source": [
        "## Exploración "
      ],
      "metadata": {
        "id": "Vn1h7Mj3TnT3"
      }
    },
    {
      "cell_type": "markdown",
      "source": [
        "un "
      ],
      "metadata": {
        "id": "POxoAkXaWa7u"
      }
    },
    {
      "cell_type": "code",
      "source": [
        "df['Idioma_cual'].unique()"
      ],
      "metadata": {
        "colab": {
          "base_uri": "https://localhost:8080/"
        },
        "id": "6E8_y6hIXDjN",
        "outputId": "8966b414-c749-4653-d477-c0a694c79798"
      },
      "execution_count": null,
      "outputs": [
        {
          "output_type": "execute_result",
          "data": {
            "text/plain": [
              "['...francés?', NaN, '...inglés?', '...español?', '...otro?', '...alemán?']\n",
              "Categories (5, object): ['...alemán?', '...español?', '...francés?', '...inglés?', '...otro?']"
            ]
          },
          "metadata": {},
          "execution_count": 6
        }
      ]
    },
    {
      "cell_type": "code",
      "source": [
        "salario_columnas = [col for col in df.columns if \"salar\" in col]"
      ],
      "metadata": {
        "id": "E-YMV_ktY2kC"
      },
      "execution_count": null,
      "outputs": []
    },
    {
      "cell_type": "code",
      "source": [],
      "metadata": {
        "colab": {
          "base_uri": "https://localhost:8080/"
        },
        "id": "JgdgpPDAcaWt",
        "outputId": "1f03fc8f-b4ab-410e-fc6f-e587aa6de05b"
      },
      "execution_count": null,
      "outputs": [
        {
          "output_type": "stream",
          "name": "stdout",
          "text": [
            "ID_AMO\n",
            "ID_TRIMESTRE\n",
            "ID_VIVIENDA\n",
            "ID_HOGAR\n",
            "ID_LINEA\n",
            "Sexo\n",
            "Edad\n",
            "Estado_conyugal\n",
            "Lugar_nacimiento\n",
            "Permanencia_pais\n",
            "Permanencia_intension\n",
            "Permanencia_motivo\n",
            "Seguro\n",
            "Regimen_pension\n",
            "Plan_voluntario\n",
            "Educacion_asiste\n",
            "Educacion_nivel_grado\n",
            "Educacion_codigotitulo\n",
            "EducacionNoregular_asiste\n",
            "EducacionNoregular_codigo\n",
            "EducacionNoregular_institucion\n",
            "Idioma\n",
            "Idioma_cual\n",
            "Trabajo\n",
            "Trabajo_marginal\n",
            "Actividad_sinpaga\n",
            "Ausente\n",
            "Motivo_ausente\n",
            "Desea_trabajar\n",
            "Busca_trabajo\n",
            "Motivo_nobusco\n",
            "Cod_empresa\n",
            "Lugar_trabajo\n",
            "Cod_rama\n",
            "Cod_rama_5digitos\n",
            "Herramientas\n",
            "Cod_ocupacion\n",
            "Horas_normales_principal\n",
            "Horas_extras_principal\n",
            "Horas_menos_principal\n",
            "Horas_efectivas_principal\n",
            "Cantidad_personas\n",
            "Lugar_tareas\n",
            "Empresa_paga\n",
            "Cod_empresa_paga\n",
            "Cod_rama_paga\n",
            "Cod_rama_paga_5digitos\n",
            "D1\n",
            "D2\n",
            "D3\n",
            "D4\n",
            "D5\n",
            "D5A\n",
            "D6A\n",
            "D6B\n",
            "D6C\n",
            "D6D\n",
            "D7\n",
            "D8\n",
            "D9\n",
            "D10\n",
            "D12A\n",
            "D13\n",
            "D14_1\n",
            "D14_2\n",
            "D14A_1\n",
            "D15A\n",
            "D15B\n",
            "D15C\n",
            "D15D\n",
            "D15E\n",
            "D16\n",
            "D17\n",
            "D18\n",
            "D18_1\n",
            "D18A\n",
            "D20\n",
            "D22\n",
            "D22A\n",
            "D23\n",
            "D23A\n",
            "D24\n",
            "D24_1\n",
            "D24A\n",
            "D25A\n",
            "D26A\n",
            "D27\n",
            "E1\n",
            "E2\n",
            "E3\n",
            "E3A\n",
            "E4\n",
            "E5_1\n",
            "E5_2\n",
            "E5A\n",
            "E6A\n",
            "E6B\n",
            "E6C\n",
            "E6D\n",
            "E6E\n",
            "E7\n",
            "E8\n",
            "E8A\n",
            "E9A\n",
            "E9B\n",
            "E9C\n",
            "E9D\n",
            "E9E\n",
            "E10A\n",
            "E10B\n",
            "E11\n",
            "E13A\n",
            "E13B\n",
            "E14A1\n",
            "E14A2\n",
            "E14A3\n",
            "E14A4\n",
            "E15A\n",
            "E15B\n",
            "E15C\n",
            "E15D\n",
            "E15E\n",
            "F1\n",
            "F1A\n",
            "F1B\n",
            "F1C\n",
            "Cod_empresa_sec\n",
            "Cod_actividad_sec\n",
            "Cod_actividad5digitos_sec\n",
            "F3B\n",
            "Cod_ocupacion_sec\n",
            "F3D\n",
            "F3E\n",
            "F5\n",
            "F5A\n",
            "Horas_normales_secs\n",
            "Horas_extras_secs\n",
            "Horas_menos_secs\n",
            "Horas_efectivas_secs\n",
            "F6E\n",
            "F7A1\n",
            "F7B1\n",
            "F7C\n",
            "F7C1\n",
            "F8D\n",
            "F8E\n",
            "F9\n",
            "F13\n",
            "G1\n",
            "G2\n",
            "G3\n",
            "G4\n",
            "G5\n",
            "G6\n",
            "G7\n",
            "H1\n",
            "H2\n",
            "Cod_empresa_desempleo\n",
            "Cod_actividad_desempleo\n",
            "Cod_actividad5digitos_desempleo\n",
            "H6A\n",
            "H6B\n",
            "H7\n",
            "H8\n",
            "H9\n",
            "I1A\n",
            "I1B\n",
            "I2\n",
            "I3\n",
            "I5\n",
            "I5A\n",
            "I6\n",
            "I6A\n",
            "I7\n",
            "I7A\n",
            "I9\n",
            "J1\n",
            "J2\n",
            "J3\n",
            "J4\n",
            "J5\n",
            "J6\n",
            "J7\n",
            "J8\n",
            "J9\n",
            "J10\n",
            "J11\n",
            "J12\n",
            "J13_1\n",
            "J13_2\n",
            "J13_3\n",
            "J13_4\n",
            "J13_5\n",
            "J13_6\n",
            "J13_7\n",
            "J14\n",
            "J15_1\n",
            "J15_2\n",
            "J15_3\n",
            "J15_4\n",
            "J15_5\n",
            "J15_6\n",
            "J15_7\n",
            "J16\n",
            "J16_1\n",
            "J16_2\n",
            "J16_3\n",
            "J16_4\n",
            "J16_5\n",
            "J17\n",
            "J18\n",
            "J19\n",
            "J19_1\n",
            "J20\n",
            "J21_1\n",
            "J21_2\n",
            "J21_3\n",
            "J21_4\n",
            "J21_5\n",
            "J22\n",
            "J23_1\n",
            "J23_2\n",
            "J23_3\n",
            "J23_4\n",
            "J23_5\n",
            "J24\n",
            "J25_1\n",
            "J25_2\n",
            "J25_3\n",
            "J25_4\n",
            "J26_1\n",
            "J26_2\n",
            "J26_3\n",
            "J26_4\n",
            "J26_5\n",
            "J26_6\n",
            "J26_7\n",
            "J27_1\n",
            "J27_2\n",
            "J27_3\n",
            "J27_4\n",
            "J27_5\n",
            "J27_6\n",
            "Region\n",
            "Zona\n",
            "Factor_ponderacion\n",
            "Poblacion\n",
            "N_vivienda\n",
            "Relacion_parentesco\n",
            "Mayor_15\n",
            "Provincia_nacimiento\n",
            "Pais_nacimiento\n",
            "Residente_pais\n",
            "Amos_educacion\n",
            "Educacion_titulo\n",
            "Nivel_educativo\n",
            "Especialidad_estudio\n",
            "Especialidad_estudio_no_regular\n",
            "Condicion_actividad\n",
            "Fuerza_trabajo\n",
            "Ocupado\n",
            "Desempleado\n",
            "Fuera_fuerza_trabajo\n",
            "Desempleado_con_experiencia\n",
            "Desempleado_sin_experiencia\n",
            "Ausente_trabajo\n",
            "Horas_efectivas\n",
            "Grupo_horas_efectivas\n",
            "Hora_normal_total\n",
            "Horas_efectivas_total\n",
            "Tamano_empresa\n",
            "Posicion_empleo\n",
            "Establecimiento_independiente\n",
            "Ocupacion_COCR11\n",
            "Calificacion_ocupacion_COCR11\n",
            "Cod_empresa_publicacion\n",
            "Sector_institucional\n",
            "Sector_institucional_SCN\n",
            "Cod_rama_publicacion\n",
            "Rama_actividad\n",
            "Sector_actividad\n",
            "Ubicacion_empresa\n",
            "Condicion_busqueda_empleo\n",
            "Estabilidad_empleo\n",
            "Condicion_aseguramiento\n",
            "Subempleado\n",
            "Clasificacion_asalariado\n",
            "Formalidad_informalidad\n",
            "Empleo_secundario\n",
            "Posicion_secundario\n",
            "Ocupacion_secundario_COCR11\n",
            "Calificacion_ocupacion_secund\n",
            "Sector_institucional_secundario\n",
            "Rama_actividad_secundario\n",
            "Disponibilidad_fuera_fuerza_trab\n",
            "Razon_desempleado_con_experienc\n",
            "Tiempo_busqueda_empleo\n",
            "Posicion_desempleo\n",
            "Sector_institucional_desempleo\n",
            "Rama_actividad_desempleo\n",
            "Salario_neto\n",
            "Aguinaldo\n",
            "Salario_escolar\n",
            "Bonificacion\n",
            "Propina\n",
            "Pago_hora_extra\n",
            "Otros_pagos\n",
            "Otro_monetario\n",
            "Monetario_asal\n",
            "Ingreso_especie_alimentacion_asal\n",
            "Ingreso_especie_transporte_asal\n",
            "Ingreso_especie_vivienda_asal\n",
            "Ingreso_especie_vehiculo_asal\n",
            "Otro_especie_asal\n",
            "Especie_asal\n",
            "Ingreso_asalariado\n",
            "Salario_constituido\n",
            "Ganancia_constituido\n",
            "Salario_constituido2\n",
            "Aguinaldo_constituido\n",
            "Monetario_constituido\n",
            "Ingreso_especie_alimentacion_indep\n",
            "Ingreso_especie_transporte_indep\n",
            "Ingreso_especie_vivienda_indep\n",
            "Ingreso_especie_vehiculo_indep\n",
            "Otro_especie_indep\n",
            "Especie_constituido\n",
            "Ingreso_constituido\n",
            "Ganancia_no_agro\n",
            "Autoconsumo_no_agro\n",
            "Ingreso_no_agro\n",
            "D22B\n",
            "D23B\n",
            "Resta_agro\n",
            "Ganancia_agro\n",
            "Autoconsumo_agro\n",
            "Ingreso_agro\n",
            "Ingreso_independiente\n",
            "Ingreso_principal\n",
            "Salario_neto_sec\n",
            "Especie_asal_sec\n",
            "Ingreso_asal_sec\n",
            "F7A1B\n",
            "F7B1B\n",
            "Monetario_indep_sec\n",
            "F8A2\n",
            "F8C2\n",
            "Autoconsumo_sec\n",
            "Ingreso_indep_sec\n",
            "Ingreso_secundario\n",
            "Ingreso_otros\n",
            "Ingreso_total\n",
            "Salario_bruto\n",
            "Monetario_asal_bruto\n",
            "Ingreso_asalariado_bruto\n",
            "Ingreso_bruto_principal\n",
            "Ingreso_bruto_principal_monet\n",
            "Ingreso_bruto_principal_hora\n",
            "Salario_bruto_sec\n",
            "Ingreso_asal_bruto_sec\n",
            "Ingreso_bruto_secundario\n",
            "Ingreso_bruto_total_trabajo\n",
            "Ingreso_bruto_total_trabajo_hora\n",
            "Rango_ingreso_bruto_total_trabaj\n",
            "Rango_ingreso_bruto_principal\n",
            "Mas_40horas_menos_minimoingreso\n",
            "Asalariado_Incidencia_IngresoCOVID19\n",
            "Asalariado_Afectación_JornadaCOVID19\n",
            "Independiente_IncidenciaCOVID19\n",
            "Desempleado_IncidenciaCOVID19\n",
            "Ocupado_IncidenciaCOVID19\n",
            "Fuerza_trabajo_IncidenciaCOVID19\n",
            "Fuera_fuerza_trabajo_IncidenciaCOVID19\n",
            "Mayor_15_IncidenciaCOVID19\n",
            "Condicion_Actividad_IncidenciaCOVID19\n",
            "Incidencia_laboral\n",
            "Independiente_GananciaCOVID19\n",
            "Independiente_con_EstrategiasCOVID19\n",
            "Asalariado_TeletrabajoCOVID19\n",
            "Ocupados_con_Conectividad\n",
            "Consecutivo\n",
            "N_hogar\n",
            "Grupo_edad\n",
            "Ingreso_principal_nomonetario\n",
            "Poblacion_joven\n",
            "Poblacion_adulto\n",
            "Joven_nini\n",
            "Tipo_seguro\n"
          ]
        }
      ]
    },
    {
      "cell_type": "code",
      "source": [
        "salario_columnas"
      ],
      "metadata": {
        "colab": {
          "base_uri": "https://localhost:8080/"
        },
        "id": "zeRJ04w2bDvJ",
        "outputId": "6060c0c4-5e74-4e6e-e143-5d27ae84a89c"
      },
      "execution_count": null,
      "outputs": [
        {
          "output_type": "execute_result",
          "data": {
            "text/plain": [
              "['Clasificacion_asalariado',\n",
              " 'Ingreso_asalariado',\n",
              " 'Ingreso_asalariado_bruto',\n",
              " 'Asalariado_Incidencia_IngresoCOVID19',\n",
              " 'Asalariado_Afectación_JornadaCOVID19',\n",
              " 'Asalariado_TeletrabajoCOVID19']"
            ]
          },
          "metadata": {},
          "execution_count": 9
        }
      ]
    },
    {
      "cell_type": "code",
      "source": [
        "df[salario_columnas]"
      ],
      "metadata": {
        "colab": {
          "base_uri": "https://localhost:8080/",
          "height": 522
        },
        "id": "dMUCCk51acDU",
        "outputId": "7f607a36-9c0f-4c99-e528-b84df10507cb"
      },
      "execution_count": null,
      "outputs": [
        {
          "output_type": "execute_result",
          "data": {
            "text/plain": [
              "                 Clasificacion_asalariado Ingreso_asalariado  \\\n",
              "0                                     NaN                NaN   \n",
              "1      No tienen rebajos de seguro social       1.602354e+06   \n",
              "2                                     NaN                NaN   \n",
              "3         Tienen rebajos de seguro social       3.773499e+06   \n",
              "4         Tienen rebajos de seguro social       3.764042e+05   \n",
              "...                                   ...                ...   \n",
              "23479                                 NaN                NaN   \n",
              "23480                                 NaN                NaN   \n",
              "23481                                 NaN                NaN   \n",
              "23482                                 NaN                NaN   \n",
              "23483                                 NaN                NaN   \n",
              "\n",
              "      Ingreso_asalariado_bruto  Asalariado_Incidencia_IngresoCOVID19  \\\n",
              "0                          NaN                                   NaN   \n",
              "1                 1.602354e+06                                   NaN   \n",
              "2                          NaN                                   NaN   \n",
              "3                 5.028731e+06                                   NaN   \n",
              "4                 4.174842e+05                                   NaN   \n",
              "...                        ...                                   ...   \n",
              "23479                      NaN                                   NaN   \n",
              "23480                      NaN                                   NaN   \n",
              "23481                      NaN                                   NaN   \n",
              "23482                      NaN                                   NaN   \n",
              "23483                      NaN                                   NaN   \n",
              "\n",
              "       Asalariado_Afectación_JornadaCOVID19  \\\n",
              "0                                       NaN   \n",
              "1                                       NaN   \n",
              "2                                       NaN   \n",
              "3                                       NaN   \n",
              "4                                       NaN   \n",
              "...                                     ...   \n",
              "23479                                   NaN   \n",
              "23480                                   NaN   \n",
              "23481                                   NaN   \n",
              "23482                                   NaN   \n",
              "23483                                   NaN   \n",
              "\n",
              "                           Asalariado_TeletrabajoCOVID19  \n",
              "0                                                    NaN  \n",
              "1                                 No realiza teletrabajo  \n",
              "2                                                    NaN  \n",
              "3      Sí, por el COVID-19, le aumentaron e inició te...  \n",
              "4                                 No realiza teletrabajo  \n",
              "...                                                  ...  \n",
              "23479                                                NaN  \n",
              "23480                                                NaN  \n",
              "23481                                                NaN  \n",
              "23482                                                NaN  \n",
              "23483                                                NaN  \n",
              "\n",
              "[23484 rows x 6 columns]"
            ],
            "text/html": [
              "\n",
              "  <div id=\"df-9aa6d2dd-26e6-4c3f-931e-12484d57aa60\">\n",
              "    <div class=\"colab-df-container\">\n",
              "      <div>\n",
              "<style scoped>\n",
              "    .dataframe tbody tr th:only-of-type {\n",
              "        vertical-align: middle;\n",
              "    }\n",
              "\n",
              "    .dataframe tbody tr th {\n",
              "        vertical-align: top;\n",
              "    }\n",
              "\n",
              "    .dataframe thead th {\n",
              "        text-align: right;\n",
              "    }\n",
              "</style>\n",
              "<table border=\"1\" class=\"dataframe\">\n",
              "  <thead>\n",
              "    <tr style=\"text-align: right;\">\n",
              "      <th></th>\n",
              "      <th>Clasificacion_asalariado</th>\n",
              "      <th>Ingreso_asalariado</th>\n",
              "      <th>Ingreso_asalariado_bruto</th>\n",
              "      <th>Asalariado_Incidencia_IngresoCOVID19</th>\n",
              "      <th>Asalariado_Afectación_JornadaCOVID19</th>\n",
              "      <th>Asalariado_TeletrabajoCOVID19</th>\n",
              "    </tr>\n",
              "  </thead>\n",
              "  <tbody>\n",
              "    <tr>\n",
              "      <th>0</th>\n",
              "      <td>NaN</td>\n",
              "      <td>NaN</td>\n",
              "      <td>NaN</td>\n",
              "      <td>NaN</td>\n",
              "      <td>NaN</td>\n",
              "      <td>NaN</td>\n",
              "    </tr>\n",
              "    <tr>\n",
              "      <th>1</th>\n",
              "      <td>No tienen rebajos de seguro social</td>\n",
              "      <td>1.602354e+06</td>\n",
              "      <td>1.602354e+06</td>\n",
              "      <td>NaN</td>\n",
              "      <td>NaN</td>\n",
              "      <td>No realiza teletrabajo</td>\n",
              "    </tr>\n",
              "    <tr>\n",
              "      <th>2</th>\n",
              "      <td>NaN</td>\n",
              "      <td>NaN</td>\n",
              "      <td>NaN</td>\n",
              "      <td>NaN</td>\n",
              "      <td>NaN</td>\n",
              "      <td>NaN</td>\n",
              "    </tr>\n",
              "    <tr>\n",
              "      <th>3</th>\n",
              "      <td>Tienen rebajos de seguro social</td>\n",
              "      <td>3.773499e+06</td>\n",
              "      <td>5.028731e+06</td>\n",
              "      <td>NaN</td>\n",
              "      <td>NaN</td>\n",
              "      <td>Sí, por el COVID-19, le aumentaron e inició te...</td>\n",
              "    </tr>\n",
              "    <tr>\n",
              "      <th>4</th>\n",
              "      <td>Tienen rebajos de seguro social</td>\n",
              "      <td>3.764042e+05</td>\n",
              "      <td>4.174842e+05</td>\n",
              "      <td>NaN</td>\n",
              "      <td>NaN</td>\n",
              "      <td>No realiza teletrabajo</td>\n",
              "    </tr>\n",
              "    <tr>\n",
              "      <th>...</th>\n",
              "      <td>...</td>\n",
              "      <td>...</td>\n",
              "      <td>...</td>\n",
              "      <td>...</td>\n",
              "      <td>...</td>\n",
              "      <td>...</td>\n",
              "    </tr>\n",
              "    <tr>\n",
              "      <th>23479</th>\n",
              "      <td>NaN</td>\n",
              "      <td>NaN</td>\n",
              "      <td>NaN</td>\n",
              "      <td>NaN</td>\n",
              "      <td>NaN</td>\n",
              "      <td>NaN</td>\n",
              "    </tr>\n",
              "    <tr>\n",
              "      <th>23480</th>\n",
              "      <td>NaN</td>\n",
              "      <td>NaN</td>\n",
              "      <td>NaN</td>\n",
              "      <td>NaN</td>\n",
              "      <td>NaN</td>\n",
              "      <td>NaN</td>\n",
              "    </tr>\n",
              "    <tr>\n",
              "      <th>23481</th>\n",
              "      <td>NaN</td>\n",
              "      <td>NaN</td>\n",
              "      <td>NaN</td>\n",
              "      <td>NaN</td>\n",
              "      <td>NaN</td>\n",
              "      <td>NaN</td>\n",
              "    </tr>\n",
              "    <tr>\n",
              "      <th>23482</th>\n",
              "      <td>NaN</td>\n",
              "      <td>NaN</td>\n",
              "      <td>NaN</td>\n",
              "      <td>NaN</td>\n",
              "      <td>NaN</td>\n",
              "      <td>NaN</td>\n",
              "    </tr>\n",
              "    <tr>\n",
              "      <th>23483</th>\n",
              "      <td>NaN</td>\n",
              "      <td>NaN</td>\n",
              "      <td>NaN</td>\n",
              "      <td>NaN</td>\n",
              "      <td>NaN</td>\n",
              "      <td>NaN</td>\n",
              "    </tr>\n",
              "  </tbody>\n",
              "</table>\n",
              "<p>23484 rows × 6 columns</p>\n",
              "</div>\n",
              "      <button class=\"colab-df-convert\" onclick=\"convertToInteractive('df-9aa6d2dd-26e6-4c3f-931e-12484d57aa60')\"\n",
              "              title=\"Convert this dataframe to an interactive table.\"\n",
              "              style=\"display:none;\">\n",
              "        \n",
              "  <svg xmlns=\"http://www.w3.org/2000/svg\" height=\"24px\"viewBox=\"0 0 24 24\"\n",
              "       width=\"24px\">\n",
              "    <path d=\"M0 0h24v24H0V0z\" fill=\"none\"/>\n",
              "    <path d=\"M18.56 5.44l.94 2.06.94-2.06 2.06-.94-2.06-.94-.94-2.06-.94 2.06-2.06.94zm-11 1L8.5 8.5l.94-2.06 2.06-.94-2.06-.94L8.5 2.5l-.94 2.06-2.06.94zm10 10l.94 2.06.94-2.06 2.06-.94-2.06-.94-.94-2.06-.94 2.06-2.06.94z\"/><path d=\"M17.41 7.96l-1.37-1.37c-.4-.4-.92-.59-1.43-.59-.52 0-1.04.2-1.43.59L10.3 9.45l-7.72 7.72c-.78.78-.78 2.05 0 2.83L4 21.41c.39.39.9.59 1.41.59.51 0 1.02-.2 1.41-.59l7.78-7.78 2.81-2.81c.8-.78.8-2.07 0-2.86zM5.41 20L4 18.59l7.72-7.72 1.47 1.35L5.41 20z\"/>\n",
              "  </svg>\n",
              "      </button>\n",
              "      \n",
              "  <style>\n",
              "    .colab-df-container {\n",
              "      display:flex;\n",
              "      flex-wrap:wrap;\n",
              "      gap: 12px;\n",
              "    }\n",
              "\n",
              "    .colab-df-convert {\n",
              "      background-color: #E8F0FE;\n",
              "      border: none;\n",
              "      border-radius: 50%;\n",
              "      cursor: pointer;\n",
              "      display: none;\n",
              "      fill: #1967D2;\n",
              "      height: 32px;\n",
              "      padding: 0 0 0 0;\n",
              "      width: 32px;\n",
              "    }\n",
              "\n",
              "    .colab-df-convert:hover {\n",
              "      background-color: #E2EBFA;\n",
              "      box-shadow: 0px 1px 2px rgba(60, 64, 67, 0.3), 0px 1px 3px 1px rgba(60, 64, 67, 0.15);\n",
              "      fill: #174EA6;\n",
              "    }\n",
              "\n",
              "    [theme=dark] .colab-df-convert {\n",
              "      background-color: #3B4455;\n",
              "      fill: #D2E3FC;\n",
              "    }\n",
              "\n",
              "    [theme=dark] .colab-df-convert:hover {\n",
              "      background-color: #434B5C;\n",
              "      box-shadow: 0px 1px 3px 1px rgba(0, 0, 0, 0.15);\n",
              "      filter: drop-shadow(0px 1px 2px rgba(0, 0, 0, 0.3));\n",
              "      fill: #FFFFFF;\n",
              "    }\n",
              "  </style>\n",
              "\n",
              "      <script>\n",
              "        const buttonEl =\n",
              "          document.querySelector('#df-9aa6d2dd-26e6-4c3f-931e-12484d57aa60 button.colab-df-convert');\n",
              "        buttonEl.style.display =\n",
              "          google.colab.kernel.accessAllowed ? 'block' : 'none';\n",
              "\n",
              "        async function convertToInteractive(key) {\n",
              "          const element = document.querySelector('#df-9aa6d2dd-26e6-4c3f-931e-12484d57aa60');\n",
              "          const dataTable =\n",
              "            await google.colab.kernel.invokeFunction('convertToInteractive',\n",
              "                                                     [key], {});\n",
              "          if (!dataTable) return;\n",
              "\n",
              "          const docLinkHtml = 'Like what you see? Visit the ' +\n",
              "            '<a target=\"_blank\" href=https://colab.research.google.com/notebooks/data_table.ipynb>data table notebook</a>'\n",
              "            + ' to learn more about interactive tables.';\n",
              "          element.innerHTML = '';\n",
              "          dataTable['output_type'] = 'display_data';\n",
              "          await google.colab.output.renderOutput(dataTable, element);\n",
              "          const docLink = document.createElement('div');\n",
              "          docLink.innerHTML = docLinkHtml;\n",
              "          element.appendChild(docLink);\n",
              "        }\n",
              "      </script>\n",
              "    </div>\n",
              "  </div>\n",
              "  "
            ]
          },
          "metadata": {},
          "execution_count": 10
        }
      ]
    },
    {
      "cell_type": "code",
      "source": [
        "df['Nivel_educativo'].value_counts()"
      ],
      "metadata": {
        "colab": {
          "base_uri": "https://localhost:8080/"
        },
        "id": "2Y2yk0ZFZyxk",
        "outputId": "0973f7ac-ea01-4573-ab3d-61f83f97735c"
      },
      "execution_count": null,
      "outputs": [
        {
          "output_type": "execute_result",
          "data": {
            "text/plain": [
              "Secundaria incompleta       4511\n",
              "Primaria completa           4471\n",
              "Secundaria completa         2980\n",
              "Universitario con título    2393\n",
              "Primaria incompleta         2144\n",
              "Universitario sin título    1079\n",
              "Ninguno                      686\n",
              "No especificado               11\n",
              "Name: Nivel_educativo, dtype: int64"
            ]
          },
          "metadata": {},
          "execution_count": 19
        }
      ]
    },
    {
      "cell_type": "markdown",
      "source": [],
      "metadata": {
        "id": "2nMs5IehdgH6"
      }
    },
    {
      "cell_type": "code",
      "source": [
        "df['Idioma_cual']"
      ],
      "metadata": {
        "colab": {
          "base_uri": "https://localhost:8080/"
        },
        "id": "5z2HBvIoZ4eg",
        "outputId": "1e699b3b-acb2-4a79-baf7-55f562d45869"
      },
      "execution_count": null,
      "outputs": [
        {
          "output_type": "execute_result",
          "data": {
            "text/plain": [
              "0        ...francés?\n",
              "1                NaN\n",
              "2                NaN\n",
              "3         ...inglés?\n",
              "4                NaN\n",
              "            ...     \n",
              "23479            NaN\n",
              "23480            NaN\n",
              "23481            NaN\n",
              "23482            NaN\n",
              "23483            NaN\n",
              "Name: Idioma_cual, Length: 23484, dtype: category\n",
              "Categories (5, object): ['...alemán?', '...español?', '...francés?', '...inglés?', '...otro?']"
            ]
          },
          "metadata": {},
          "execution_count": 12
        }
      ]
    },
    {
      "cell_type": "code",
      "source": [
        "df['Ingreso_asalariado_bruto'] = df['Ingreso_asalariado_bruto'].astype(float)"
      ],
      "metadata": {
        "id": "Muptp5Jud6Hc"
      },
      "execution_count": null,
      "outputs": []
    },
    {
      "cell_type": "code",
      "source": [
        "# Grupo_edad vs Edad\n",
        "agg_df = (\n",
        "    df\n",
        "    .loc[:, ['Sexo', 'Grupo_edad', 'Ingreso_asalariado_bruto']]\n",
        "    .groupby(['Sexo', 'Grupo_edad'])\n",
        "    .agg({'Ingreso_asalariado_bruto': ['mean', 'count']})\n",
        "    )"
      ],
      "metadata": {
        "id": "Z9F7f2e7cvvG"
      },
      "execution_count": null,
      "outputs": []
    },
    {
      "cell_type": "code",
      "source": [
        "print(agg_df)"
      ],
      "metadata": {
        "colab": {
          "base_uri": "https://localhost:8080/"
        },
        "id": "PeZ3MLWaIToI",
        "outputId": "c9fc9350-58c7-40d4-87e8-e7019542b028"
      },
      "execution_count": null,
      "outputs": [
        {
          "output_type": "stream",
          "name": "stdout",
          "text": [
            "                    Ingreso_asalariado_bruto      \n",
            "                                        mean count\n",
            "Sexo   Grupo_edad                                 \n",
            "Hombre 15 a 24 años            334578.177438   441\n",
            "       25 a 34 años            476685.973037   989\n",
            "       35 a 44 años            575010.645646   888\n",
            "       45 a 59 años            588191.482578   861\n",
            "       60 y más                459495.629630   207\n",
            "       Ignorado                          NaN     0\n",
            "Mujer  15 a 24 años            346276.206637   221\n",
            "       25 a 34 años            473814.279594   673\n",
            "       35 a 44 años            576843.811978   718\n",
            "       45 a 59 años            546937.182529   746\n",
            "       60 y más                471115.624183   102\n",
            "       Ignorado                          NaN     0\n"
          ]
        }
      ]
    },
    {
      "cell_type": "code",
      "source": [],
      "metadata": {
        "colab": {
          "base_uri": "https://localhost:8080/"
        },
        "id": "NMJUjNMDMVhN",
        "outputId": "92e6f5ce-f61c-41c9-c502-08b13810eb7e"
      },
      "execution_count": null,
      "outputs": [
        {
          "output_type": "stream",
          "name": "stdout",
          "text": [
            "Categorías de `Idioma_cual`: ['...alemán?', '...español?', '...francés?', '...inglés?', '...otro?', 'ningún']\n"
          ]
        }
      ]
    },
    {
      "cell_type": "code",
      "source": [
        "print(f\"Categorías de `Idioma_cual`: {list(df['Idioma_cual'].cat.categories)}\")\n",
        "df['Idioma_cual'] = (\n",
        "    df['Idioma_cual']\n",
        "    .cat.add_categories(\"ningún\")\n",
        "    .fillna(\"ningún\")\n",
        "    .cat.remove_categories(np.NaN)\n",
        "    )\n",
        "print(f\"Categorías actualizadas de `Idioma_cual`: {list(df['Idioma_cual'].cat.categories)}\")\n",
        "\n",
        "# Idioma_cual\n",
        "agg_df = (\n",
        "    df\n",
        "    .loc[:, ['Idioma_cual', 'Ingreso_asalariado_bruto']]\n",
        "    .groupby(['Idioma_cual'])\n",
        "    .agg({'Ingreso_asalariado_bruto': ['mean', 'count']})\n",
        "    )"
      ],
      "metadata": {
        "id": "UGukGdq5I9wE"
      },
      "execution_count": null,
      "outputs": []
    },
    {
      "cell_type": "code",
      "source": [
        "# TODO: boxplot across Idioma_Cual & Grado"
      ],
      "metadata": {
        "colab": {
          "base_uri": "https://localhost:8080/",
          "height": 300
        },
        "id": "qZ5T_dTdI94R",
        "outputId": "99914a46-9d9e-4bc7-d7e2-6f6698092cb4"
      },
      "execution_count": null,
      "outputs": [
        {
          "output_type": "execute_result",
          "data": {
            "text/plain": [
              "            Ingreso_asalariado_bruto      \n",
              "                                mean count\n",
              "Idioma_cual                               \n",
              "...alemán?                       NaN     0\n",
              "...español?            713750.000000     2\n",
              "...francés?            774791.666667     4\n",
              "...inglés?             864966.484631   488\n",
              "...otro?               795474.738095     7\n",
              "ningún                 479812.446227  5345"
            ],
            "text/html": [
              "\n",
              "  <div id=\"df-d6d472b9-9169-4f4c-b895-a3a4f811e9b1\">\n",
              "    <div class=\"colab-df-container\">\n",
              "      <div>\n",
              "<style scoped>\n",
              "    .dataframe tbody tr th:only-of-type {\n",
              "        vertical-align: middle;\n",
              "    }\n",
              "\n",
              "    .dataframe tbody tr th {\n",
              "        vertical-align: top;\n",
              "    }\n",
              "\n",
              "    .dataframe thead tr th {\n",
              "        text-align: left;\n",
              "    }\n",
              "\n",
              "    .dataframe thead tr:last-of-type th {\n",
              "        text-align: right;\n",
              "    }\n",
              "</style>\n",
              "<table border=\"1\" class=\"dataframe\">\n",
              "  <thead>\n",
              "    <tr>\n",
              "      <th></th>\n",
              "      <th colspan=\"2\" halign=\"left\">Ingreso_asalariado_bruto</th>\n",
              "    </tr>\n",
              "    <tr>\n",
              "      <th></th>\n",
              "      <th>mean</th>\n",
              "      <th>count</th>\n",
              "    </tr>\n",
              "    <tr>\n",
              "      <th>Idioma_cual</th>\n",
              "      <th></th>\n",
              "      <th></th>\n",
              "    </tr>\n",
              "  </thead>\n",
              "  <tbody>\n",
              "    <tr>\n",
              "      <th>...alemán?</th>\n",
              "      <td>NaN</td>\n",
              "      <td>0</td>\n",
              "    </tr>\n",
              "    <tr>\n",
              "      <th>...español?</th>\n",
              "      <td>713750.000000</td>\n",
              "      <td>2</td>\n",
              "    </tr>\n",
              "    <tr>\n",
              "      <th>...francés?</th>\n",
              "      <td>774791.666667</td>\n",
              "      <td>4</td>\n",
              "    </tr>\n",
              "    <tr>\n",
              "      <th>...inglés?</th>\n",
              "      <td>864966.484631</td>\n",
              "      <td>488</td>\n",
              "    </tr>\n",
              "    <tr>\n",
              "      <th>...otro?</th>\n",
              "      <td>795474.738095</td>\n",
              "      <td>7</td>\n",
              "    </tr>\n",
              "    <tr>\n",
              "      <th>ningún</th>\n",
              "      <td>479812.446227</td>\n",
              "      <td>5345</td>\n",
              "    </tr>\n",
              "  </tbody>\n",
              "</table>\n",
              "</div>\n",
              "      <button class=\"colab-df-convert\" onclick=\"convertToInteractive('df-d6d472b9-9169-4f4c-b895-a3a4f811e9b1')\"\n",
              "              title=\"Convert this dataframe to an interactive table.\"\n",
              "              style=\"display:none;\">\n",
              "        \n",
              "  <svg xmlns=\"http://www.w3.org/2000/svg\" height=\"24px\"viewBox=\"0 0 24 24\"\n",
              "       width=\"24px\">\n",
              "    <path d=\"M0 0h24v24H0V0z\" fill=\"none\"/>\n",
              "    <path d=\"M18.56 5.44l.94 2.06.94-2.06 2.06-.94-2.06-.94-.94-2.06-.94 2.06-2.06.94zm-11 1L8.5 8.5l.94-2.06 2.06-.94-2.06-.94L8.5 2.5l-.94 2.06-2.06.94zm10 10l.94 2.06.94-2.06 2.06-.94-2.06-.94-.94-2.06-.94 2.06-2.06.94z\"/><path d=\"M17.41 7.96l-1.37-1.37c-.4-.4-.92-.59-1.43-.59-.52 0-1.04.2-1.43.59L10.3 9.45l-7.72 7.72c-.78.78-.78 2.05 0 2.83L4 21.41c.39.39.9.59 1.41.59.51 0 1.02-.2 1.41-.59l7.78-7.78 2.81-2.81c.8-.78.8-2.07 0-2.86zM5.41 20L4 18.59l7.72-7.72 1.47 1.35L5.41 20z\"/>\n",
              "  </svg>\n",
              "      </button>\n",
              "      \n",
              "  <style>\n",
              "    .colab-df-container {\n",
              "      display:flex;\n",
              "      flex-wrap:wrap;\n",
              "      gap: 12px;\n",
              "    }\n",
              "\n",
              "    .colab-df-convert {\n",
              "      background-color: #E8F0FE;\n",
              "      border: none;\n",
              "      border-radius: 50%;\n",
              "      cursor: pointer;\n",
              "      display: none;\n",
              "      fill: #1967D2;\n",
              "      height: 32px;\n",
              "      padding: 0 0 0 0;\n",
              "      width: 32px;\n",
              "    }\n",
              "\n",
              "    .colab-df-convert:hover {\n",
              "      background-color: #E2EBFA;\n",
              "      box-shadow: 0px 1px 2px rgba(60, 64, 67, 0.3), 0px 1px 3px 1px rgba(60, 64, 67, 0.15);\n",
              "      fill: #174EA6;\n",
              "    }\n",
              "\n",
              "    [theme=dark] .colab-df-convert {\n",
              "      background-color: #3B4455;\n",
              "      fill: #D2E3FC;\n",
              "    }\n",
              "\n",
              "    [theme=dark] .colab-df-convert:hover {\n",
              "      background-color: #434B5C;\n",
              "      box-shadow: 0px 1px 3px 1px rgba(0, 0, 0, 0.15);\n",
              "      filter: drop-shadow(0px 1px 2px rgba(0, 0, 0, 0.3));\n",
              "      fill: #FFFFFF;\n",
              "    }\n",
              "  </style>\n",
              "\n",
              "      <script>\n",
              "        const buttonEl =\n",
              "          document.querySelector('#df-d6d472b9-9169-4f4c-b895-a3a4f811e9b1 button.colab-df-convert');\n",
              "        buttonEl.style.display =\n",
              "          google.colab.kernel.accessAllowed ? 'block' : 'none';\n",
              "\n",
              "        async function convertToInteractive(key) {\n",
              "          const element = document.querySelector('#df-d6d472b9-9169-4f4c-b895-a3a4f811e9b1');\n",
              "          const dataTable =\n",
              "            await google.colab.kernel.invokeFunction('convertToInteractive',\n",
              "                                                     [key], {});\n",
              "          if (!dataTable) return;\n",
              "\n",
              "          const docLinkHtml = 'Like what you see? Visit the ' +\n",
              "            '<a target=\"_blank\" href=https://colab.research.google.com/notebooks/data_table.ipynb>data table notebook</a>'\n",
              "            + ' to learn more about interactive tables.';\n",
              "          element.innerHTML = '';\n",
              "          dataTable['output_type'] = 'display_data';\n",
              "          await google.colab.output.renderOutput(dataTable, element);\n",
              "          const docLink = document.createElement('div');\n",
              "          docLink.innerHTML = docLinkHtml;\n",
              "          element.appendChild(docLink);\n",
              "        }\n",
              "      </script>\n",
              "    </div>\n",
              "  </div>\n",
              "  "
            ]
          },
          "metadata": {},
          "execution_count": 16
        }
      ]
    },
    {
      "cell_type": "code",
      "source": [],
      "metadata": {
        "colab": {
          "base_uri": "https://localhost:8080/"
        },
        "id": "GZOnDcIUI96q",
        "outputId": "635d885d-f5aa-4b4d-920a-0b148654a842"
      },
      "execution_count": null,
      "outputs": [
        {
          "output_type": "execute_result",
          "data": {
            "text/plain": [
              "Index(['...alemán?', '...español?', '...francés?', '...inglés?', '...otro?',\n",
              "       'ningún'],\n",
              "      dtype='object')"
            ]
          },
          "metadata": {},
          "execution_count": 29
        }
      ]
    },
    {
      "cell_type": "code",
      "source": [
        "df.loc[:, 'Ingreso_asalariado_bruto']"
      ],
      "metadata": {
        "colab": {
          "base_uri": "https://localhost:8080/"
        },
        "id": "HOrKMEQPdWJX",
        "outputId": "158664a4-4c2b-4a51-cb5c-f9bec8d6d236"
      },
      "execution_count": null,
      "outputs": [
        {
          "output_type": "stream",
          "name": "stderr",
          "text": [
            "/usr/local/lib/python3.9/dist-packages/IPython/lib/pretty.py:700: FutureWarning: Index.ravel returning ndarray is deprecated; in a future version this will return a view on self.\n",
            "  output = repr(obj)\n"
          ]
        },
        {
          "output_type": "execute_result",
          "data": {
            "text/plain": [
              "0                 NaN\n",
              "1        1.602354e+06\n",
              "2                 NaN\n",
              "3        5.028731e+06\n",
              "4        4.174842e+05\n",
              "             ...     \n",
              "23479             NaN\n",
              "23480             NaN\n",
              "23481             NaN\n",
              "23482             NaN\n",
              "23483             NaN\n",
              "Name: Ingreso_asalariado_bruto, Length: 23484, dtype: category\n",
              "Categories (1822, float64): [2000.0, 4000.0, 8000.0, 10000.0, ..., 4.208333e+06, 4.513333e+06,\n",
              "                             5.028731e+06, 6.860871e+06]"
            ]
          },
          "metadata": {},
          "execution_count": 42
        }
      ]
    },
    {
      "cell_type": "code",
      "source": [],
      "metadata": {
        "id": "zpFi70kbdmPt"
      },
      "execution_count": null,
      "outputs": []
    },
    {
      "cell_type": "markdown",
      "source": [
        "### Exploración de la variable `Edad`"
      ],
      "metadata": {
        "id": "TsfseFfQwv26"
      }
    },
    {
      "cell_type": "code",
      "source": [
        "df['Edad'].cat.categories"
      ],
      "metadata": {
        "colab": {
          "base_uri": "https://localhost:8080/",
          "height": 169
        },
        "id": "nXExUwCFVMcm",
        "outputId": "fc672704-8179-4cf9-f348-471281bfb851"
      },
      "execution_count": 1,
      "outputs": [
        {
          "output_type": "error",
          "ename": "NameError",
          "evalue": "ignored",
          "traceback": [
            "\u001b[0;31m---------------------------------------------------------------------------\u001b[0m",
            "\u001b[0;31mNameError\u001b[0m                                 Traceback (most recent call last)",
            "\u001b[0;32m<ipython-input-1-9fda940a174e>\u001b[0m in \u001b[0;36m<cell line: 1>\u001b[0;34m()\u001b[0m\n\u001b[0;32m----> 1\u001b[0;31m \u001b[0mdf\u001b[0m\u001b[0;34m[\u001b[0m\u001b[0;34m'Edad'\u001b[0m\u001b[0;34m]\u001b[0m\u001b[0;34m.\u001b[0m\u001b[0mcat\u001b[0m\u001b[0;34m.\u001b[0m\u001b[0mcategories\u001b[0m\u001b[0;34m\u001b[0m\u001b[0;34m\u001b[0m\u001b[0m\n\u001b[0m",
            "\u001b[0;31mNameError\u001b[0m: name 'df' is not defined"
          ]
        }
      ]
    },
    {
      "cell_type": "code",
      "source": [
        "for val, count in df['Edad'].value_counts().items():\n",
        "  print(val, count)"
      ],
      "metadata": {
        "id": "3HCu7ejFxL3P"
      },
      "execution_count": null,
      "outputs": []
    },
    {
      "cell_type": "markdown",
      "source": [],
      "metadata": {
        "id": "OcAx7DeRwuh-"
      }
    },
    {
      "cell_type": "markdown",
      "source": [
        "## ¿Cuántos son las primas educativas en Costa Rica?"
      ],
      "metadata": {
        "id": "bOaqCKrDVNH4"
      }
    },
    {
      "cell_type": "markdown",
      "source": [
        "Scatterplot: \n",
        "* Color Educación -> También con grupos más generales\n",
        "* eje y -> edad (variable númerica)\n",
        "* eje x -> sueldo\n",
        "\n",
        "Boxplot con visualisaciones multiples\n",
        "* visualisación por nivel educativo\n",
        "* sin colores"
      ],
      "metadata": {
        "id": "Kvcb__Wya9vr"
      }
    },
    {
      "cell_type": "code",
      "source": [],
      "metadata": {
        "colab": {
          "base_uri": "https://localhost:8080/"
        },
        "id": "CgTIV_zPd3v8",
        "outputId": "1f820dcd-a2c4-4c83-e76c-b9afb79af3ee"
      },
      "execution_count": 38,
      "outputs": [
        {
          "output_type": "stream",
          "name": "stdout",
          "text": [
            "14.0 430\n",
            "12.0 412\n",
            "30.0 411\n",
            "10.0 410\n",
            "16.0 401\n",
            "18.0 393\n",
            "11.0 391\n",
            "6.0 382\n",
            "36.0 382\n",
            "13.0 379\n",
            "15.0 375\n",
            "23.0 375\n",
            "8.0 374\n",
            "9.0 371\n",
            "28.0 370\n",
            "21.0 367\n",
            "22.0 361\n",
            "35.0 360\n",
            "40.0 358\n",
            "32.0 358\n",
            "42.0 357\n",
            "17.0 353\n",
            "20.0 352\n",
            "4.0 351\n",
            "50.0 346\n",
            "19.0 346\n",
            "25.0 344\n",
            "38.0 341\n",
            "5.0 340\n",
            "33.0 337\n",
            "37.0 332\n",
            "31.0 329\n",
            "26.0 329\n",
            "3.0 326\n",
            "52.0 324\n",
            "7.0 318\n",
            "27.0 314\n",
            "34.0 314\n",
            "29.0 304\n",
            "24.0 303\n",
            "44.0 295\n",
            "39.0 291\n",
            "47.0 289\n",
            "53.0 286\n",
            "56.0 285\n",
            "45.0 284\n",
            "58.0 283\n",
            "43.0 277\n",
            "57.0 274\n",
            "54.0 273\n",
            "51.0 270\n",
            "65.0 265\n",
            "60.0 265\n",
            "41.0 261\n",
            "2.0 258\n",
            "48.0 255\n",
            "55.0 254\n",
            "49.0 245\n",
            "46.0 241\n",
            "62.0 237\n",
            "1.0 236\n",
            "63.0 234\n",
            "Menor de un año 231\n",
            "61.0 211\n",
            "59.0 207\n",
            "64.0 207\n",
            "67.0 195\n",
            "66.0 177\n",
            "68.0 170\n",
            "70.0 169\n",
            "72.0 167\n",
            "69.0 139\n",
            "73.0 138\n",
            "71.0 128\n",
            "75.0 108\n",
            "74.0 105\n",
            "76.0 101\n",
            "77.0 96\n",
            "79.0 81\n",
            "78.0 78\n",
            "82.0 72\n",
            "80.0 72\n",
            "81.0 65\n",
            "83.0 53\n",
            "84.0 52\n",
            "85.0 38\n",
            "87.0 38\n",
            "89.0 35\n",
            "88.0 31\n",
            "86.0 30\n",
            "90.0 29\n",
            "93.0 18\n",
            "91.0 13\n",
            "97 años y más 12\n",
            "92.0 10\n",
            "94.0 10\n",
            "96.0 8\n",
            "95.0 6\n",
            "Mayor de 15 años con edad ignorada 6\n"
          ]
        }
      ]
    },
    {
      "cell_type": "code",
      "source": [
        "df.loc[\n",
        "    (\n",
        "        (df['Edad']!='Mayor de 15 años con edad ignorada')\n",
        "        & (df['Edad']!='97 años y más 12')\n",
        "        & (df['Edad']!='Menor de un año') \n",
        "    ), ['Grupo_edad', 'Edad']]"
      ],
      "metadata": {
        "colab": {
          "base_uri": "https://localhost:8080/",
          "height": 424
        },
        "id": "F5ujgXnkVwuO",
        "outputId": "4ba5d6ee-2419-4dd9-f7a9-2e860a9cac09"
      },
      "execution_count": 40,
      "outputs": [
        {
          "output_type": "execute_result",
          "data": {
            "text/plain": [
              "         Grupo_edad  Edad\n",
              "0          60 y más  92.0\n",
              "1      45 a 59 años  54.0\n",
              "2          60 y más  80.0\n",
              "3      45 a 59 años  59.0\n",
              "4      35 a 44 años  44.0\n",
              "...             ...   ...\n",
              "23479           NaN  14.0\n",
              "23480           NaN  11.0\n",
              "23481           NaN   5.0\n",
              "23482      60 y más  91.0\n",
              "23483  45 a 59 años  58.0\n",
              "\n",
              "[23247 rows x 2 columns]"
            ],
            "text/html": [
              "\n",
              "  <div id=\"df-4de2e7b0-c524-4976-ae30-1b7ec5dd8e64\">\n",
              "    <div class=\"colab-df-container\">\n",
              "      <div>\n",
              "<style scoped>\n",
              "    .dataframe tbody tr th:only-of-type {\n",
              "        vertical-align: middle;\n",
              "    }\n",
              "\n",
              "    .dataframe tbody tr th {\n",
              "        vertical-align: top;\n",
              "    }\n",
              "\n",
              "    .dataframe thead th {\n",
              "        text-align: right;\n",
              "    }\n",
              "</style>\n",
              "<table border=\"1\" class=\"dataframe\">\n",
              "  <thead>\n",
              "    <tr style=\"text-align: right;\">\n",
              "      <th></th>\n",
              "      <th>Grupo_edad</th>\n",
              "      <th>Edad</th>\n",
              "    </tr>\n",
              "  </thead>\n",
              "  <tbody>\n",
              "    <tr>\n",
              "      <th>0</th>\n",
              "      <td>60 y más</td>\n",
              "      <td>92.0</td>\n",
              "    </tr>\n",
              "    <tr>\n",
              "      <th>1</th>\n",
              "      <td>45 a 59 años</td>\n",
              "      <td>54.0</td>\n",
              "    </tr>\n",
              "    <tr>\n",
              "      <th>2</th>\n",
              "      <td>60 y más</td>\n",
              "      <td>80.0</td>\n",
              "    </tr>\n",
              "    <tr>\n",
              "      <th>3</th>\n",
              "      <td>45 a 59 años</td>\n",
              "      <td>59.0</td>\n",
              "    </tr>\n",
              "    <tr>\n",
              "      <th>4</th>\n",
              "      <td>35 a 44 años</td>\n",
              "      <td>44.0</td>\n",
              "    </tr>\n",
              "    <tr>\n",
              "      <th>...</th>\n",
              "      <td>...</td>\n",
              "      <td>...</td>\n",
              "    </tr>\n",
              "    <tr>\n",
              "      <th>23479</th>\n",
              "      <td>NaN</td>\n",
              "      <td>14.0</td>\n",
              "    </tr>\n",
              "    <tr>\n",
              "      <th>23480</th>\n",
              "      <td>NaN</td>\n",
              "      <td>11.0</td>\n",
              "    </tr>\n",
              "    <tr>\n",
              "      <th>23481</th>\n",
              "      <td>NaN</td>\n",
              "      <td>5.0</td>\n",
              "    </tr>\n",
              "    <tr>\n",
              "      <th>23482</th>\n",
              "      <td>60 y más</td>\n",
              "      <td>91.0</td>\n",
              "    </tr>\n",
              "    <tr>\n",
              "      <th>23483</th>\n",
              "      <td>45 a 59 años</td>\n",
              "      <td>58.0</td>\n",
              "    </tr>\n",
              "  </tbody>\n",
              "</table>\n",
              "<p>23247 rows × 2 columns</p>\n",
              "</div>\n",
              "      <button class=\"colab-df-convert\" onclick=\"convertToInteractive('df-4de2e7b0-c524-4976-ae30-1b7ec5dd8e64')\"\n",
              "              title=\"Convert this dataframe to an interactive table.\"\n",
              "              style=\"display:none;\">\n",
              "        \n",
              "  <svg xmlns=\"http://www.w3.org/2000/svg\" height=\"24px\"viewBox=\"0 0 24 24\"\n",
              "       width=\"24px\">\n",
              "    <path d=\"M0 0h24v24H0V0z\" fill=\"none\"/>\n",
              "    <path d=\"M18.56 5.44l.94 2.06.94-2.06 2.06-.94-2.06-.94-.94-2.06-.94 2.06-2.06.94zm-11 1L8.5 8.5l.94-2.06 2.06-.94-2.06-.94L8.5 2.5l-.94 2.06-2.06.94zm10 10l.94 2.06.94-2.06 2.06-.94-2.06-.94-.94-2.06-.94 2.06-2.06.94z\"/><path d=\"M17.41 7.96l-1.37-1.37c-.4-.4-.92-.59-1.43-.59-.52 0-1.04.2-1.43.59L10.3 9.45l-7.72 7.72c-.78.78-.78 2.05 0 2.83L4 21.41c.39.39.9.59 1.41.59.51 0 1.02-.2 1.41-.59l7.78-7.78 2.81-2.81c.8-.78.8-2.07 0-2.86zM5.41 20L4 18.59l7.72-7.72 1.47 1.35L5.41 20z\"/>\n",
              "  </svg>\n",
              "      </button>\n",
              "      \n",
              "  <style>\n",
              "    .colab-df-container {\n",
              "      display:flex;\n",
              "      flex-wrap:wrap;\n",
              "      gap: 12px;\n",
              "    }\n",
              "\n",
              "    .colab-df-convert {\n",
              "      background-color: #E8F0FE;\n",
              "      border: none;\n",
              "      border-radius: 50%;\n",
              "      cursor: pointer;\n",
              "      display: none;\n",
              "      fill: #1967D2;\n",
              "      height: 32px;\n",
              "      padding: 0 0 0 0;\n",
              "      width: 32px;\n",
              "    }\n",
              "\n",
              "    .colab-df-convert:hover {\n",
              "      background-color: #E2EBFA;\n",
              "      box-shadow: 0px 1px 2px rgba(60, 64, 67, 0.3), 0px 1px 3px 1px rgba(60, 64, 67, 0.15);\n",
              "      fill: #174EA6;\n",
              "    }\n",
              "\n",
              "    [theme=dark] .colab-df-convert {\n",
              "      background-color: #3B4455;\n",
              "      fill: #D2E3FC;\n",
              "    }\n",
              "\n",
              "    [theme=dark] .colab-df-convert:hover {\n",
              "      background-color: #434B5C;\n",
              "      box-shadow: 0px 1px 3px 1px rgba(0, 0, 0, 0.15);\n",
              "      filter: drop-shadow(0px 1px 2px rgba(0, 0, 0, 0.3));\n",
              "      fill: #FFFFFF;\n",
              "    }\n",
              "  </style>\n",
              "\n",
              "      <script>\n",
              "        const buttonEl =\n",
              "          document.querySelector('#df-4de2e7b0-c524-4976-ae30-1b7ec5dd8e64 button.colab-df-convert');\n",
              "        buttonEl.style.display =\n",
              "          google.colab.kernel.accessAllowed ? 'block' : 'none';\n",
              "\n",
              "        async function convertToInteractive(key) {\n",
              "          const element = document.querySelector('#df-4de2e7b0-c524-4976-ae30-1b7ec5dd8e64');\n",
              "          const dataTable =\n",
              "            await google.colab.kernel.invokeFunction('convertToInteractive',\n",
              "                                                     [key], {});\n",
              "          if (!dataTable) return;\n",
              "\n",
              "          const docLinkHtml = 'Like what you see? Visit the ' +\n",
              "            '<a target=\"_blank\" href=https://colab.research.google.com/notebooks/data_table.ipynb>data table notebook</a>'\n",
              "            + ' to learn more about interactive tables.';\n",
              "          element.innerHTML = '';\n",
              "          dataTable['output_type'] = 'display_data';\n",
              "          await google.colab.output.renderOutput(dataTable, element);\n",
              "          const docLink = document.createElement('div');\n",
              "          docLink.innerHTML = docLinkHtml;\n",
              "          element.appendChild(docLink);\n",
              "        }\n",
              "      </script>\n",
              "    </div>\n",
              "  </div>\n",
              "  "
            ]
          },
          "metadata": {},
          "execution_count": 40
        }
      ]
    },
    {
      "cell_type": "code",
      "source": [],
      "metadata": {
        "colab": {
          "base_uri": "https://localhost:8080/"
        },
        "id": "vBvMRNZTa6Zo",
        "outputId": "f972dd1d-874b-400b-bb3e-38eaf634b7c9"
      },
      "execution_count": 32,
      "outputs": [
        {
          "output_type": "stream",
          "name": "stdout",
          "text": [
            "14.0 430\n",
            "12.0 412\n",
            "30.0 411\n",
            "10.0 410\n",
            "16.0 401\n",
            "18.0 393\n",
            "11.0 391\n",
            "6.0 382\n",
            "36.0 382\n",
            "13.0 379\n",
            "15.0 375\n",
            "23.0 375\n",
            "8.0 374\n",
            "9.0 371\n",
            "28.0 370\n",
            "21.0 367\n",
            "22.0 361\n",
            "35.0 360\n",
            "40.0 358\n",
            "32.0 358\n",
            "42.0 357\n",
            "17.0 353\n",
            "20.0 352\n",
            "4.0 351\n",
            "50.0 346\n",
            "19.0 346\n",
            "25.0 344\n",
            "38.0 341\n",
            "5.0 340\n",
            "33.0 337\n",
            "37.0 332\n",
            "31.0 329\n",
            "26.0 329\n",
            "3.0 326\n",
            "52.0 324\n",
            "7.0 318\n",
            "27.0 314\n",
            "34.0 314\n",
            "29.0 304\n",
            "24.0 303\n",
            "44.0 295\n",
            "39.0 291\n",
            "47.0 289\n",
            "53.0 286\n",
            "56.0 285\n",
            "45.0 284\n",
            "58.0 283\n",
            "43.0 277\n",
            "57.0 274\n",
            "54.0 273\n",
            "51.0 270\n",
            "65.0 265\n",
            "60.0 265\n",
            "41.0 261\n",
            "2.0 258\n",
            "48.0 255\n",
            "55.0 254\n",
            "49.0 245\n",
            "46.0 241\n",
            "62.0 237\n",
            "1.0 236\n",
            "63.0 234\n",
            "Menor de un año 231\n",
            "61.0 211\n",
            "59.0 207\n",
            "64.0 207\n",
            "67.0 195\n",
            "66.0 177\n",
            "68.0 170\n",
            "70.0 169\n",
            "72.0 167\n",
            "69.0 139\n",
            "73.0 138\n",
            "71.0 128\n",
            "75.0 108\n",
            "74.0 105\n",
            "76.0 101\n",
            "77.0 96\n",
            "79.0 81\n",
            "78.0 78\n",
            "82.0 72\n",
            "80.0 72\n",
            "81.0 65\n",
            "83.0 53\n",
            "84.0 52\n",
            "85.0 38\n",
            "87.0 38\n",
            "89.0 35\n",
            "88.0 31\n",
            "86.0 30\n",
            "90.0 29\n",
            "93.0 18\n",
            "91.0 13\n",
            "97 años y más 12\n",
            "92.0 10\n",
            "94.0 10\n",
            "96.0 8\n",
            "95.0 6\n",
            "Mayor de 15 años con edad ignorada 6\n"
          ]
        }
      ]
    },
    {
      "cell_type": "code",
      "source": [
        "vars(df['Edad'].value_counts())"
      ],
      "metadata": {
        "colab": {
          "base_uri": "https://localhost:8080/"
        },
        "id": "aRe0LunZb84E",
        "outputId": "f07e9109-cbbc-4381-9f98-74cbf1894fb6"
      },
      "execution_count": 25,
      "outputs": [
        {
          "output_type": "execute_result",
          "data": {
            "text/plain": [
              "{'_is_copy': None,\n",
              " '_mgr': SingleBlockManager\n",
              " Items: CategoricalIndex([14.0, 12.0, 30.0, 10.0, 16.0, 18.0, 11.0, 6.0, 36.0, 13.0,\n",
              "                   15.0, 23.0, 8.0, 9.0, 28.0, 21.0, 22.0, 35.0, 40.0, 32.0,\n",
              "                   42.0, 17.0, 20.0, 4.0, 50.0, 19.0, 25.0, 38.0, 5.0, 33.0,\n",
              "                   37.0, 31.0, 26.0, 3.0, 52.0, 7.0, 27.0, 34.0, 29.0, 24.0,\n",
              "                   44.0, 39.0, 47.0, 53.0, 56.0, 45.0, 58.0, 43.0, 57.0, 54.0,\n",
              "                   51.0, 65.0, 60.0, 41.0, 2.0, 48.0, 55.0, 49.0, 46.0, 62.0,\n",
              "                   1.0, 63.0, 'Menor de un año', 61.0, 59.0, 64.0, 67.0, 66.0,\n",
              "                   68.0, 70.0, 72.0, 69.0, 73.0, 71.0, 75.0, 74.0, 76.0, 77.0,\n",
              "                   79.0, 78.0, 82.0, 80.0, 81.0, 83.0, 84.0, 85.0, 87.0, 89.0,\n",
              "                   88.0, 86.0, 90.0, 93.0, 91.0, '97 años y más', 92.0, 94.0,\n",
              "                   96.0, 95.0, 'Mayor de 15 años con edad ignorada'],\n",
              "                  categories=[1.0, 2.0, 3.0, 4.0, ..., 96.0, '97 años y más', 'Mayor de 15 años con edad ignorada', 'Menor de un año'], ordered=False, dtype='category')\n",
              " NumericBlock: 99 dtype: int64,\n",
              " '_item_cache': {},\n",
              " '_attrs': {},\n",
              " '_flags': <Flags(allows_duplicate_labels=True)>,\n",
              " '_name': 'Edad'}"
            ]
          },
          "metadata": {},
          "execution_count": 25
        }
      ]
    },
    {
      "cell_type": "code",
      "source": [
        "df['Edad'].value_counts().items()"
      ],
      "metadata": {
        "colab": {
          "base_uri": "https://localhost:8080/"
        },
        "id": "AiwbAzTxcuvC",
        "outputId": "699f5538-5581-4eb0-da8e-64eecfc0eb45"
      },
      "execution_count": 31,
      "outputs": [
        {
          "output_type": "execute_result",
          "data": {
            "text/plain": [
              "<zip at 0x7f96d6133d40>"
            ]
          },
          "metadata": {},
          "execution_count": 31
        }
      ]
    },
    {
      "cell_type": "code",
      "source": [],
      "metadata": {
        "id": "8uTfx2YWdIPy"
      },
      "execution_count": null,
      "outputs": []
    }
  ]
}