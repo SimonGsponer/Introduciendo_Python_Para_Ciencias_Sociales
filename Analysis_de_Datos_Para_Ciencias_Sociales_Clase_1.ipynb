{
  "nbformat": 4,
  "nbformat_minor": 0,
  "metadata": {
    "colab": {
      "provenance": [],
      "toc_visible": true,
      "authorship_tag": "ABX9TyP+PKkMCk7xzhM81xAbTk+8",
      "include_colab_link": true
    },
    "kernelspec": {
      "name": "python3",
      "display_name": "Python 3"
    },
    "language_info": {
      "name": "python"
    }
  },
  "cells": [
    {
      "cell_type": "markdown",
      "metadata": {
        "id": "view-in-github",
        "colab_type": "text"
      },
      "source": [
        "<a href=\"https://colab.research.google.com/github/SimonGsponer/Introduciendo_Python_Para_Ciencias_Sociales/blob/main/Analysis_de_Datos_Para_Ciencias_Sociales_Clase_1.ipynb\" target=\"_parent\"><img src=\"https://colab.research.google.com/assets/colab-badge.svg\" alt=\"Open In Colab\"/></a>"
      ]
    },
    {
      "cell_type": "markdown",
      "source": [
        "# Introducción a Análisis de Datos Para Ciencias Sociales\n",
        "\n",
        "En esta clase vamos a aprender los primeros pasos para analisar un conjunto de datos con el módulo `pandas`\n",
        "\n",
        "**Enlaces Importantes**:\n",
        "* [Documentación Pandas](https://pandas.pydata.org/pandas-docs/version/1.5/reference/api/pandas.Series.values.html) -> asegúrese de que uses la versión correcta de la documentación\n",
        "* [Guía del usario oficial de Pandas](https://pandas.pydata.org/docs/user_guide/index.html)"
      ],
      "metadata": {
        "id": "N44SZ-Cr9s_5"
      }
    },
    {
      "cell_type": "markdown",
      "source": [
        "# 1.0 Primeros Pasitos"
      ],
      "metadata": {
        "id": "qkVnoWPtUxkg"
      }
    },
    {
      "cell_type": "markdown",
      "source": [
        "## Trabajando con nuestro primer DataFrame"
      ],
      "metadata": {
        "id": "C2LLMoJhHvUz"
      }
    },
    {
      "cell_type": "code",
      "source": [
        "import pandas as pd"
      ],
      "metadata": {
        "id": "mXXlCDkeATCw"
      },
      "execution_count": null,
      "outputs": []
    },
    {
      "cell_type": "code",
      "source": [
        "# para nuestros primeros pasitos con pandas, vamos a usar un conjunto de datos artificial que definimos más abajo\n",
        "\n",
        "filas = [\n",
        "    (35, 'M', 5_000_000, False),\n",
        "    (18, 'F', 10_000_000, True),\n",
        "    (25, 'F', 7_000_000, True),\n",
        "    (40, 'M', 3_000_000, False),\n",
        "    (22, 'F', 10_000_000, False),\n",
        "    (21, 'F', 2_000_000, False)\n",
        "]\n",
        "\n",
        "columnas = ['edad', 'sexo', 'sueldo_anual', 'habla_inglés']\n",
        "\n",
        "df = pd.DataFrame(data=filas, columns=columnas)\n",
        "\n",
        "print(df)"
      ],
      "metadata": {
        "id": "Fyjdxof0_Mpn",
        "colab": {
          "base_uri": "https://localhost:8080/"
        },
        "outputId": "32025df6-d3fc-4eca-cf99-0b6f1143690d"
      },
      "execution_count": null,
      "outputs": [
        {
          "output_type": "stream",
          "name": "stdout",
          "text": [
            "   edad sexo  sueldo_anual  habla_inglés\n",
            "0    35    M       5000000         False\n",
            "1    18    F      10000000          True\n",
            "2    25    F       7000000          True\n",
            "3    40    M       3000000         False\n",
            "4    22    F      10000000         False\n",
            "5    21    F       2000000         False\n"
          ]
        }
      ]
    },
    {
      "cell_type": "markdown",
      "source": [
        "Ahora, necesitamos familiarizarnos con 3 conceptos importantes:\n",
        "* **Índice:** Son los números de 0 a 5 al lado izquierdo. En este ejemplo tenemos un índice numérico, pero un índice también puede ser un número de identificación, una marca de tiempo o cualquier información que identifique solamente una (!) fila.\n",
        "* **Serie:** Una columna sola se llama `serie` en pandas. `edad` es una serie, y por supuesto `sexo`, `sueldo_anual` y `habla_inglés` también.\n",
        "* **DataFrame:** El dataframe es el índice y todas las series juntos, constituyendo el conjunto de datos.\n",
        "\n",
        "En general, estos objetos (`Índice`, `Serie`, `DataFrame`) tienen 'herramientas' (término correcto será métodos) y informaciones de si mismo (atributos) diferentes, así es muy importante saber cuando usted está trabajando con cual."
      ],
      "metadata": {
        "id": "edvcdcNFB_ze"
      }
    },
    {
      "cell_type": "markdown",
      "source": [
        "## DataFrame Slicing\n",
        "\n",
        "DataFrame slicing es el proceso de seleccionar ciertas filas y columnas de un DataFrame. Para la selección se puede usar dos métodos del DataFrame: `loc` (seleccionando filas/columnas por valores) y `iloc` (seleccionando filas/columnas por su posición). \n",
        "\n",
        "Los métodos .loc y .iloc se invocan usando corchetes y necesitan dos informaciones: la selección deseada de las filas y la selección deseade de columnas."
      ],
      "metadata": {
        "id": "QfCXEMt7Ho3y"
      }
    },
    {
      "cell_type": "markdown",
      "source": [
        "**`.loc`**"
      ],
      "metadata": {
        "id": "8fiv4YL1LT1G"
      }
    },
    {
      "cell_type": "code",
      "source": [
        "sub_df = df.loc[:,:] # : significa \"todo\", o sea sub_df contiene todas filas y todas columnas\n",
        "print(sub_df)"
      ],
      "metadata": {
        "colab": {
          "base_uri": "https://localhost:8080/"
        },
        "id": "AvxwuqZlASHE",
        "outputId": "879d7dae-1241-45d2-a55b-f02f8858bf1f"
      },
      "execution_count": null,
      "outputs": [
        {
          "output_type": "stream",
          "name": "stdout",
          "text": [
            "   edad sexo  sueldo_anual  habla_inglés\n",
            "0    35    M       5000000         False\n",
            "1    18    F      10000000          True\n",
            "2    25    F       7000000          True\n",
            "3    40    M       3000000         False\n",
            "4    22    F      10000000         False\n",
            "5    21    F       2000000         False\n"
          ]
        }
      ]
    },
    {
      "cell_type": "code",
      "source": [
        "sub_df = df.loc[[2,3], :] # selecciona las filas que tienen el valor de índice 2 y 3, y todas columnas\n",
        "print(sub_df)"
      ],
      "metadata": {
        "colab": {
          "base_uri": "https://localhost:8080/"
        },
        "id": "-uaADMvLKjot",
        "outputId": "153c6067-b46e-4650-9f11-e1488e41ae17"
      },
      "execution_count": null,
      "outputs": [
        {
          "output_type": "stream",
          "name": "stdout",
          "text": [
            "   edad sexo  sueldo_anual  habla_inglés\n",
            "2    25    F       7000000          True\n",
            "3    40    M       3000000         False\n"
          ]
        }
      ]
    },
    {
      "cell_type": "code",
      "source": [
        "sub_df = df.loc[:, ['edad', 'sueldo_anual']] # selecciona todas filas pero solamente las columnas 'edad' y 'sueldo_anual'\n",
        "print(sub_df)"
      ],
      "metadata": {
        "colab": {
          "base_uri": "https://localhost:8080/"
        },
        "id": "8Ul_IohZKjmt",
        "outputId": "49b212a7-aa69-46e0-cf54-03e8bbe16d1e"
      },
      "execution_count": null,
      "outputs": [
        {
          "output_type": "stream",
          "name": "stdout",
          "text": [
            "   edad  sueldo_anual\n",
            "0    35       5000000\n",
            "1    18      10000000\n",
            "2    25       7000000\n",
            "3    40       3000000\n",
            "4    22      10000000\n",
            "5    21       2000000\n"
          ]
        }
      ]
    },
    {
      "cell_type": "code",
      "source": [
        "sub_df = df.loc[~df.index.isin([2,3]), ['edad']] # selecciona todas filas aparte de aquellas que tienen el valor de índice 2 & 3; selecciona la columna edad\n",
        "print(sub_df)"
      ],
      "metadata": {
        "colab": {
          "base_uri": "https://localhost:8080/"
        },
        "id": "NdVI79EcKjj4",
        "outputId": "a73a96b5-86f7-421d-9381-dbc7080fa441"
      },
      "execution_count": null,
      "outputs": [
        {
          "output_type": "stream",
          "name": "stdout",
          "text": [
            "   edad\n",
            "0    35\n",
            "1    18\n",
            "4    22\n",
            "5    21\n"
          ]
        }
      ]
    },
    {
      "cell_type": "code",
      "source": [
        "sub_df = df.loc[df['edad'].gt(35), :] # selecciona todas filas donde la persona tiene más de 35 años\n",
        "print(sub_df)"
      ],
      "metadata": {
        "colab": {
          "base_uri": "https://localhost:8080/"
        },
        "id": "9FV9xyKrpOyS",
        "outputId": "05c849df-b9e6-4ef6-9b6d-6e4058d0a3c5"
      },
      "execution_count": null,
      "outputs": [
        {
          "output_type": "stream",
          "name": "stdout",
          "text": [
            "   edad sexo  sueldo_anual  habla_inglés\n",
            "0    35    M       5000000         False\n",
            "1    18    F      10000000          True\n",
            "2    25    F       7000000          True\n",
            "4    22    F      10000000         False\n",
            "5    21    F       2000000         False\n"
          ]
        }
      ]
    },
    {
      "cell_type": "code",
      "source": [
        "sub_df = df.loc[\n",
        "    (\n",
        "        (df['edad'].gt(24))\n",
        "        & (df['sueldo_anual'].ge(5_000_000))\n",
        "    ), :] # selecciona todas filas donde la persona tiene más de 24 años y gana 5,000,000 colones o más\n",
        "print(sub_df)"
      ],
      "metadata": {
        "colab": {
          "base_uri": "https://localhost:8080/"
        },
        "id": "D2-j87YKpfpp",
        "outputId": "ec0cb811-1509-4762-bc9f-b5c3fc58ba0b"
      },
      "execution_count": null,
      "outputs": [
        {
          "output_type": "stream",
          "name": "stdout",
          "text": [
            "   edad sexo  sueldo_anual  habla_inglés\n",
            "2    25    F       7000000          True\n",
            "0    35    M       5000000         False\n"
          ]
        }
      ]
    },
    {
      "cell_type": "markdown",
      "source": [
        "**`.iloc`**\n",
        "\n",
        "Para entender mejor la diferencia entre el valor del índice y la posición de la fila, vamos a mezclar nuestro DataFrame."
      ],
      "metadata": {
        "id": "BF48gX9iLY4M"
      }
    },
    {
      "cell_type": "code",
      "source": [
        "df = df.sample(frac=1) # hacemos una muestra del conjunto de datos y usamos 100% del conjunto como muestra\n",
        "print(df)"
      ],
      "metadata": {
        "colab": {
          "base_uri": "https://localhost:8080/"
        },
        "id": "U6EJxc0NKjbt",
        "outputId": "b060126f-5b96-4055-d961-3f809fc691ba"
      },
      "execution_count": null,
      "outputs": [
        {
          "output_type": "stream",
          "name": "stdout",
          "text": [
            "   edad sexo  sueldo_anual  habla_inglés\n",
            "1    18    F      10000000          True\n",
            "0    35    M       5000000         False\n",
            "4    22    F      10000000         False\n",
            "2    25    F       7000000          True\n",
            "5    21    F       2000000         False\n",
            "3    40    M       3000000         False\n"
          ]
        }
      ]
    },
    {
      "cell_type": "code",
      "source": [
        "sub_df = df.iloc[[1],[1]] # selecciona la segunda fila y la segunda columna; IMPORTANTE: los índices en python empiezan a 0!\n",
        "print(sub_df)"
      ],
      "metadata": {
        "colab": {
          "base_uri": "https://localhost:8080/"
        },
        "id": "TyXO_ZtYKjNo",
        "outputId": "95eb0bd4-66f2-41a2-fc1b-8b4ffe239340"
      },
      "execution_count": null,
      "outputs": [
        {
          "output_type": "stream",
          "name": "stdout",
          "text": [
            "  sexo\n",
            "0    M\n"
          ]
        }
      ]
    },
    {
      "cell_type": "code",
      "source": [
        "sub_df = df.iloc[1:4, 1:2] # nota: especificando rangos (selecciona segunda fila hasta la cuarta) no require corchetes dentro las corchetes principales\n",
        "print(sub_df)\n"
      ],
      "metadata": {
        "colab": {
          "base_uri": "https://localhost:8080/"
        },
        "id": "QmI5EEGfk-t7",
        "outputId": "58edf417-59ad-4c55-c235-741c179cf4ca"
      },
      "execution_count": null,
      "outputs": [
        {
          "output_type": "stream",
          "name": "stdout",
          "text": [
            "  sexo\n",
            "0    M\n",
            "4    F\n",
            "2    F\n"
          ]
        }
      ]
    },
    {
      "cell_type": "markdown",
      "source": [
        "## Agregaciones y Agrupaciones\n",
        "\n",
        "Sin análisis adicional, solamente filtrar datos no sirve mucho. Por eso, vamos a ver como se puede aggregar datos para obtener la media, suma, etc."
      ],
      "metadata": {
        "id": "Xrz7i6YrmiJ0"
      }
    },
    {
      "cell_type": "code",
      "source": [
        "edad_promedio = df.loc[df['sexo']=='F',['edad']].mean() # la edad promedio de las mujeres en nuestro conjunto de datos\n",
        "print(edad_promedio)"
      ],
      "metadata": {
        "colab": {
          "base_uri": "https://localhost:8080/"
        },
        "id": "TX7XyTNHmmzc",
        "outputId": "6882b4e6-361d-4b34-da1c-982e0d17a513"
      },
      "execution_count": null,
      "outputs": [
        {
          "output_type": "stream",
          "name": "stdout",
          "text": [
            "edad    21.5\n",
            "dtype: float64\n"
          ]
        }
      ]
    },
    {
      "cell_type": "code",
      "source": [
        "agg_df = df.loc[df['sexo']=='F', :].agg({'edad': 'mean', 'sueldo_anual': 'sum'}) # con agg podemos especificar más aggregaciones a la vez\n",
        "print(agg_df)"
      ],
      "metadata": {
        "colab": {
          "base_uri": "https://localhost:8080/"
        },
        "id": "9U1rweqFmmxL",
        "outputId": "ed09f902-5bcd-4188-f25b-4b05fc27f6cd"
      },
      "execution_count": null,
      "outputs": [
        {
          "output_type": "stream",
          "name": "stdout",
          "text": [
            "edad                  21.5\n",
            "sueldo_anual    29000000.0\n",
            "dtype: float64\n"
          ]
        }
      ]
    },
    {
      "cell_type": "code",
      "source": [
        "agg_df = (\n",
        "    df\n",
        "    .groupby(['sexo'])\n",
        "    .agg(\n",
        "          {\n",
        "            'edad': 'mean',\n",
        "            'sueldo_anual': ['sum', 'max', 'min']\n",
        "           }\n",
        "         )\n",
        "    ) # usamos 'groupby' para obtener las mismas agregaciones para chicos también\n",
        "\n",
        "print(agg_df)"
      ],
      "metadata": {
        "colab": {
          "base_uri": "https://localhost:8080/"
        },
        "id": "7zLgmdGVmmlV",
        "outputId": "044481bf-0ed5-406a-c8d4-28613dba629b"
      },
      "execution_count": null,
      "outputs": [
        {
          "output_type": "stream",
          "name": "stdout",
          "text": [
            "      edad sueldo_anual                   \n",
            "      mean          sum       max      min\n",
            "sexo                                      \n",
            "F     21.5     29000000  10000000  2000000\n",
            "M     37.5      8000000   5000000  3000000\n"
          ]
        }
      ]
    },
    {
      "cell_type": "markdown",
      "source": [
        "## Práctica de Capítulo 1.0\n",
        "\n",
        "Para la práctica, use el dataframe `practica_df` que se define más abajo"
      ],
      "metadata": {
        "id": "hDZ9zuG4Ujk7"
      }
    },
    {
      "cell_type": "code",
      "source": [
        "import numpy as np"
      ],
      "metadata": {
        "id": "cqAPOTPTXT3i"
      },
      "execution_count": null,
      "outputs": []
    },
    {
      "cell_type": "code",
      "source": [
        "# para nuestros primeros pasitos con pandas, vamos a usar un conjunto de datos artificial que definimos más abajo\n",
        "\n",
        "filas = [\n",
        "    (1980, 'M', 500_000, 200, np.NaN),\n",
        "    (2001, 'F', 400_000, 180, 7),\n",
        "    (1995, 'F', 300_000, np.NaN, 6),\n",
        "    (2004, 'M', 700_000, 150, 5),\n",
        "    (1992, 'F', 1_000_000, 250, 12),\n",
        "    (1985, 'F', np.NaN, np.NaN, 8),\n",
        "    (1998, 'M', 350_000, 7, 10),\n",
        "    (1997, 'F', 800_000, 9, 9)\n",
        "]\n",
        "\n",
        "columnas = ['fecha_de_nacimiento', 'sexo', 'sueldo_mensual', 'n_dias_de_trabajo_anual', 'n_horas_por_dia']\n",
        "\n",
        "practica_df = pd.DataFrame(data=filas, columns=columnas)"
      ],
      "metadata": {
        "id": "-ID3VrDDWXO9"
      },
      "execution_count": null,
      "outputs": []
    },
    {
      "cell_type": "code",
      "source": [
        "print(practica_df)"
      ],
      "metadata": {
        "colab": {
          "base_uri": "https://localhost:8080/"
        },
        "id": "KG1iUfaxA96y",
        "outputId": "2887ebef-f63b-4827-bf88-1dd1eb9eae70"
      },
      "execution_count": null,
      "outputs": [
        {
          "output_type": "stream",
          "name": "stdout",
          "text": [
            "   fecha_de_nacimiento sexo  sueldo_mensual  n_dias_de_trabajo_anual  \\\n",
            "0                 1980    M   500000.000000                    200.0   \n",
            "1                 2001    F   400000.000000                    180.0   \n",
            "2                 1995    F   300000.000000                      NaN   \n",
            "3                 2004    M   700000.000000                    150.0   \n",
            "4                 1992    F  1000000.000000                    250.0   \n",
            "5                 1985    F   578571.428571                      NaN   \n",
            "6                 1998    M   350000.000000                      7.0   \n",
            "7                 1997    F   800000.000000                      9.0   \n",
            "\n",
            "   n_horas_por_dia  sueldo_anual  edad  n_horas_por_año  \n",
            "0              NaN  6.000000e+06    42              NaN  \n",
            "1              7.0  4.800000e+06    21           1260.0  \n",
            "2              6.0  3.600000e+06    27              NaN  \n",
            "3              5.0  8.400000e+06    18            750.0  \n",
            "4             12.0  1.200000e+07    30           3000.0  \n",
            "5              8.0  6.942857e+06    37              NaN  \n",
            "6             10.0  4.200000e+06    24             70.0  \n",
            "7              9.0  9.600000e+06    25             81.0  \n"
          ]
        }
      ]
    },
    {
      "cell_type": "code",
      "source": [
        "# 1.1 Cree una columna nueva que contiene el salario anual con el nombre `salario_anual`.\n",
        "# Truco: acuérdese de las operaciones matemáticas básicas\n",
        "\n",
        "practica_df['sueldo_anual'] = practica_df['sueldo_mensual'] * 12"
      ],
      "metadata": {
        "id": "hkRq3ON1BC3t"
      },
      "execution_count": null,
      "outputs": []
    },
    {
      "cell_type": "code",
      "source": [
        "# 1.2 Cree una columna nueva que contiene el edad de las personas encuestadas.\n",
        "# Supongamos que estos datos hayan sido coleccionado en el año 2022.\n",
        "\n",
        "practica_df['edad'] = 2022 - practica_df['fecha_de_nacimiento']"
      ],
      "metadata": {
        "id": "HwOnPeOPCQ9Z"
      },
      "execution_count": null,
      "outputs": []
    },
    {
      "cell_type": "code",
      "source": [
        "# 1.3 El conjuncto de datos lleva la información del total de los dias que las personas trabajan\n",
        "# por año y el número de horas que trabajan en promedio. Use esta información para calcular el número de horas\n",
        "# que trabajan en total por año.\n",
        "\n",
        "practica_df['n_horas_por_año'] = practica_df['n_dias_de_trabajo_anual'] * practica_df['n_horas_por_dia']"
      ],
      "metadata": {
        "id": "oQtovaYvCp_B"
      },
      "execution_count": null,
      "outputs": []
    },
    {
      "cell_type": "code",
      "source": [],
      "metadata": {
        "colab": {
          "base_uri": "https://localhost:8080/"
        },
        "id": "N6biZWrfFD37",
        "outputId": "edb6078b-f306-4aa9-e88d-e238470c309a"
      },
      "execution_count": null,
      "outputs": [
        {
          "output_type": "execute_result",
          "data": {
            "text/plain": [
              "578571.4285714285"
            ]
          },
          "metadata": {},
          "execution_count": 15
        }
      ]
    },
    {
      "cell_type": "code",
      "source": [
        "# 1.4 Calcule el sueldo promedio de las personas en el conjunto de datos\n",
        "\n",
        "agg_df = (\n",
        "    practica_df\n",
        "    .agg(\n",
        "          {\n",
        "            'sueldo_anual': 'mean',\n",
        "            'sueldo_mensual': 'mean'\n",
        "           }\n",
        "         )\n",
        "    ) # usamos 'groupby' para obtener las mismas agregaciones para chicos también\n",
        "\n",
        "print(agg_df)"
      ],
      "metadata": {
        "colab": {
          "base_uri": "https://localhost:8080/"
        },
        "id": "YmgJcNq-Dxf0",
        "outputId": "55cc1c3d-6b09-44c8-98ed-52da76cc6a58"
      },
      "execution_count": null,
      "outputs": [
        {
          "output_type": "stream",
          "name": "stdout",
          "text": [
            "sueldo_anual      6.942857e+06\n",
            "sueldo_mensual    5.785714e+05\n",
            "dtype: float64\n"
          ]
        }
      ]
    },
    {
      "cell_type": "code",
      "source": [
        "# 1.5 Use el promedio sueldo para remplazar las observaciones que faltan (los np.NaN).\n",
        "# Hágalo para las dos columnas conteniendo información del sueldo\n",
        "\n",
        "promedio_sueldo_mensual = practica_df['sueldo_mensual'].mean()\n",
        "promedio_sueldo_anual = practica_df['sueldo_anual'].mean()\n",
        "\n",
        "practica_df['sueldo_mensual'].fillna(\n",
        "    value=promedio_sueldo_mensual,\n",
        "    inplace=True\n",
        ")\n",
        "\n",
        "practica_df['sueldo_anual'] = practica_df['sueldo_anual'].fillna(\n",
        "    value=promedio_sueldo_anual,\n",
        "    inplace=False\n",
        ")"
      ],
      "metadata": {
        "id": "38lGP1e0Hnlr"
      },
      "execution_count": null,
      "outputs": []
    },
    {
      "cell_type": "code",
      "source": [
        "# 1.6 ¿Qué hace la palabra clave `inplace` en el ejercicio 1.5?\n",
        "\n"
      ],
      "metadata": {
        "id": "3e5zMi5yKfBK"
      },
      "execution_count": null,
      "outputs": []
    },
    {
      "cell_type": "code",
      "source": [
        "# 1.7 ¿En promedio cuántas horas trabajan los hombres y las muyeres encuestados por año?\n",
        "# Calcule los dos promedios.\n",
        "\n",
        "agg_df = (\n",
        "    practica_df\n",
        "    .groupby('sexo')\n",
        "    .agg(\n",
        "          {\n",
        "            'n_horas_por_año': ['mean', 'max', 'min'],\n",
        "           }\n",
        "         )\n",
        "    ) # usamos 'groupby' para obtener las mismas agregaciones para chicos también\n",
        "\n",
        "print(agg_df)"
      ],
      "metadata": {
        "colab": {
          "base_uri": "https://localhost:8080/"
        },
        "id": "4W4MNcizLNCt",
        "outputId": "52b9b595-0ddd-46fd-e1ce-98f358d282a9"
      },
      "execution_count": null,
      "outputs": [
        {
          "output_type": "stream",
          "name": "stdout",
          "text": [
            "     n_horas_por_año              \n",
            "                mean     max   min\n",
            "sexo                              \n",
            "F             1447.0  3000.0  81.0\n",
            "M              410.0   750.0  70.0\n"
          ]
        }
      ]
    },
    {
      "cell_type": "code",
      "source": [
        "practica_df.loc[:, ['sexo', 'n_horas_por_año']].groupby('sexo').mean()"
      ],
      "metadata": {
        "colab": {
          "base_uri": "https://localhost:8080/",
          "height": 143
        },
        "id": "Bwx6Ql5nLeVf",
        "outputId": "0e31acb5-196c-493b-880d-49faceb045a9"
      },
      "execution_count": null,
      "outputs": [
        {
          "output_type": "execute_result",
          "data": {
            "text/plain": [
              "      n_horas_por_año\n",
              "sexo                 \n",
              "F              1447.0\n",
              "M               410.0"
            ],
            "text/html": [
              "\n",
              "  <div id=\"df-f2487bd9-9e30-493e-b1c7-60e0bf5820b5\">\n",
              "    <div class=\"colab-df-container\">\n",
              "      <div>\n",
              "<style scoped>\n",
              "    .dataframe tbody tr th:only-of-type {\n",
              "        vertical-align: middle;\n",
              "    }\n",
              "\n",
              "    .dataframe tbody tr th {\n",
              "        vertical-align: top;\n",
              "    }\n",
              "\n",
              "    .dataframe thead th {\n",
              "        text-align: right;\n",
              "    }\n",
              "</style>\n",
              "<table border=\"1\" class=\"dataframe\">\n",
              "  <thead>\n",
              "    <tr style=\"text-align: right;\">\n",
              "      <th></th>\n",
              "      <th>n_horas_por_año</th>\n",
              "    </tr>\n",
              "    <tr>\n",
              "      <th>sexo</th>\n",
              "      <th></th>\n",
              "    </tr>\n",
              "  </thead>\n",
              "  <tbody>\n",
              "    <tr>\n",
              "      <th>F</th>\n",
              "      <td>1447.0</td>\n",
              "    </tr>\n",
              "    <tr>\n",
              "      <th>M</th>\n",
              "      <td>410.0</td>\n",
              "    </tr>\n",
              "  </tbody>\n",
              "</table>\n",
              "</div>\n",
              "      <button class=\"colab-df-convert\" onclick=\"convertToInteractive('df-f2487bd9-9e30-493e-b1c7-60e0bf5820b5')\"\n",
              "              title=\"Convert this dataframe to an interactive table.\"\n",
              "              style=\"display:none;\">\n",
              "        \n",
              "  <svg xmlns=\"http://www.w3.org/2000/svg\" height=\"24px\"viewBox=\"0 0 24 24\"\n",
              "       width=\"24px\">\n",
              "    <path d=\"M0 0h24v24H0V0z\" fill=\"none\"/>\n",
              "    <path d=\"M18.56 5.44l.94 2.06.94-2.06 2.06-.94-2.06-.94-.94-2.06-.94 2.06-2.06.94zm-11 1L8.5 8.5l.94-2.06 2.06-.94-2.06-.94L8.5 2.5l-.94 2.06-2.06.94zm10 10l.94 2.06.94-2.06 2.06-.94-2.06-.94-.94-2.06-.94 2.06-2.06.94z\"/><path d=\"M17.41 7.96l-1.37-1.37c-.4-.4-.92-.59-1.43-.59-.52 0-1.04.2-1.43.59L10.3 9.45l-7.72 7.72c-.78.78-.78 2.05 0 2.83L4 21.41c.39.39.9.59 1.41.59.51 0 1.02-.2 1.41-.59l7.78-7.78 2.81-2.81c.8-.78.8-2.07 0-2.86zM5.41 20L4 18.59l7.72-7.72 1.47 1.35L5.41 20z\"/>\n",
              "  </svg>\n",
              "      </button>\n",
              "      \n",
              "  <style>\n",
              "    .colab-df-container {\n",
              "      display:flex;\n",
              "      flex-wrap:wrap;\n",
              "      gap: 12px;\n",
              "    }\n",
              "\n",
              "    .colab-df-convert {\n",
              "      background-color: #E8F0FE;\n",
              "      border: none;\n",
              "      border-radius: 50%;\n",
              "      cursor: pointer;\n",
              "      display: none;\n",
              "      fill: #1967D2;\n",
              "      height: 32px;\n",
              "      padding: 0 0 0 0;\n",
              "      width: 32px;\n",
              "    }\n",
              "\n",
              "    .colab-df-convert:hover {\n",
              "      background-color: #E2EBFA;\n",
              "      box-shadow: 0px 1px 2px rgba(60, 64, 67, 0.3), 0px 1px 3px 1px rgba(60, 64, 67, 0.15);\n",
              "      fill: #174EA6;\n",
              "    }\n",
              "\n",
              "    [theme=dark] .colab-df-convert {\n",
              "      background-color: #3B4455;\n",
              "      fill: #D2E3FC;\n",
              "    }\n",
              "\n",
              "    [theme=dark] .colab-df-convert:hover {\n",
              "      background-color: #434B5C;\n",
              "      box-shadow: 0px 1px 3px 1px rgba(0, 0, 0, 0.15);\n",
              "      filter: drop-shadow(0px 1px 2px rgba(0, 0, 0, 0.3));\n",
              "      fill: #FFFFFF;\n",
              "    }\n",
              "  </style>\n",
              "\n",
              "      <script>\n",
              "        const buttonEl =\n",
              "          document.querySelector('#df-f2487bd9-9e30-493e-b1c7-60e0bf5820b5 button.colab-df-convert');\n",
              "        buttonEl.style.display =\n",
              "          google.colab.kernel.accessAllowed ? 'block' : 'none';\n",
              "\n",
              "        async function convertToInteractive(key) {\n",
              "          const element = document.querySelector('#df-f2487bd9-9e30-493e-b1c7-60e0bf5820b5');\n",
              "          const dataTable =\n",
              "            await google.colab.kernel.invokeFunction('convertToInteractive',\n",
              "                                                     [key], {});\n",
              "          if (!dataTable) return;\n",
              "\n",
              "          const docLinkHtml = 'Like what you see? Visit the ' +\n",
              "            '<a target=\"_blank\" href=https://colab.research.google.com/notebooks/data_table.ipynb>data table notebook</a>'\n",
              "            + ' to learn more about interactive tables.';\n",
              "          element.innerHTML = '';\n",
              "          dataTable['output_type'] = 'display_data';\n",
              "          await google.colab.output.renderOutput(dataTable, element);\n",
              "          const docLink = document.createElement('div');\n",
              "          docLink.innerHTML = docLinkHtml;\n",
              "          element.appendChild(docLink);\n",
              "        }\n",
              "      </script>\n",
              "    </div>\n",
              "  </div>\n",
              "  "
            ]
          },
          "metadata": {},
          "execution_count": 22
        }
      ]
    },
    {
      "cell_type": "code",
      "source": [],
      "metadata": {
        "id": "ustK-fAWMfyd"
      },
      "execution_count": null,
      "outputs": []
    },
    {
      "cell_type": "code",
      "source": [
        "# 1.8 Cree un conjunto de datos que se llama `sub_df` y que contiene todas las personas que\n",
        "# tengan más de 25 años y que tengan un sueldo anual de más de 1'000'000 colones.\n",
        "sub_df = practica_df.loc[\n",
        "    (\n",
        "        (practica_df['edad'] > 25)\n",
        "        & (practica_df['sueldo_anual'] > 1_000_000)\n",
        "     ), :\n",
        "]"
      ],
      "metadata": {
        "id": "5rXT3GT0L9J-"
      },
      "execution_count": null,
      "outputs": []
    },
    {
      "cell_type": "code",
      "source": [
        "print(sub_df)"
      ],
      "metadata": {
        "colab": {
          "base_uri": "https://localhost:8080/"
        },
        "id": "_kmCd0n_Mgfx",
        "outputId": "e0c2dad2-1c25-4fc6-a1aa-9d0a166a8c10"
      },
      "execution_count": null,
      "outputs": [
        {
          "output_type": "stream",
          "name": "stdout",
          "text": [
            "   fecha_de_nacimiento sexo  sueldo_mensual  n_dias_de_trabajo_anual  \\\n",
            "0                 1980    M   500000.000000                    200.0   \n",
            "2                 1995    F   300000.000000                      NaN   \n",
            "4                 1992    F  1000000.000000                    250.0   \n",
            "5                 1985    F   578571.428571                      NaN   \n",
            "\n",
            "   n_horas_por_dia  sueldo_anual  edad  n_horas_por_año  \n",
            "0              NaN  6.000000e+06    42              NaN  \n",
            "2              6.0  3.600000e+06    27              NaN  \n",
            "4             12.0  1.200000e+07    30           3000.0  \n",
            "5              8.0  6.942857e+06    37              NaN  \n"
          ]
        }
      ]
    },
    {
      "cell_type": "code",
      "source": [
        "# 1.9 ¿Cúal es la diferencia entre los siguientes objetos? ¿Por qué importa la diferencia?\n",
        "\n",
        "objeto_a = practica_df.loc[:, 'sueldo_mensual']\n",
        "objeto_b = practica_df.loc[:, ['sueldo_mensual']]"
      ],
      "metadata": {
        "id": "iouBe7HtWT6M"
      },
      "execution_count": null,
      "outputs": []
    },
    {
      "cell_type": "code",
      "source": [
        "print(type(objeto_a))\n",
        "print(type(objeto_b))"
      ],
      "metadata": {
        "id": "Bj0bityIjAgy",
        "colab": {
          "base_uri": "https://localhost:8080/"
        },
        "outputId": "95e60d01-dd70-4314-b194-b1f7a0445293"
      },
      "execution_count": null,
      "outputs": [
        {
          "output_type": "stream",
          "name": "stdout",
          "text": [
            "<class 'pandas.core.series.Series'>\n",
            "<class 'pandas.core.frame.DataFrame'>\n"
          ]
        }
      ]
    },
    {
      "cell_type": "markdown",
      "source": [
        "# 2.0 Exploración de un conjunto de datos\n",
        "\n",
        "En este capitulo, vamos a usar un conjunto de datos real para entender que hay que hacer para obtener perspicacias valiosas, concretamente la [Encuesta Continua de Empleo del INEC](http://sistemas.inec.cr/pad5/index.php/catalog/302)."
      ],
      "metadata": {
        "id": "i_wGNmvza5eC"
      }
    },
    {
      "cell_type": "code",
      "source": [
        "# instalación de un paquete (no librería)\n",
        "%pip install pyreadstat>=1.1.5"
      ],
      "metadata": {
        "id": "OwgAGW3Sa40G"
      },
      "execution_count": null,
      "outputs": []
    },
    {
      "cell_type": "code",
      "source": [
        "# cargar los módulos que necesitamos\n",
        "import pandas as pd\n",
        "import numpy as np\n",
        "\n",
        "from google.colab import drive\n",
        "drive.mount('/content/drive')"
      ],
      "metadata": {
        "colab": {
          "base_uri": "https://localhost:8080/"
        },
        "id": "1Z0pAA99a42L",
        "outputId": "f0a5efb2-1ac1-4869-e12b-5c02acf14a97"
      },
      "execution_count": null,
      "outputs": [
        {
          "output_type": "stream",
          "name": "stdout",
          "text": [
            "Mounted at /content/drive\n"
          ]
        }
      ]
    },
    {
      "cell_type": "code",
      "source": [
        "# ruta al archivo en Google Drive\n",
        "# enlace: https://drive.google.com/uc?export=download&id=1rOyivdPD1t5KQII7lLQpLPCwHPVVTIN6\n",
        "ruta_spss = '/content/drive/My Drive/analisis_datos_ciencias_sociales/III Trimestre 2022.sav'"
      ],
      "metadata": {
        "id": "LOCiISjXeECQ"
      },
      "execution_count": null,
      "outputs": []
    },
    {
      "cell_type": "code",
      "source": [
        "# cargar el conjunto de datos\n",
        "df_principal = pd.read_spss(ruta_spss)"
      ],
      "metadata": {
        "id": "eT7HW5uweFkQ"
      },
      "execution_count": null,
      "outputs": []
    },
    {
      "cell_type": "markdown",
      "source": [
        "### `df.head()`, `df.shape` y `df.columns` nos dan una primera impresión de los datos que acabamos de cargar"
      ],
      "metadata": {
        "id": "4m5Ws06eeyIh"
      }
    },
    {
      "cell_type": "markdown",
      "source": [
        "`df_principal.head(n)` imprime las primeras n filas. Se usa `df_principal.tail(n)` para ver las últimas n filas."
      ],
      "metadata": {
        "id": "dif--wY1iIuc"
      }
    },
    {
      "cell_type": "code",
      "source": [
        "print(df_principal.head(n=5))  # ya sabemos que hay un montón de columnas porque python no muestre todos"
      ],
      "metadata": {
        "colab": {
          "base_uri": "https://localhost:8080/"
        },
        "id": "_We-j6yTh6yT",
        "outputId": "9e57717c-0497-462e-8472-b2f1b0aeec00"
      },
      "execution_count": null,
      "outputs": [
        {
          "output_type": "stream",
          "name": "stdout",
          "text": [
            "   ID_AMO  ID_TRIMESTRE  ID_VIVIENDA  ID_HOGAR  ID_LINEA    Sexo  Edad  \\\n",
            "0  2022.0           3.0          1.0       1.0       1.0   Mujer  92.0   \n",
            "1  2022.0           3.0          1.0       1.0       2.0   Mujer  54.0   \n",
            "2  2022.0           3.0          4.0       1.0       1.0   Mujer  80.0   \n",
            "3  2022.0           3.0          5.0       1.0       1.0  Hombre  59.0   \n",
            "4  2022.0           3.0          7.0       1.0       1.0  Hombre  44.0   \n",
            "\n",
            "   Estado_conyugal      Lugar_nacimiento Permanencia_pais  ...  \\\n",
            "0     ...viudo(a)?        En otro cantón              NaN  ...   \n",
            "1   ...soltero(a)?        En otro cantón              NaN  ...   \n",
            "2  ...separado(a)?  En este mismo cantón              NaN  ...   \n",
            "3   ...soltero(a)?  En este mismo cantón              NaN  ...   \n",
            "4   ...soltero(a)?          En otro país     Un año o más  ...   \n",
            "\n",
            "                       Asalariado_TeletrabajoCOVID19  \\\n",
            "0                                                NaN   \n",
            "1                             No realiza teletrabajo   \n",
            "2                                                NaN   \n",
            "3  Sí, por el COVID-19, le aumentaron e inició te...   \n",
            "4                             No realiza teletrabajo   \n",
            "\n",
            "  Ocupados_con_Conectividad Consecutivo N_hogar    Grupo_edad  \\\n",
            "0                       NaN       880.0     1.0      60 y más   \n",
            "1                       NaN       880.0     0.0  45 a 59 años   \n",
            "2                       NaN       880.0     1.0      60 y más   \n",
            "3                       1.0       880.0     1.0  45 a 59 años   \n",
            "4                       NaN       880.0     1.0  35 a 44 años   \n",
            "\n",
            "  Ingreso_principal_nomonetario Poblacion_joven  Poblacion_adulto Joven_nini  \\\n",
            "0                           NaN             NaN  Población adulta        NaN   \n",
            "1                      453100.0             NaN  Población adulta        NaN   \n",
            "2                           NaN             NaN  Población adulta        NaN   \n",
            "3                           NaN             NaN  Población adulta        NaN   \n",
            "4                           NaN             NaN  Población adulta        NaN   \n",
            "\n",
            "                                     Tipo_seguro  \n",
            "0  ...pensionado de la CCSS, Magisterio, u otro?  \n",
            "1                 ...cuenta propia o voluntario?  \n",
            "2                 ...cuenta propia o voluntario?  \n",
            "3                                 ...asalariado?  \n",
            "4                                 ...asalariado?  \n",
            "\n",
            "[5 rows x 388 columns]\n"
          ]
        }
      ]
    },
    {
      "cell_type": "markdown",
      "source": [
        "Para obtener información básica tanto del el conjunto de datos como el número de filas y columnas, use el atributo `.shape`"
      ],
      "metadata": {
        "id": "x9WcaocRf_oH"
      }
    },
    {
      "cell_type": "code",
      "source": [
        "print(df_principal.shape)  # tenemos más de 23 mil filas y 388 columnas!"
      ],
      "metadata": {
        "colab": {
          "base_uri": "https://localhost:8080/"
        },
        "id": "jsNXmrrteoB2",
        "outputId": "a6929d02-c301-4ce3-899d-9f9bf86847bb"
      },
      "execution_count": null,
      "outputs": [
        {
          "output_type": "stream",
          "name": "stdout",
          "text": [
            "(23484, 388)\n"
          ]
        }
      ]
    },
    {
      "cell_type": "markdown",
      "source": [
        "La propiedad `df_principal.columns` contiene los nombres de todas las columnas"
      ],
      "metadata": {
        "id": "smSbCnaRgEnk"
      }
    },
    {
      "cell_type": "code",
      "source": [
        "print(df_principal.columns)  # para tantos columnas python no va a imprimir todas las columnas!"
      ],
      "metadata": {
        "colab": {
          "base_uri": "https://localhost:8080/"
        },
        "id": "vpQBObbPepEl",
        "outputId": "7576c98d-31ae-40a9-a11d-e103d9bf008c"
      },
      "execution_count": null,
      "outputs": [
        {
          "output_type": "stream",
          "name": "stdout",
          "text": [
            "Index(['ID_AMO', 'ID_TRIMESTRE', 'ID_VIVIENDA', 'ID_HOGAR', 'ID_LINEA', 'Sexo',\n",
            "       'Edad', 'Estado_conyugal', 'Lugar_nacimiento', 'Permanencia_pais',\n",
            "       ...\n",
            "       'Asalariado_TeletrabajoCOVID19', 'Ocupados_con_Conectividad',\n",
            "       'Consecutivo', 'N_hogar', 'Grupo_edad', 'Ingreso_principal_nomonetario',\n",
            "       'Poblacion_joven', 'Poblacion_adulto', 'Joven_nini', 'Tipo_seguro'],\n",
            "      dtype='object', length=388)\n"
          ]
        }
      ]
    },
    {
      "cell_type": "markdown",
      "source": [
        "Para ver todas las columnas vamos a recorrer `df.columns`. Este enfoque está bastante brutal porque vamos a imprimir más de 300 filas de nombres; empero, no hay otra opción aparte de dirigirse a la documentación oficial, lo cual haremos en un rato. "
      ],
      "metadata": {
        "id": "KbCXmUVrhdnl"
      }
    },
    {
      "cell_type": "code",
      "source": [
        "for columna in df_principal.columns:\n",
        "  print(columna)"
      ],
      "metadata": {
        "colab": {
          "base_uri": "https://localhost:8080/"
        },
        "id": "uQDyhQtvhc-m",
        "outputId": "44b907d6-4944-4e6c-e8c2-c0e9535e15ee"
      },
      "execution_count": null,
      "outputs": [
        {
          "output_type": "stream",
          "name": "stdout",
          "text": [
            "ID_AMO\n",
            "ID_TRIMESTRE\n",
            "ID_VIVIENDA\n",
            "ID_HOGAR\n",
            "ID_LINEA\n",
            "Sexo\n",
            "Edad\n",
            "Estado_conyugal\n",
            "Lugar_nacimiento\n",
            "Permanencia_pais\n",
            "Permanencia_intension\n",
            "Permanencia_motivo\n",
            "Seguro\n",
            "Regimen_pension\n",
            "Plan_voluntario\n",
            "Educacion_asiste\n",
            "Educacion_nivel_grado\n",
            "Educacion_codigotitulo\n",
            "EducacionNoregular_asiste\n",
            "EducacionNoregular_codigo\n",
            "EducacionNoregular_institucion\n",
            "Idioma\n",
            "Idioma_cual\n",
            "Trabajo\n",
            "Trabajo_marginal\n",
            "Actividad_sinpaga\n",
            "Ausente\n",
            "Motivo_ausente\n",
            "Desea_trabajar\n",
            "Busca_trabajo\n",
            "Motivo_nobusco\n",
            "Cod_empresa\n",
            "Lugar_trabajo\n",
            "Cod_rama\n",
            "Cod_rama_5digitos\n",
            "Herramientas\n",
            "Cod_ocupacion\n",
            "Horas_normales_principal\n",
            "Horas_extras_principal\n",
            "Horas_menos_principal\n",
            "Horas_efectivas_principal\n",
            "Cantidad_personas\n",
            "Lugar_tareas\n",
            "Empresa_paga\n",
            "Cod_empresa_paga\n",
            "Cod_rama_paga\n",
            "Cod_rama_paga_5digitos\n",
            "D1\n",
            "D2\n",
            "D3\n",
            "D4\n",
            "D5\n",
            "D5A\n",
            "D6A\n",
            "D6B\n",
            "D6C\n",
            "D6D\n",
            "D7\n",
            "D8\n",
            "D9\n",
            "D10\n",
            "D12A\n",
            "D13\n",
            "D14_1\n",
            "D14_2\n",
            "D14A_1\n",
            "D15A\n",
            "D15B\n",
            "D15C\n",
            "D15D\n",
            "D15E\n",
            "D16\n",
            "D17\n",
            "D18\n",
            "D18_1\n",
            "D18A\n",
            "D20\n",
            "D22\n",
            "D22A\n",
            "D23\n",
            "D23A\n",
            "D24\n",
            "D24_1\n",
            "D24A\n",
            "D25A\n",
            "D26A\n",
            "D27\n",
            "E1\n",
            "E2\n",
            "E3\n",
            "E3A\n",
            "E4\n",
            "E5_1\n",
            "E5_2\n",
            "E5A\n",
            "E6A\n",
            "E6B\n",
            "E6C\n",
            "E6D\n",
            "E6E\n",
            "E7\n",
            "E8\n",
            "E8A\n",
            "E9A\n",
            "E9B\n",
            "E9C\n",
            "E9D\n",
            "E9E\n",
            "E10A\n",
            "E10B\n",
            "E11\n",
            "E13A\n",
            "E13B\n",
            "E14A1\n",
            "E14A2\n",
            "E14A3\n",
            "E14A4\n",
            "E15A\n",
            "E15B\n",
            "E15C\n",
            "E15D\n",
            "E15E\n",
            "F1\n",
            "F1A\n",
            "F1B\n",
            "F1C\n",
            "Cod_empresa_sec\n",
            "Cod_actividad_sec\n",
            "Cod_actividad5digitos_sec\n",
            "F3B\n",
            "Cod_ocupacion_sec\n",
            "F3D\n",
            "F3E\n",
            "F5\n",
            "F5A\n",
            "Horas_normales_secs\n",
            "Horas_extras_secs\n",
            "Horas_menos_secs\n",
            "Horas_efectivas_secs\n",
            "F6E\n",
            "F7A1\n",
            "F7B1\n",
            "F7C\n",
            "F7C1\n",
            "F8D\n",
            "F8E\n",
            "F9\n",
            "F13\n",
            "G1\n",
            "G2\n",
            "G3\n",
            "G4\n",
            "G5\n",
            "G6\n",
            "G7\n",
            "H1\n",
            "H2\n",
            "Cod_empresa_desempleo\n",
            "Cod_actividad_desempleo\n",
            "Cod_actividad5digitos_desempleo\n",
            "H6A\n",
            "H6B\n",
            "H7\n",
            "H8\n",
            "H9\n",
            "I1A\n",
            "I1B\n",
            "I2\n",
            "I3\n",
            "I5\n",
            "I5A\n",
            "I6\n",
            "I6A\n",
            "I7\n",
            "I7A\n",
            "I9\n",
            "J1\n",
            "J2\n",
            "J3\n",
            "J4\n",
            "J5\n",
            "J6\n",
            "J7\n",
            "J8\n",
            "J9\n",
            "J10\n",
            "J11\n",
            "J12\n",
            "J13_1\n",
            "J13_2\n",
            "J13_3\n",
            "J13_4\n",
            "J13_5\n",
            "J13_6\n",
            "J13_7\n",
            "J14\n",
            "J15_1\n",
            "J15_2\n",
            "J15_3\n",
            "J15_4\n",
            "J15_5\n",
            "J15_6\n",
            "J15_7\n",
            "J16\n",
            "J16_1\n",
            "J16_2\n",
            "J16_3\n",
            "J16_4\n",
            "J16_5\n",
            "J17\n",
            "J18\n",
            "J19\n",
            "J19_1\n",
            "J20\n",
            "J21_1\n",
            "J21_2\n",
            "J21_3\n",
            "J21_4\n",
            "J21_5\n",
            "J22\n",
            "J23_1\n",
            "J23_2\n",
            "J23_3\n",
            "J23_4\n",
            "J23_5\n",
            "J24\n",
            "J25_1\n",
            "J25_2\n",
            "J25_3\n",
            "J25_4\n",
            "J26_1\n",
            "J26_2\n",
            "J26_3\n",
            "J26_4\n",
            "J26_5\n",
            "J26_6\n",
            "J26_7\n",
            "J27_1\n",
            "J27_2\n",
            "J27_3\n",
            "J27_4\n",
            "J27_5\n",
            "J27_6\n",
            "Region\n",
            "Zona\n",
            "Factor_ponderacion\n",
            "Poblacion\n",
            "N_vivienda\n",
            "Relacion_parentesco\n",
            "Mayor_15\n",
            "Provincia_nacimiento\n",
            "Pais_nacimiento\n",
            "Residente_pais\n",
            "Amos_educacion\n",
            "Educacion_titulo\n",
            "Nivel_educativo\n",
            "Especialidad_estudio\n",
            "Especialidad_estudio_no_regular\n",
            "Condicion_actividad\n",
            "Fuerza_trabajo\n",
            "Ocupado\n",
            "Desempleado\n",
            "Fuera_fuerza_trabajo\n",
            "Desempleado_con_experiencia\n",
            "Desempleado_sin_experiencia\n",
            "Ausente_trabajo\n",
            "Horas_efectivas\n",
            "Grupo_horas_efectivas\n",
            "Hora_normal_total\n",
            "Horas_efectivas_total\n",
            "Tamano_empresa\n",
            "Posicion_empleo\n",
            "Establecimiento_independiente\n",
            "Ocupacion_COCR11\n",
            "Calificacion_ocupacion_COCR11\n",
            "Cod_empresa_publicacion\n",
            "Sector_institucional\n",
            "Sector_institucional_SCN\n",
            "Cod_rama_publicacion\n",
            "Rama_actividad\n",
            "Sector_actividad\n",
            "Ubicacion_empresa\n",
            "Condicion_busqueda_empleo\n",
            "Estabilidad_empleo\n",
            "Condicion_aseguramiento\n",
            "Subempleado\n",
            "Clasificacion_asalariado\n",
            "Formalidad_informalidad\n",
            "Empleo_secundario\n",
            "Posicion_secundario\n",
            "Ocupacion_secundario_COCR11\n",
            "Calificacion_ocupacion_secund\n",
            "Sector_institucional_secundario\n",
            "Rama_actividad_secundario\n",
            "Disponibilidad_fuera_fuerza_trab\n",
            "Razon_desempleado_con_experienc\n",
            "Tiempo_busqueda_empleo\n",
            "Posicion_desempleo\n",
            "Sector_institucional_desempleo\n",
            "Rama_actividad_desempleo\n",
            "Salario_neto\n",
            "Aguinaldo\n",
            "Salario_escolar\n",
            "Bonificacion\n",
            "Propina\n",
            "Pago_hora_extra\n",
            "Otros_pagos\n",
            "Otro_monetario\n",
            "Monetario_asal\n",
            "Ingreso_especie_alimentacion_asal\n",
            "Ingreso_especie_transporte_asal\n",
            "Ingreso_especie_vivienda_asal\n",
            "Ingreso_especie_vehiculo_asal\n",
            "Otro_especie_asal\n",
            "Especie_asal\n",
            "Ingreso_asalariado\n",
            "Salario_constituido\n",
            "Ganancia_constituido\n",
            "Salario_constituido2\n",
            "Aguinaldo_constituido\n",
            "Monetario_constituido\n",
            "Ingreso_especie_alimentacion_indep\n",
            "Ingreso_especie_transporte_indep\n",
            "Ingreso_especie_vivienda_indep\n",
            "Ingreso_especie_vehiculo_indep\n",
            "Otro_especie_indep\n",
            "Especie_constituido\n",
            "Ingreso_constituido\n",
            "Ganancia_no_agro\n",
            "Autoconsumo_no_agro\n",
            "Ingreso_no_agro\n",
            "D22B\n",
            "D23B\n",
            "Resta_agro\n",
            "Ganancia_agro\n",
            "Autoconsumo_agro\n",
            "Ingreso_agro\n",
            "Ingreso_independiente\n",
            "Ingreso_principal\n",
            "Salario_neto_sec\n",
            "Especie_asal_sec\n",
            "Ingreso_asal_sec\n",
            "F7A1B\n",
            "F7B1B\n",
            "Monetario_indep_sec\n",
            "F8A2\n",
            "F8C2\n",
            "Autoconsumo_sec\n",
            "Ingreso_indep_sec\n",
            "Ingreso_secundario\n",
            "Ingreso_otros\n",
            "Ingreso_total\n",
            "Salario_bruto\n",
            "Monetario_asal_bruto\n",
            "Ingreso_asalariado_bruto\n",
            "Ingreso_bruto_principal\n",
            "Ingreso_bruto_principal_monet\n",
            "Ingreso_bruto_principal_hora\n",
            "Salario_bruto_sec\n",
            "Ingreso_asal_bruto_sec\n",
            "Ingreso_bruto_secundario\n",
            "Ingreso_bruto_total_trabajo\n",
            "Ingreso_bruto_total_trabajo_hora\n",
            "Rango_ingreso_bruto_total_trabaj\n",
            "Rango_ingreso_bruto_principal\n",
            "Mas_40horas_menos_minimoingreso\n",
            "Asalariado_Incidencia_IngresoCOVID19\n",
            "Asalariado_Afectación_JornadaCOVID19\n",
            "Independiente_IncidenciaCOVID19\n",
            "Desempleado_IncidenciaCOVID19\n",
            "Ocupado_IncidenciaCOVID19\n",
            "Fuerza_trabajo_IncidenciaCOVID19\n",
            "Fuera_fuerza_trabajo_IncidenciaCOVID19\n",
            "Mayor_15_IncidenciaCOVID19\n",
            "Condicion_Actividad_IncidenciaCOVID19\n",
            "Incidencia_laboral\n",
            "Independiente_GananciaCOVID19\n",
            "Independiente_con_EstrategiasCOVID19\n",
            "Asalariado_TeletrabajoCOVID19\n",
            "Ocupados_con_Conectividad\n",
            "Consecutivo\n",
            "N_hogar\n",
            "Grupo_edad\n",
            "Ingreso_principal_nomonetario\n",
            "Poblacion_joven\n",
            "Poblacion_adulto\n",
            "Joven_nini\n",
            "Tipo_seguro\n"
          ]
        }
      ]
    },
    {
      "cell_type": "markdown",
      "source": [
        "## Exploración de Columnas Numéricas, Categóricas y Booleanos"
      ],
      "metadata": {
        "id": "qzMNAp79V2H-"
      }
    },
    {
      "cell_type": "markdown",
      "source": [
        "Ahora, vamos a explorar si costarricenses con conocimientos de una lengua extranjera ganan más dinero, comprobando segun su nivel de educación. Según la documentación oficial, vamos a usar las siguientes columnas para nuestra análisis:\n",
        "\n",
        "* `Idioma`: ¿Habla, lee y escribe fluidamente algún otro idioma a parte de su lengua materna?\n",
        "* `Ingreso_total`: Definida como: \"*Ingreso mensual neto de las personas ocupadas  (asalariada, cuenta propia o empleador) en todos los empleos (principal, secundario u otro).*\"\n",
        "* `Nivel_educativo`: Definida como: \"Corresponde al año más avanzado de estudios aprobados dentro del ciclo de educación regular, que va a depender del último grado o año aprobado (Educacion_nivel_grado) y la tenencia/tipo de título (Educacion_titulo). Aplica para las personas de 15 años y más.\" Vamos a usar esta variable para asegurarnos de que el efecto de `conocimientos de una lengua extranjera` no esté influido por el nível educativo (es más probable que un estudiante hable inglés)\n",
        "* `País_nacimiento`: No todas las personas de la encuesta son ticas, de manera que, necesitamos filtrar a las personas que no tienen la nacionalidad costarricense. Ya que el cuestionario no contiene una pregunta sobre la nacionalidad de las personas, necesitamos aprovechar de la variable `país de nacimiento` para asegurarnos de que todas las personas consideradas sean ticas.\n",
        "* `Mayor_15`: En Costa Rica, personas a partir de 15 años están consideradas parte de la población trabajadora. Ya que nuestra investigación trata de aquella parte de sociedad, vamos a ignorar menores de 15 años.\n",
        "* `Ocupado`: Similar a la variable anterior, solamente queremos analizar personas de la población trabajadora que actualmente trabaja.\n",
        "\n",
        "Una parte imprescindible de cada análisis es asegurarse de la integridad de los datos. Para nuestro análisis, necesitamos evaluar los siguientes aspectos:\n",
        "* ¿Fueron todas personas con una edad de más de 15 años consultadas por sus conocimientos de una lengua extranjera?\n",
        "* ¿Contestaron todas las personas la pregunta de su país de nacimiento?\n",
        "* ¿Todas las personas que trabajan tienen un valor en la columna `Ingreso_total`?\n",
        "* ¿Todas las personas con más de 15 años contestaron la pregunta sobre su nivel eudcativo?"
      ],
      "metadata": {
        "id": "h7avKUuyfoIc"
      }
    },
    {
      "cell_type": "markdown",
      "source": [
        "Por primero, vamos a crear una copia de nuestro conjunto de datos antes de modificarlo. Personalmente a mí me gusta tener un conjunto de datos dedicado para cada análisis mayor que hago, ya que cada análisis necesita algunas transformaciones o filtraciones que no apliquan para los otros análisis."
      ],
      "metadata": {
        "id": "LaUQ6v2T0i_7"
      }
    },
    {
      "cell_type": "code",
      "source": [
        "df = df_principal.copy(deep=True)"
      ],
      "metadata": {
        "id": "JnAlwukHz8cp"
      },
      "execution_count": null,
      "outputs": []
    },
    {
      "cell_type": "markdown",
      "source": [
        "Por primero, vamos a ver que tipo de datos nuestras columnas de interés llevan:"
      ],
      "metadata": {
        "id": "nua_sPoFmJKt"
      }
    },
    {
      "cell_type": "code",
      "source": [
        "print(df['Idioma'].dtype)\n",
        "print(df['Ingreso_total'].dtype)\n",
        "print(df['Nivel_educativo'].dtype)\n",
        "print(df['Pais_nacimiento'].dtype)\n",
        "print(df['Mayor_15'].dtype)\n",
        "print(df['Ocupado'].dtype)"
      ],
      "metadata": {
        "colab": {
          "base_uri": "https://localhost:8080/"
        },
        "id": "tuimbAjewrts",
        "outputId": "6cbca166-0b36-46e8-89bf-337015354cd9"
      },
      "execution_count": null,
      "outputs": [
        {
          "output_type": "stream",
          "name": "stdout",
          "text": [
            "category\n",
            "category\n",
            "category\n",
            "category\n",
            "float64\n",
            "float64\n"
          ]
        }
      ]
    },
    {
      "cell_type": "markdown",
      "source": [
        "Hay algunas sopresas aquí: ¿Cómo que `Mayor_15` y `Ocupado` no son variables booleanas, y por qué están los ingresos guardados como variables categóricas?"
      ],
      "metadata": {
        "id": "i1JBRjXAii1v"
      }
    },
    {
      "cell_type": "markdown",
      "source": [
        "#### **Convertir `Mayor_15` en una columna booleana**"
      ],
      "metadata": {
        "id": "T64fWUVqzQEV"
      }
    },
    {
      "cell_type": "code",
      "source": [
        "df['Mayor_15'].value_counts(dropna=False)"
      ],
      "metadata": {
        "colab": {
          "base_uri": "https://localhost:8080/"
        },
        "id": "s3MGeLTOxTQ5",
        "outputId": "064a27b8-41db-48c5-a2b9-a1614857e956"
      },
      "execution_count": null,
      "outputs": [
        {
          "output_type": "execute_result",
          "data": {
            "text/plain": [
              "1.0    18275\n",
              "NaN     5209\n",
              "Name: Mayor_15, dtype: int64"
            ]
          },
          "metadata": {},
          "execution_count": 12
        }
      ]
    },
    {
      "cell_type": "markdown",
      "source": [
        "¡Ojo! Por defecto `value_counts` no incluye filas con el valor `np.NaN` ('NaN' significa 'not a number', o sea, 'no es un número'). Aunque tenga filosóficamente sentido que esta función no cuenta un valor que no es un número segun su definición propia, para nosotros es imprescindible saber todos los valores de la columna, ya que estos números representan códigos y no números literales."
      ],
      "metadata": {
        "id": "ztZ3RvVjxsT9"
      }
    },
    {
      "cell_type": "markdown",
      "source": [
        "Transformar esta columna es muy fácil, solamente necesitamos `df['Mayor_15'] == 1` para relacionar la lógica."
      ],
      "metadata": {
        "id": "W30RNOidzbuU"
      }
    },
    {
      "cell_type": "code",
      "source": [
        "df['Mayor_15'] = df['Mayor_15'] == 1"
      ],
      "metadata": {
        "id": "X6qz5Yw5zbY8"
      },
      "execution_count": null,
      "outputs": []
    },
    {
      "cell_type": "markdown",
      "source": [
        "#### **Convertir `Ocupado` en una columna booleana**"
      ],
      "metadata": {
        "id": "nmtC0pF25uBo"
      }
    },
    {
      "cell_type": "code",
      "source": [
        "df['Ocupado'].value_counts(dropna=False)"
      ],
      "metadata": {
        "colab": {
          "base_uri": "https://localhost:8080/"
        },
        "id": "ftg_l8Or5uq5",
        "outputId": "822763ed-0f43-40b1-9c39-a340f0023782"
      },
      "execution_count": null,
      "outputs": [
        {
          "output_type": "execute_result",
          "data": {
            "text/plain": [
              "NaN    14531\n",
              "1.0     8953\n",
              "Name: Ocupado, dtype: int64"
            ]
          },
          "metadata": {},
          "execution_count": 14
        }
      ]
    },
    {
      "cell_type": "code",
      "source": [
        "df['Ocupado'] = df['Ocupado'] == 1.0"
      ],
      "metadata": {
        "id": "ZsqFyyfj5-Ln"
      },
      "execution_count": null,
      "outputs": []
    },
    {
      "cell_type": "markdown",
      "source": [
        "#### **Convertir `Ingreso_total` en una variable numérica**"
      ],
      "metadata": {
        "id": "WCUtpujmHtj6"
      }
    },
    {
      "cell_type": "code",
      "source": [
        "df['Ingreso_total'] = df['Ingreso_total'].astype(float)"
      ],
      "metadata": {
        "id": "CztBLPiJHs5f"
      },
      "execution_count": null,
      "outputs": []
    },
    {
      "cell_type": "markdown",
      "source": [
        "#### **Primer Filtración y Comprobación**"
      ],
      "metadata": {
        "id": "ybUrPMhB1eSU"
      }
    },
    {
      "cell_type": "markdown",
      "source": [
        "Ahora aplicamos la primera filtración en nuestro conjunto de datos. Además, vamos a verificar que la filtración fue exitosa."
      ],
      "metadata": {
        "id": "m_Cd9NXpkIN_"
      }
    },
    {
      "cell_type": "code",
      "source": [
        "df = df.loc[\n",
        "    (\n",
        "        (df['Mayor_15'])\n",
        "        & (df['Ocupado']) # filtramos personas que son menores de 15 años y no tienen ocupación\n",
        "    ), :]"
      ],
      "metadata": {
        "id": "85dBX3ILwrwK"
      },
      "execution_count": null,
      "outputs": []
    },
    {
      "cell_type": "code",
      "source": [
        "# ya que solamente queremos analisar la población ocupada, nadie debe estar desempleado\n",
        "assert df['Desempleado'].sum() == 0"
      ],
      "metadata": {
        "id": "0MTW9ShX6jkt"
      },
      "execution_count": null,
      "outputs": []
    },
    {
      "cell_type": "code",
      "source": [
        "# además, queríamos eleminar todas las personas fuera de la población trabajadora\n",
        "# por eso necesitamos verificar que no hay personas menor de 15 años en nuestro nuevo conjunto de datos\n",
        "print(df['Edad'].dtype)\n",
        "# ya que la variable `Edad` es categórica y no numérica - necesitamos obtener todos los valores de la columna\n",
        "# para entender como esta información fue grabada\n",
        "print(df['Edad'].cat.categories)"
      ],
      "metadata": {
        "colab": {
          "base_uri": "https://localhost:8080/"
        },
        "id": "oTwKAttik2NJ",
        "outputId": "4463e224-d5c1-48d6-a1bf-339632546a54"
      },
      "execution_count": null,
      "outputs": [
        {
          "output_type": "stream",
          "name": "stdout",
          "text": [
            "category\n",
            "Index([                                 1.0,\n",
            "                                        2.0,\n",
            "                                        3.0,\n",
            "                                        4.0,\n",
            "                                        5.0,\n",
            "                                        6.0,\n",
            "                                        7.0,\n",
            "                                        8.0,\n",
            "                                        9.0,\n",
            "                                       10.0,\n",
            "                                       11.0,\n",
            "                                       12.0,\n",
            "                                       13.0,\n",
            "                                       14.0,\n",
            "                                       15.0,\n",
            "                                       16.0,\n",
            "                                       17.0,\n",
            "                                       18.0,\n",
            "                                       19.0,\n",
            "                                       20.0,\n",
            "                                       21.0,\n",
            "                                       22.0,\n",
            "                                       23.0,\n",
            "                                       24.0,\n",
            "                                       25.0,\n",
            "                                       26.0,\n",
            "                                       27.0,\n",
            "                                       28.0,\n",
            "                                       29.0,\n",
            "                                       30.0,\n",
            "                                       31.0,\n",
            "                                       32.0,\n",
            "                                       33.0,\n",
            "                                       34.0,\n",
            "                                       35.0,\n",
            "                                       36.0,\n",
            "                                       37.0,\n",
            "                                       38.0,\n",
            "                                       39.0,\n",
            "                                       40.0,\n",
            "                                       41.0,\n",
            "                                       42.0,\n",
            "                                       43.0,\n",
            "                                       44.0,\n",
            "                                       45.0,\n",
            "                                       46.0,\n",
            "                                       47.0,\n",
            "                                       48.0,\n",
            "                                       49.0,\n",
            "                                       50.0,\n",
            "                                       51.0,\n",
            "                                       52.0,\n",
            "                                       53.0,\n",
            "                                       54.0,\n",
            "                                       55.0,\n",
            "                                       56.0,\n",
            "                                       57.0,\n",
            "                                       58.0,\n",
            "                                       59.0,\n",
            "                                       60.0,\n",
            "                                       61.0,\n",
            "                                       62.0,\n",
            "                                       63.0,\n",
            "                                       64.0,\n",
            "                                       65.0,\n",
            "                                       66.0,\n",
            "                                       67.0,\n",
            "                                       68.0,\n",
            "                                       69.0,\n",
            "                                       70.0,\n",
            "                                       71.0,\n",
            "                                       72.0,\n",
            "                                       73.0,\n",
            "                                       74.0,\n",
            "                                       75.0,\n",
            "                                       76.0,\n",
            "                                       77.0,\n",
            "                                       78.0,\n",
            "                                       79.0,\n",
            "                                       80.0,\n",
            "                                       81.0,\n",
            "                                       82.0,\n",
            "                                       83.0,\n",
            "                                       84.0,\n",
            "                                       85.0,\n",
            "                                       86.0,\n",
            "                                       87.0,\n",
            "                                       88.0,\n",
            "                                       89.0,\n",
            "                                       90.0,\n",
            "                                       91.0,\n",
            "                                       92.0,\n",
            "                                       93.0,\n",
            "                                       94.0,\n",
            "                                       95.0,\n",
            "                                       96.0,\n",
            "                            '97 años y más',\n",
            "       'Mayor de 15 años con edad ignorada',\n",
            "                          'Menor de un año'],\n",
            "      dtype='object')\n"
          ]
        }
      ]
    },
    {
      "cell_type": "code",
      "source": [
        "# con la perspicacia anterior, construyamos una lista de valors que no deben aparecer en nuestro conjunto de datos\n",
        "edad_no_deseada = list()\n",
        "edad_no_deseada.extend([x for x in range(0, 15)])\n",
        "edad_no_deseada.append('Menor de un año 0')"
      ],
      "metadata": {
        "id": "NkonB63e6vrP"
      },
      "execution_count": null,
      "outputs": []
    },
    {
      "cell_type": "code",
      "source": [
        "# aquí usamos la propiedad de variables booleanas - correcto (True) tiene el valor 1 y falso el valor 0\n",
        "# ya que todos las filas no deben tener una edad no deseada, la suma debe ser 0\n",
        "assert df['Edad'].isin(edad_no_deseada).sum() == 0  # assert asegura que la siguiente expresión está correcta"
      ],
      "metadata": {
        "id": "YgDpGjuC6jiY"
      },
      "execution_count": null,
      "outputs": []
    },
    {
      "cell_type": "markdown",
      "source": [
        "#### **Comprobaciónes de Integridad**"
      ],
      "metadata": {
        "id": "MFXQi15o3rwp"
      }
    },
    {
      "cell_type": "code",
      "source": [
        "# todas personas tienen un país de nacimiento\n",
        "df['Pais_nacimiento'].value_counts(dropna=False)"
      ],
      "metadata": {
        "colab": {
          "base_uri": "https://localhost:8080/"
        },
        "id": "cgnWyOBukaB0",
        "outputId": "9442fc74-6458-4a5c-adfb-62c8fd381a9e"
      },
      "execution_count": null,
      "outputs": [
        {
          "output_type": "execute_result",
          "data": {
            "text/plain": [
              "Costa Rica        8059\n",
              "Nicaragua          770\n",
              "Otro país           38\n",
              "Panama              29\n",
              "El Salvador         19\n",
              "Colombia            16\n",
              "Honduras             8\n",
              "Venezuela            6\n",
              "Estados Unidos       5\n",
              "México               3\n",
              "Name: Pais_nacimiento, dtype: int64"
            ]
          },
          "metadata": {},
          "execution_count": 22
        }
      ]
    },
    {
      "cell_type": "code",
      "source": [
        "# todas personas aparte de 8 tienen información sobre su nivel educativo\n",
        "df['Nivel_educativo'].value_counts(dropna=False)"
      ],
      "metadata": {
        "colab": {
          "base_uri": "https://localhost:8080/"
        },
        "id": "XdQOS5xa4f3c",
        "outputId": "0cbc1913-d28f-4d8d-d2eb-f90ebbd56a74"
      },
      "execution_count": null,
      "outputs": [
        {
          "output_type": "execute_result",
          "data": {
            "text/plain": [
              "Primaria completa           2326\n",
              "Secundaria incompleta       1935\n",
              "Universitario con título    1692\n",
              "Secundaria completa         1627\n",
              "Primaria incompleta          729\n",
              "Universitario sin título     466\n",
              "Ninguno                      170\n",
              "No especificado                8\n",
              "Name: Nivel_educativo, dtype: int64"
            ]
          },
          "metadata": {},
          "execution_count": 23
        }
      ]
    },
    {
      "cell_type": "code",
      "source": [
        "# todas personas contestaron la pregunta sobre su conocimiento de una lengua extranjera\n",
        "df['Idioma'].value_counts(dropna=False)"
      ],
      "metadata": {
        "colab": {
          "base_uri": "https://localhost:8080/"
        },
        "id": "sykXWTlp4f0n",
        "outputId": "0def17c4-acc0-417a-c94d-66c17e0fbd18"
      },
      "execution_count": null,
      "outputs": [
        {
          "output_type": "execute_result",
          "data": {
            "text/plain": [
              "No    8284\n",
              "Sí     669\n",
              "Name: Idioma, dtype: int64"
            ]
          },
          "metadata": {},
          "execution_count": 24
        }
      ]
    },
    {
      "cell_type": "code",
      "source": [
        "# hay un número considerable de personas que trabajan pero no reportaron sus ingresos en la encuesta!\n",
        "df.loc[df['Ingreso_total'].isnull(), :].shape[0]"
      ],
      "metadata": {
        "colab": {
          "base_uri": "https://localhost:8080/"
        },
        "id": "X2S4JBP_9aB5",
        "outputId": "1ba2ce37-afc6-4b46-9681-8b23f42a1abf"
      },
      "execution_count": null,
      "outputs": [
        {
          "output_type": "execute_result",
          "data": {
            "text/plain": [
              "886"
            ]
          },
          "metadata": {},
          "execution_count": 25
        }
      ]
    },
    {
      "cell_type": "code",
      "source": [
        "# ya que hay personas trabajadoras sin declaración de sus ingresos en ambos grupos\n",
        "# de monolingües y bilingües, la eliminación de estas personas no representa un problema\n",
        "df.loc[df['Ingreso_total'].isnull(), 'Idioma'].value_counts()"
      ],
      "metadata": {
        "colab": {
          "base_uri": "https://localhost:8080/"
        },
        "id": "k7q3JrCm3p2-",
        "outputId": "388d9995-2807-479b-b873-afd9193800a1"
      },
      "execution_count": null,
      "outputs": [
        {
          "output_type": "execute_result",
          "data": {
            "text/plain": [
              "No    842\n",
              "Sí     44\n",
              "Name: Idioma, dtype: int64"
            ]
          },
          "metadata": {},
          "execution_count": 28
        }
      ]
    },
    {
      "cell_type": "markdown",
      "source": [
        "#### **Filtración Final & Análisis**"
      ],
      "metadata": {
        "id": "mBZdFRLJGs19"
      }
    },
    {
      "cell_type": "code",
      "source": [
        "df = df.loc[\n",
        "    (\n",
        "        (df['Pais_nacimiento']=='Costa Rica')\n",
        "        & (df['Nivel_educativo']!='No especificado')\n",
        "        & (~df['Ingreso_total'].isnull())  # `~` invierte valores booleanos; True (False) se convierte en False (True)\n",
        "    ),\n",
        "    :\n",
        "]"
      ],
      "metadata": {
        "id": "fV3e9M9lG0qF"
      },
      "execution_count": null,
      "outputs": []
    },
    {
      "cell_type": "code",
      "source": [
        "# aseguremonos que los filtros funcionaron\n",
        "assert (df['Pais_nacimiento']=='Costa Rica').all()\n",
        "assert (df['Pais_nacimiento']!='No especificado').all()\n",
        "assert (~df['Pais_nacimiento'].isnull()).all()"
      ],
      "metadata": {
        "id": "9jCPS8CVG0cr"
      },
      "execution_count": null,
      "outputs": []
    },
    {
      "cell_type": "code",
      "source": [
        "agg_df = (\n",
        "    df\n",
        "    .groupby(['Nivel_educativo', 'Idioma'])  # agrupaciones\n",
        "    .agg(\n",
        "          {\n",
        "              'Ingreso_total': ['mean', 'count']  # agregación de la variable que nos interesa\n",
        "          }\n",
        "    )\n",
        ")"
      ],
      "metadata": {
        "id": "QlIpR0WaHZt_"
      },
      "execution_count": null,
      "outputs": []
    },
    {
      "cell_type": "code",
      "source": [
        "print(agg_df)"
      ],
      "metadata": {
        "colab": {
          "base_uri": "https://localhost:8080/"
        },
        "id": "XgrqEUABHZrn",
        "outputId": "e172e2eb-3979-4e01-f700-dfdeca1a4f23"
      },
      "execution_count": null,
      "outputs": [
        {
          "output_type": "stream",
          "name": "stdout",
          "text": [
            "                                 Ingreso_total      \n",
            "                                          mean count\n",
            "Nivel_educativo          Idioma                     \n",
            "Ninguno                  No      185232.150407    82\n",
            "                         Sí                NaN     0\n",
            "No especificado          No                NaN     0\n",
            "                         Sí                NaN     0\n",
            "Primaria completa        No      276601.003792  1846\n",
            "                         Sí      351981.611111    12\n",
            "Primaria incompleta      No      236482.502572   486\n",
            "                         Sí                NaN     0\n",
            "Secundaria completa      No      361958.409992  1261\n",
            "                         Sí      524612.316817   111\n",
            "Secundaria incompleta    No      312495.903812  1517\n",
            "                         Sí      305469.256410    39\n",
            "Universitario con título No      811075.840051  1166\n",
            "                         Sí      872776.215100   351\n",
            "Universitario sin título No      391873.429387   321\n",
            "                         Sí      614928.881250    80\n"
          ]
        }
      ]
    },
    {
      "cell_type": "markdown",
      "source": [
        "Esta tabla tiene la información que buscabamos, pero las filas no están ordenadas en una manera que permite leer los resultados fácilmente; por lo tanto, lo que queremos es un orden del nivel educativo más bajo al más alto. Además, no queremos ver la categoría `No especificado` porque la eliminamos antes. Vamos a hacer esta ordenación ahora:"
      ],
      "metadata": {
        "id": "tCssAi33oOJF"
      }
    },
    {
      "cell_type": "code",
      "source": [
        "# borrar categoría No especificado\n",
        "df['Nivel_educativo'] = df['Nivel_educativo'].cat.remove_categories('No especificado')"
      ],
      "metadata": {
        "id": "osWsfV23JQdU"
      },
      "execution_count": null,
      "outputs": []
    },
    {
      "cell_type": "code",
      "source": [
        "# nuevos nombres para las categorías\n",
        "df['Nivel_educativo'] = df['Nivel_educativo'].cat.rename_categories(\n",
        "    {\n",
        "        'Ninguno': '1) Ninguno',\n",
        "        'Primaria incompleta': '2) Primaria incompleta',\n",
        "        'Primaria completa': '3) Primaria completa',\n",
        "        'Secundaria incompleta': '4) Secundaria incompleta',\n",
        "        'Secundaria completa': '5) Secundaria completa',\n",
        "        'Universitario sin título': '6) Universitario sin título',\n",
        "        'Universitario con título': '7) Universitario con título'\n",
        "    }\n",
        ")"
      ],
      "metadata": {
        "id": "qBsUdD6lJQRS"
      },
      "execution_count": null,
      "outputs": []
    },
    {
      "cell_type": "code",
      "source": [
        "# definición del orden\n",
        "df['Nivel_educativo'] = df['Nivel_educativo'].cat.reorder_categories(\n",
        "    [\n",
        "        '1) Ninguno',\n",
        "        '2) Primaria incompleta',\n",
        "        '3) Primaria completa',\n",
        "        '4) Secundaria incompleta',\n",
        "        '5) Secundaria completa',\n",
        "        '6) Universitario sin título',\n",
        "        '7) Universitario con título'\n",
        "    ]\n",
        ")"
      ],
      "metadata": {
        "id": "2T3OdmbhLqt4"
      },
      "execution_count": null,
      "outputs": []
    },
    {
      "cell_type": "code",
      "source": [
        "# hacemos la agregación otra vez\n",
        "agg_df = (\n",
        "    df\n",
        "    .groupby(['Nivel_educativo', 'Idioma'])\n",
        "    .agg(\n",
        "          {\n",
        "              'Ingreso_total': ['mean', 'count']\n",
        "          }\n",
        "    )\n",
        ")"
      ],
      "metadata": {
        "id": "3N5wk206KSvo"
      },
      "execution_count": null,
      "outputs": []
    },
    {
      "cell_type": "code",
      "source": [
        "agg_df"
      ],
      "metadata": {
        "colab": {
          "base_uri": "https://localhost:8080/",
          "height": 551
        },
        "id": "bLwswcwQKTn9",
        "outputId": "61bd87bd-ed6c-4a30-83d9-0b48c2524b2f"
      },
      "execution_count": null,
      "outputs": [
        {
          "output_type": "execute_result",
          "data": {
            "text/plain": [
              "                                    Ingreso_total      \n",
              "                                             mean count\n",
              "Nivel_educativo             Idioma                     \n",
              "1) Ninguno                  No      185232.150407    82\n",
              "                            Sí                NaN     0\n",
              "2) Primaria incompleta      No      236482.502572   486\n",
              "                            Sí                NaN     0\n",
              "3) Primaria completa        No      276601.003792  1846\n",
              "                            Sí      351981.611111    12\n",
              "4) Secundaria incompleta    No      312495.903812  1517\n",
              "                            Sí      305469.256410    39\n",
              "5) Secundaria completa      No      361958.409992  1261\n",
              "                            Sí      524612.316817   111\n",
              "6) Universitario sin título No      391873.429387   321\n",
              "                            Sí      614928.881250    80\n",
              "7) Universitario con título No      811075.840051  1166\n",
              "                            Sí      872776.215100   351"
            ],
            "text/html": [
              "\n",
              "  <div id=\"df-db3ded5b-f9bf-4028-b6a1-0288b650fcf9\">\n",
              "    <div class=\"colab-df-container\">\n",
              "      <div>\n",
              "<style scoped>\n",
              "    .dataframe tbody tr th:only-of-type {\n",
              "        vertical-align: middle;\n",
              "    }\n",
              "\n",
              "    .dataframe tbody tr th {\n",
              "        vertical-align: top;\n",
              "    }\n",
              "\n",
              "    .dataframe thead tr th {\n",
              "        text-align: left;\n",
              "    }\n",
              "\n",
              "    .dataframe thead tr:last-of-type th {\n",
              "        text-align: right;\n",
              "    }\n",
              "</style>\n",
              "<table border=\"1\" class=\"dataframe\">\n",
              "  <thead>\n",
              "    <tr>\n",
              "      <th></th>\n",
              "      <th></th>\n",
              "      <th colspan=\"2\" halign=\"left\">Ingreso_total</th>\n",
              "    </tr>\n",
              "    <tr>\n",
              "      <th></th>\n",
              "      <th></th>\n",
              "      <th>mean</th>\n",
              "      <th>count</th>\n",
              "    </tr>\n",
              "    <tr>\n",
              "      <th>Nivel_educativo</th>\n",
              "      <th>Idioma</th>\n",
              "      <th></th>\n",
              "      <th></th>\n",
              "    </tr>\n",
              "  </thead>\n",
              "  <tbody>\n",
              "    <tr>\n",
              "      <th rowspan=\"2\" valign=\"top\">1) Ninguno</th>\n",
              "      <th>No</th>\n",
              "      <td>185232.150407</td>\n",
              "      <td>82</td>\n",
              "    </tr>\n",
              "    <tr>\n",
              "      <th>Sí</th>\n",
              "      <td>NaN</td>\n",
              "      <td>0</td>\n",
              "    </tr>\n",
              "    <tr>\n",
              "      <th rowspan=\"2\" valign=\"top\">2) Primaria incompleta</th>\n",
              "      <th>No</th>\n",
              "      <td>236482.502572</td>\n",
              "      <td>486</td>\n",
              "    </tr>\n",
              "    <tr>\n",
              "      <th>Sí</th>\n",
              "      <td>NaN</td>\n",
              "      <td>0</td>\n",
              "    </tr>\n",
              "    <tr>\n",
              "      <th rowspan=\"2\" valign=\"top\">3) Primaria completa</th>\n",
              "      <th>No</th>\n",
              "      <td>276601.003792</td>\n",
              "      <td>1846</td>\n",
              "    </tr>\n",
              "    <tr>\n",
              "      <th>Sí</th>\n",
              "      <td>351981.611111</td>\n",
              "      <td>12</td>\n",
              "    </tr>\n",
              "    <tr>\n",
              "      <th rowspan=\"2\" valign=\"top\">4) Secundaria incompleta</th>\n",
              "      <th>No</th>\n",
              "      <td>312495.903812</td>\n",
              "      <td>1517</td>\n",
              "    </tr>\n",
              "    <tr>\n",
              "      <th>Sí</th>\n",
              "      <td>305469.256410</td>\n",
              "      <td>39</td>\n",
              "    </tr>\n",
              "    <tr>\n",
              "      <th rowspan=\"2\" valign=\"top\">5) Secundaria completa</th>\n",
              "      <th>No</th>\n",
              "      <td>361958.409992</td>\n",
              "      <td>1261</td>\n",
              "    </tr>\n",
              "    <tr>\n",
              "      <th>Sí</th>\n",
              "      <td>524612.316817</td>\n",
              "      <td>111</td>\n",
              "    </tr>\n",
              "    <tr>\n",
              "      <th rowspan=\"2\" valign=\"top\">6) Universitario sin título</th>\n",
              "      <th>No</th>\n",
              "      <td>391873.429387</td>\n",
              "      <td>321</td>\n",
              "    </tr>\n",
              "    <tr>\n",
              "      <th>Sí</th>\n",
              "      <td>614928.881250</td>\n",
              "      <td>80</td>\n",
              "    </tr>\n",
              "    <tr>\n",
              "      <th rowspan=\"2\" valign=\"top\">7) Universitario con título</th>\n",
              "      <th>No</th>\n",
              "      <td>811075.840051</td>\n",
              "      <td>1166</td>\n",
              "    </tr>\n",
              "    <tr>\n",
              "      <th>Sí</th>\n",
              "      <td>872776.215100</td>\n",
              "      <td>351</td>\n",
              "    </tr>\n",
              "  </tbody>\n",
              "</table>\n",
              "</div>\n",
              "      <button class=\"colab-df-convert\" onclick=\"convertToInteractive('df-db3ded5b-f9bf-4028-b6a1-0288b650fcf9')\"\n",
              "              title=\"Convert this dataframe to an interactive table.\"\n",
              "              style=\"display:none;\">\n",
              "        \n",
              "  <svg xmlns=\"http://www.w3.org/2000/svg\" height=\"24px\"viewBox=\"0 0 24 24\"\n",
              "       width=\"24px\">\n",
              "    <path d=\"M0 0h24v24H0V0z\" fill=\"none\"/>\n",
              "    <path d=\"M18.56 5.44l.94 2.06.94-2.06 2.06-.94-2.06-.94-.94-2.06-.94 2.06-2.06.94zm-11 1L8.5 8.5l.94-2.06 2.06-.94-2.06-.94L8.5 2.5l-.94 2.06-2.06.94zm10 10l.94 2.06.94-2.06 2.06-.94-2.06-.94-.94-2.06-.94 2.06-2.06.94z\"/><path d=\"M17.41 7.96l-1.37-1.37c-.4-.4-.92-.59-1.43-.59-.52 0-1.04.2-1.43.59L10.3 9.45l-7.72 7.72c-.78.78-.78 2.05 0 2.83L4 21.41c.39.39.9.59 1.41.59.51 0 1.02-.2 1.41-.59l7.78-7.78 2.81-2.81c.8-.78.8-2.07 0-2.86zM5.41 20L4 18.59l7.72-7.72 1.47 1.35L5.41 20z\"/>\n",
              "  </svg>\n",
              "      </button>\n",
              "      \n",
              "  <style>\n",
              "    .colab-df-container {\n",
              "      display:flex;\n",
              "      flex-wrap:wrap;\n",
              "      gap: 12px;\n",
              "    }\n",
              "\n",
              "    .colab-df-convert {\n",
              "      background-color: #E8F0FE;\n",
              "      border: none;\n",
              "      border-radius: 50%;\n",
              "      cursor: pointer;\n",
              "      display: none;\n",
              "      fill: #1967D2;\n",
              "      height: 32px;\n",
              "      padding: 0 0 0 0;\n",
              "      width: 32px;\n",
              "    }\n",
              "\n",
              "    .colab-df-convert:hover {\n",
              "      background-color: #E2EBFA;\n",
              "      box-shadow: 0px 1px 2px rgba(60, 64, 67, 0.3), 0px 1px 3px 1px rgba(60, 64, 67, 0.15);\n",
              "      fill: #174EA6;\n",
              "    }\n",
              "\n",
              "    [theme=dark] .colab-df-convert {\n",
              "      background-color: #3B4455;\n",
              "      fill: #D2E3FC;\n",
              "    }\n",
              "\n",
              "    [theme=dark] .colab-df-convert:hover {\n",
              "      background-color: #434B5C;\n",
              "      box-shadow: 0px 1px 3px 1px rgba(0, 0, 0, 0.15);\n",
              "      filter: drop-shadow(0px 1px 2px rgba(0, 0, 0, 0.3));\n",
              "      fill: #FFFFFF;\n",
              "    }\n",
              "  </style>\n",
              "\n",
              "      <script>\n",
              "        const buttonEl =\n",
              "          document.querySelector('#df-db3ded5b-f9bf-4028-b6a1-0288b650fcf9 button.colab-df-convert');\n",
              "        buttonEl.style.display =\n",
              "          google.colab.kernel.accessAllowed ? 'block' : 'none';\n",
              "\n",
              "        async function convertToInteractive(key) {\n",
              "          const element = document.querySelector('#df-db3ded5b-f9bf-4028-b6a1-0288b650fcf9');\n",
              "          const dataTable =\n",
              "            await google.colab.kernel.invokeFunction('convertToInteractive',\n",
              "                                                     [key], {});\n",
              "          if (!dataTable) return;\n",
              "\n",
              "          const docLinkHtml = 'Like what you see? Visit the ' +\n",
              "            '<a target=\"_blank\" href=https://colab.research.google.com/notebooks/data_table.ipynb>data table notebook</a>'\n",
              "            + ' to learn more about interactive tables.';\n",
              "          element.innerHTML = '';\n",
              "          dataTable['output_type'] = 'display_data';\n",
              "          await google.colab.output.renderOutput(dataTable, element);\n",
              "          const docLink = document.createElement('div');\n",
              "          docLink.innerHTML = docLinkHtml;\n",
              "          element.appendChild(docLink);\n",
              "        }\n",
              "      </script>\n",
              "    </div>\n",
              "  </div>\n",
              "  "
            ]
          },
          "metadata": {},
          "execution_count": 44
        }
      ]
    },
    {
      "cell_type": "markdown",
      "source": [
        "De esta tabla, es posible ver dos efectos. Primero, individuos con niveles de educación más altos, suelen ganar más dinero. Segundo, para el mismo nivel de educación, personas con conocimientos de una lengua extranjera suelen tener ingresos más elevados también. Solamente en el grupo `4) Secundaria incompleta` el efecto es contrario, pero, también puede ser por el número bajo de personas en el grupo de bilingües. "
      ],
      "metadata": {
        "id": "B-zQj9ttOiC7"
      }
    },
    {
      "cell_type": "markdown",
      "source": [
        "Aunque tenemos nuestros primeras perspicacias sobre nuestra pregunta investigadora, falta una prueba muy importante: la evaluación de la significancia estadística. Esta vamos a llevar a cabo en el próximo capítulo, juntos con visualisaciones de las perspicacias."
      ],
      "metadata": {
        "id": "QJcuqKJhOh1D"
      }
    },
    {
      "cell_type": "markdown",
      "source": [
        "## Práctica Capítulo 2.0"
      ],
      "metadata": {
        "id": "gJF8A92Mg7Ue"
      }
    },
    {
      "cell_type": "code",
      "source": [
        "# Repita el análisis, pero incluye a la población Nicaragüense, es decir repita el análisis usando todas\n",
        "# las personas encuestadas que viven en Costa Rica y nacieron en Costa Rica o Nicaragua"
      ],
      "metadata": {
        "id": "BOk1aMJPhmot"
      },
      "execution_count": null,
      "outputs": []
    },
    {
      "cell_type": "markdown",
      "source": [
        "# ⚠️ Área de Construcción ⚠️"
      ],
      "metadata": {
        "id": "oFKOEvfofYQW"
      }
    },
    {
      "cell_type": "code",
      "source": [
        "# regresión lineal\n",
        "Y = U + I + U x I\n"
      ],
      "metadata": {
        "id": "RFOd0S2BqDBk"
      },
      "execution_count": null,
      "outputs": []
    }
  ]
}