{
  "nbformat": 4,
  "nbformat_minor": 0,
  "metadata": {
    "colab": {
      "provenance": [],
      "authorship_tag": "ABX9TyMgic5H0HgK1DD8qZNAt0WL",
      "include_colab_link": true
    },
    "kernelspec": {
      "name": "python3",
      "display_name": "Python 3"
    },
    "language_info": {
      "name": "python"
    }
  },
  "cells": [
    {
      "cell_type": "markdown",
      "metadata": {
        "id": "view-in-github",
        "colab_type": "text"
      },
      "source": [
        "<a href=\"https://colab.research.google.com/github/SimonGsponer/Introduciendo_Python_Para_Ciencias_Sociales/blob/main/Introducci%C3%B3n_a_Python.ipynb\" target=\"_parent\"><img src=\"https://colab.research.google.com/assets/colab-badge.svg\" alt=\"Open In Colab\"/></a>"
      ]
    },
    {
      "cell_type": "markdown",
      "source": [
        "# Introducción a Python"
      ],
      "metadata": {
        "id": "CewMEW0HBNIO"
      }
    },
    {
      "cell_type": "markdown",
      "source": [
        "## 1.0 Tipos de Datos Principales"
      ],
      "metadata": {
        "id": "-MHzu7iWBNKl"
      }
    },
    {
      "cell_type": "markdown",
      "source": [
        "**Truco:** La función `print()` se usa para ver resultados de operaciones."
      ],
      "metadata": {
        "id": "3NxRruvmshDv"
      }
    },
    {
      "cell_type": "markdown",
      "source": [
        "### Tipo Booleano"
      ],
      "metadata": {
        "id": "WEU68YDkyD9K"
      }
    },
    {
      "cell_type": "code",
      "source": [
        "# el tipo booleano tiene dos valores: True (correcto) o False (incorrecto). Se usa para comprobar condiciones\n",
        "# y implementar secuencias lógicas. Correcto/incorrecto también tienen el valor numérico 1/0.\n",
        "# aplicación en análisis de datos: filtrar un conjunto de datos usando alguna condición lógica\n",
        "# IMPORTANTE: la función ´bool()´ se puede usar para convertir cualquier objeto de python en el tipo booleano!\n",
        "print(f\"Algunos ejemplos de booleanos: a: {True}, b: {bool(1)}, c: {bool(-4)}, d: {bool('hola')}, \\\n",
        "e: {bool(None)}, f: {bool('')}, g: {bool(0)}\")"
      ],
      "metadata": {
        "colab": {
          "base_uri": "https://localhost:8080/"
        },
        "id": "kg980uZ5BWp2",
        "outputId": "6ce0648c-19ec-4360-953b-272acde6b4bf"
      },
      "execution_count": null,
      "outputs": [
        {
          "output_type": "stream",
          "name": "stdout",
          "text": [
            "Algunos ejemplos de booleanos: a: True, b: True, c: True, d: True, e: False, f: False, g: False\n"
          ]
        }
      ]
    },
    {
      "cell_type": "markdown",
      "source": [
        "### Números Enteros"
      ],
      "metadata": {
        "id": "wCRiry99yfAS"
      }
    },
    {
      "cell_type": "code",
      "source": [
        "# integer -> números enteros\n",
        "# aplicación en análisis de datos: variables como edad, estatura, peso, etcétera\n",
        "print(f\"Algunos ejemplos de números enteros: {5}, {int(5.5)}, {int(5.8)}, {-3}\")"
      ],
      "metadata": {
        "colab": {
          "base_uri": "https://localhost:8080/"
        },
        "id": "dsJ-Yp-eBZoL",
        "outputId": "9f9313be-a088-4880-cafe-5d9c7ad68352"
      },
      "execution_count": null,
      "outputs": [
        {
          "output_type": "stream",
          "name": "stdout",
          "text": [
            "Algunos ejemplos de números enteros: 5, 5, 5, -3\n"
          ]
        }
      ]
    },
    {
      "cell_type": "markdown",
      "source": [
        "### Punto Flotante"
      ],
      "metadata": {
        "id": "1cyVjWhyyp91"
      }
    },
    {
      "cell_type": "code",
      "source": [
        "# float -> punto flotante, número que admite la parte decimal\n",
        "# aplicación en análisis de datos: variables numéricas en general \n",
        "print(f\"Algunos ejemplos de puntos flotantes: {5.5}, {float(0)}, {int(1)/10}\")"
      ],
      "metadata": {
        "colab": {
          "base_uri": "https://localhost:8080/"
        },
        "id": "5n6AeF9KW9pc",
        "outputId": "ff5e3e21-9390-4944-ffae-0a8e38177598"
      },
      "execution_count": null,
      "outputs": [
        {
          "output_type": "stream",
          "name": "stdout",
          "text": [
            "Algunos ejemplos de puntos flotantes: 5.5, 0.0, 0.1\n"
          ]
        }
      ]
    },
    {
      "cell_type": "markdown",
      "source": [
        "### Cadena"
      ],
      "metadata": {
        "id": "OZA3HSa2ys6j"
      }
    },
    {
      "cell_type": "code",
      "source": [
        "# string -> cadena, forma de representar letras y textos\n",
        "# aplicación en análisis de datos: respuestas escritas de personas, variables categóricas antes de codificarlas\n",
        "print(f\"Algunos ejemplos de cadenas: {str(5)}, {'hello world'}, {str(bool(-4))}\")\n",
        "\n",
        "print(f\"Importante: {str(bool(-4)) ==en  bool(-4)}, {str(5) == 5}!!!\")"
      ],
      "metadata": {
        "colab": {
          "base_uri": "https://localhost:8080/"
        },
        "id": "I6JB9NGUY1KC",
        "outputId": "10d09c21-67fb-4d9c-dc4b-590bac7ba269"
      },
      "execution_count": null,
      "outputs": [
        {
          "output_type": "stream",
          "name": "stdout",
          "text": [
            "Algunos ejemplos de cadenas: 5, hello world, True\n",
            "Importante: False, False!!!\n"
          ]
        }
      ]
    },
    {
      "cell_type": "markdown",
      "source": [
        "### Asignación vs. Comprobar Igualdad"
      ],
      "metadata": {
        "id": "q_irx0c2bpIW"
      }
    },
    {
      "cell_type": "code",
      "source": [
        "# el signo igual se usa para asignar valores a variables (x es una variable con el valor 3)\n",
        "x = 3\n",
        "print(x)\n",
        "print(x * x)\n",
        "print(x ** x)\n",
        "# para usar el signo igual en la manera matemática (o sea, comprobar igualdad) es necesario usar dos signos iguales seguidos\n",
        "print(x == 3)"
      ],
      "metadata": {
        "colab": {
          "base_uri": "https://localhost:8080/"
        },
        "id": "8utjG3lxboRv",
        "outputId": "6bd9eb8f-c350-4ac9-94fd-62ce9fb1e3eb"
      },
      "execution_count": null,
      "outputs": [
        {
          "output_type": "stream",
          "name": "stdout",
          "text": [
            "3\n",
            "9\n",
            "27\n",
            "True\n"
          ]
        }
      ]
    },
    {
      "cell_type": "markdown",
      "source": [
        "### Práctica de Capítulo 1.0\n",
        "\n",
        "truco: la función `type()` se puede usar para averiguar el tipo de un objeto en python, p. ej. `type(\"hello\")` devuelve `str`. Para imprimir el resultado necesita usar la función `print()` también; o sea `print(type(\"hello\"))`"
      ],
      "metadata": {
        "id": "NPGCW31pdNt6"
      }
    },
    {
      "cell_type": "code",
      "source": [
        "# 1.1 Asigna el número entero 2500 a una variable que se llama `colones` e imprímelo.\n",
        "\n",
        "# 1.2 Qué es el resultado de 2 == 3, y ¿cúal tipo es el resultado? \n",
        "\n",
        "# 1.3 ¿Cúal es la diferencia entre las expresiones `x = 3` y `x == 3`?\n",
        "\n",
        "# 1.4 ¿Cúal tipo de dato es el valor 9?\n",
        "\n",
        "# 1.5 ¿Cúal tipo de dato es el número 3.0? \n",
        "\n",
        "# 1.6 ¿Cúal tipo es la expresión 2 ** 4.0?\n"
      ],
      "metadata": {
        "id": "lF0RA5hDdMto"
      },
      "execution_count": null,
      "outputs": []
    },
    {
      "cell_type": "markdown",
      "source": [
        "## 2.0 Más Sobre Tipos Numéricos"
      ],
      "metadata": {
        "id": "vtekZapqBZ0Y"
      }
    },
    {
      "cell_type": "markdown",
      "source": [
        "### Números Enteros"
      ],
      "metadata": {
        "id": "RUe_yODlz4q8"
      }
    },
    {
      "cell_type": "code",
      "source": [
        "# cualquier combinación de números sin decimales produce un número entero\n",
        "x = 390480475878994859\n",
        "print(f\"El valor de x es `{x}` y el tipo de x es `{type(x)}`\")\n",
        "\n",
        "x = -14857873480705875083758785\n",
        "print(f\"El valor de x es `{x}` y el tipo de x es `{type(x)}`\")\n",
        "\n",
        "# si es necesario leer el valor exacto del número se puede usar el guión bajo como mil separador\n",
        "# IMPORTANTE: no es posible usar comas como mil separador porque crean un otro \n",
        "# tipo de dato que veremos luego (una tupla)\n",
        "x = 1_000_000_000\n",
        "print(x)"
      ],
      "metadata": {
        "colab": {
          "base_uri": "https://localhost:8080/"
        },
        "id": "W_oYQ1pgRmAf",
        "outputId": "fe3c0ac3-8aa0-40da-a9b5-8c26d61917ec"
      },
      "execution_count": null,
      "outputs": [
        {
          "output_type": "stream",
          "name": "stdout",
          "text": [
            "El valor de x es `390480475878994859` y el tipo de x es `<class 'int'>`\n",
            "El valor de x es `-14857873480705875083758785` y el tipo de x es `<class 'int'>`\n",
            "1000000000\n"
          ]
        }
      ]
    },
    {
      "cell_type": "code",
      "source": [
        "# IMPORTANTE: en python está prohibido empezar un número entero con 0 aparte del literal cero\n",
        "# eso está bien\n",
        "y = 0\n",
        "# eso produce un error\n",
        "y = 04"
      ],
      "metadata": {
        "colab": {
          "base_uri": "https://localhost:8080/",
          "height": 133
        },
        "id": "xD21yc8CX6J_",
        "outputId": "53ab428e-66bf-4c69-a8c6-e38f6dacfc0a"
      },
      "execution_count": null,
      "outputs": [
        {
          "output_type": "error",
          "ename": "SyntaxError",
          "evalue": "ignored",
          "traceback": [
            "\u001b[0;36m  File \u001b[0;32m\"<ipython-input-14-72134f7223c1>\"\u001b[0;36m, line \u001b[0;32m8\u001b[0m\n\u001b[0;31m    y = 04\u001b[0m\n\u001b[0m         ^\u001b[0m\n\u001b[0;31mSyntaxError\u001b[0m\u001b[0;31m:\u001b[0m leading zeros in decimal integer literals are not permitted; use an 0o prefix for octal integers\n"
          ]
        }
      ]
    },
    {
      "cell_type": "markdown",
      "source": [
        "**Operaciones Numéricas**"
      ],
      "metadata": {
        "id": "qFDKO6Wd3BDr"
      }
    },
    {
      "cell_type": "code",
      "source": [
        "print(f\"suma: 3 + 4 = {3 + 4}\")\n",
        "print(f\"resta: 3 - 4 = {3 - 4}\")\n",
        "print(f\"multiplicación: 3 * 4 = {3 * 4}\")\n",
        "print(f\"división: 3 / 4 = {3 / 4}\")\n",
        "print(f\"división entera: 13 // 4 = {13 // 4}\")\n",
        "print(f\"resto de división entera: 13 % 4 = {13 % 4}\")\n",
        "print(f\"\"\"\\nTambién se puede usar la función divmod(x, y) para obtener los\n",
        "resultados de la división entera y su resto directamente:\n",
        "divmod(13, 4) = {divmod(13, 4)}\\n\"\"\")\n",
        "print(f\"x elevado a y: 3 ** 4 = {3 ** 4} o también con la función pow(x,y): {pow(3, 4)}\")"
      ],
      "metadata": {
        "colab": {
          "base_uri": "https://localhost:8080/"
        },
        "id": "5mJjs7QTX7rn",
        "outputId": "82a843e2-fa67-49fd-dc23-75f9b6b354ef"
      },
      "execution_count": null,
      "outputs": [
        {
          "output_type": "stream",
          "name": "stdout",
          "text": [
            "suma: 3 + 4 = 7\n",
            "resta: 3 - 4 = -1\n",
            "multiplicación: 3 * 4 = 12\n",
            "división: 3 / 4 = 0.75\n",
            "división entera: 13 // 4 = 3\n",
            "resto de división entera: 13 % 4 = 1\n",
            "\n",
            "También se puede usar la función divmod(x, y) para obtener los\n",
            "resultados de la división entera y su resto directamente:\n",
            "divmod(13, 4) = (3, 1)\n",
            "\n",
            "x elevado a y: 3 ** 4 = 81 o también con la función pow(x,y): 81\n"
          ]
        }
      ]
    },
    {
      "cell_type": "markdown",
      "source": [
        "### Puntos Flotantes"
      ],
      "metadata": {
        "id": "TLO2oVo1BNuE"
      }
    },
    {
      "cell_type": "code",
      "source": [
        "# cualquier combinación de números con cifras decimales produce un punto flotante\n",
        "x = 5.\n",
        "print(f\"x es: `{x}` y el tipo es `{type(x)}`\")\n",
        "\n",
        "# aunque sea mala práctica, puntos flotantes pueden empezar con un cero adelante\n",
        "x = 07.0\n",
        "print(f\"x es: `{x}` y el tipo es `{type(x)}`\")\n",
        "\n",
        "x = 19.09\n",
        "print(f\"x es: `{x}` y el tipo es `{type(x)}`\")\n",
        "\n",
        "x = 1_000.0\n",
        "print(f\"x es: `{x}` y el tipo es `{type(x)}`\")"
      ],
      "metadata": {
        "colab": {
          "base_uri": "https://localhost:8080/"
        },
        "id": "4WogncMYx9x_",
        "outputId": "98a84e4a-d4e8-422f-a641-978ba3cf6406"
      },
      "execution_count": null,
      "outputs": [
        {
          "output_type": "stream",
          "name": "stdout",
          "text": [
            "x es: `5.0` y el tipo es `<class 'float'>`\n",
            "x es: `7.0` y el tipo es `<class 'float'>`\n",
            "x es: `19.09` y el tipo es `<class 'float'>`\n",
            "x es: `1000.0` y el tipo es `<class 'float'>`\n"
          ]
        }
      ]
    },
    {
      "cell_type": "markdown",
      "source": [
        "### Conversiones "
      ],
      "metadata": {
        "id": "fC-IGRQiDkod"
      }
    },
    {
      "cell_type": "code",
      "source": [
        "# en la primera práctica ya vimos la conversión automática entre números enteros y puntos flotantes\n",
        "# ya que los valores correcto/incorrecto del tipo booleano están ligados a los valores 1/0, estos se convierten\n",
        "# en operaciones matemáticas también\n",
        "\n",
        "x = True + 1\n",
        "print(x)\n",
        "\n",
        "y = 4 - True + False \n",
        "print(y)"
      ],
      "metadata": {
        "colab": {
          "base_uri": "https://localhost:8080/"
        },
        "id": "vhtVQLNfCLY-",
        "outputId": "2740a287-da76-40df-c2de-c1e527eced2b"
      },
      "execution_count": null,
      "outputs": [
        {
          "output_type": "stream",
          "name": "stdout",
          "text": [
            "2\n",
            "3\n"
          ]
        }
      ]
    },
    {
      "cell_type": "markdown",
      "source": [
        "### Práctica de Capítulo 2.0"
      ],
      "metadata": {
        "id": "927X9FTsRNww"
      }
    },
    {
      "cell_type": "code",
      "source": [
        "# 2.1 ¿Qué hace el operador `+=`? ¿Qué hacen los operadores `-=`, `*=`, `**=` y `/=`?\n",
        "\n",
        "x = 2\n",
        "x += 5\n",
        "print(x)\n",
        "\n",
        "# 2.2 ¿Cuántos centímetros tiene un kilómetro? Asigne la cantidad de metros en un kilómetro y\n",
        "# la cantidad de centímetros en un metro a variables\n",
        "metros_en_kilometro = \n",
        "centimetros_en_metro = \n",
        "\n",
        "# 2.3 Use las variables de 2.1 para hacer la multiplicación; asigne la multiplicación a\n",
        "# una nueva variable y muestra el resultado\n",
        "centimetros_en_kilometro =\n",
        "print()\n",
        "\n",
        "# 2.4 Imagínense que estuvieramos en el año 1970 en la Unión Sovietica, y sus 324 compañeros y usted fueran a\n",
        "# comer una torta de chocolate gigantesca de 4988 pedacitos. ¿Cuántos pedazos va a recibir cada persona\n",
        "# si ninguna persona debe tener más pedazos que lo demás? ¡Imprímalo para que el partido comunista\n",
        "# vea el resultado!\n",
        "\n",
        "# 2.5 Ahora imagínese que el resto de la torta fueran para nuestros compañeros del pacto de Varsovia en Checoslovaquia.\n",
        "# ¿Cuántos pedazos mandarían sus compañeros y usted?\n",
        "\n",
        "# 2.6 Nueva situación: Si fuera febrero del año 2023 y usted con un amigo suyo acabaran de ver el video introduciendo el nuevo\n",
        "# megacárcel de Bukele en El Salvador. Cada uno de ustedes mandara el video a dos personas y cada persona también lo mandara a dos\n",
        "# personas más. ¿Cuántas personas recibirían el video en el segundo ciclo de compartirlo? Cuántas personas en el trigésimo ciclo?\n"
      ],
      "metadata": {
        "colab": {
          "base_uri": "https://localhost:8080/",
          "height": 133
        },
        "id": "YiNQ9zzyEKfU",
        "outputId": "3bced726-9fee-4150-a963-a64dd1ec012b"
      },
      "execution_count": null,
      "outputs": [
        {
          "output_type": "error",
          "ename": "SyntaxError",
          "evalue": "ignored",
          "traceback": [
            "\u001b[0;36m  File \u001b[0;32m\"<ipython-input-46-852e059be507>\"\u001b[0;36m, line \u001b[0;32m3\u001b[0m\n\u001b[0;31m    metros_en_kilometro =\u001b[0m\n\u001b[0m                          ^\u001b[0m\n\u001b[0;31mSyntaxError\u001b[0m\u001b[0;31m:\u001b[0m invalid syntax\n"
          ]
        }
      ]
    },
    {
      "cell_type": "code",
      "source": [],
      "metadata": {
        "id": "OzT6mRRIiJaW"
      },
      "execution_count": null,
      "outputs": []
    },
    {
      "cell_type": "markdown",
      "source": [
        "## 3.0 Envases Básicos de Datos\n",
        "\n",
        "Hasta ahora vimos los tipos básicos en Python, los elementos con cuales vamos a construir formaciones más complejas. En este capítulo vamos a ver como se puede agrupar estos tipos básicos dentro de los envases que brinda Python. Los siguientes envasos son los más básicos, pero también los más importantes y frecuentes:"
      ],
      "metadata": {
        "id": "VggzUeSDAKzh"
      }
    },
    {
      "cell_type": "markdown",
      "source": [
        "* **Lista:** Una secuencia de valores ordenada que puede contener de cualquier objeto.\n",
        "* **Diccionarios:** Un diccionario relaciona una clave (tipo cadena) a un valor, lo cual puede ser cualquier objeto.\n",
        "* **Conjuntos:** Representan conjuntos matemáticos y permiten solamente objectos únicos (es decir un conjunto nunca tiene duplicados)\n",
        "* **Tuplas:** Básicamente lo mismo que una lista con la excepción que una tupla no se puede cambiar directamente después de su creación."
      ],
      "metadata": {
        "id": "bPwjEKJuN1JT"
      }
    },
    {
      "cell_type": "markdown",
      "source": [
        "### Listas\n",
        "\n",
        "Una secuencia de valores ordenada que puede contener de cualquier objeto."
      ],
      "metadata": {
        "id": "tFkcH4P3_mF3"
      }
    },
    {
      "cell_type": "code",
      "source": [
        "# una lista se crea con corchetes\n",
        "frutas = ['aguacate', 'banano', 'citrón', 'durazno', 'endrinas', 'frutilla']"
      ],
      "metadata": {
        "id": "FMnCeEvv956w"
      },
      "execution_count": null,
      "outputs": []
    },
    {
      "cell_type": "markdown",
      "source": [
        "**Slicing**\n",
        "\n",
        "Usar una operación de Slicing con una lista devuelve una lista también. La sintaxis de Slicing es así:\n",
        "\n",
        "`lista[índice del primer elemento:índice del último elemento+1:intervalo]`"
      ],
      "metadata": {
        "id": "In0yMn1FDMKI"
      }
    },
    {
      "cell_type": "code",
      "source": [
        "x = frutas[:1]  # sin : python devuelve solamente el elemento concreto, o sea, sin su envase\n",
        "print(f\"El segundo elemento: {x}\")\n",
        "\n",
        "x = frutas[:3]\n",
        "print(f\"Los primeros tres elementos: {x}\")\n",
        "\n",
        "x = frutas[1:3]\n",
        "print(f\"El segundo y tercero elemento: {x}\")\n",
        "\n",
        "x = frutas[::2]\n",
        "print(f\"Cada segundo elemento: {x}\")\n",
        "\n",
        "x = frutas[-2:]\n",
        "print(f\"Los últimos dos elementos de la lista: {x}\")\n",
        "\n",
        "x = frutas[::-1]\n",
        "print(f\"Lista completa invertida: {x}\")"
      ],
      "metadata": {
        "colab": {
          "base_uri": "https://localhost:8080/"
        },
        "id": "ka9M0cZO96Jx",
        "outputId": "33e6b127-76d9-4f72-9382-3819b8863d30"
      },
      "execution_count": null,
      "outputs": [
        {
          "output_type": "stream",
          "name": "stdout",
          "text": [
            "El segundo elemento: ['aguacate']\n",
            "Los primeros tres elementos: ['aguacate', 'banano', 'citrón']\n",
            "El segundo y tercero elemento: ['banano', 'citrón']\n",
            "Cada segundo elemento: ['aguacate', 'citrón', 'endrinas']\n",
            "Los últimos dos elementos de la lista: ['endrinas', 'frutilla']\n",
            "Lista completa invertida: ['frutilla', 'endrinas', 'durazno', 'citrón', 'banano', 'aguacate']\n"
          ]
        }
      ]
    },
    {
      "cell_type": "markdown",
      "source": [
        "**Operaciónes Básicas: Añadir, Insertar y Extender Listas**"
      ],
      "metadata": {
        "id": "wXKInTlRFJL4"
      }
    },
    {
      "cell_type": "code",
      "source": [
        "centroamerica = ['Costa Rica', 'El Salvador', 'Nicaragua']"
      ],
      "metadata": {
        "id": "T_W1hSihF5o0"
      },
      "execution_count": null,
      "outputs": []
    },
    {
      "cell_type": "code",
      "source": [
        "centroamerica.append('Guatemala') # append = añadir, aggrega un solo elemento a la lista directamente\n",
        "print(f\"Centroamérica 1: {centroamerica}\")\n",
        "\n",
        "centroamerica.insert(0, 'Honduras') # insert = insertar, agrega un solo elemento a la lista con el índice deseado\n",
        "print(f\"Centroamérica 2: {centroamerica}\")\n",
        "\n",
        "geograficamente_centroamerica = ['Belice', 'Panamá']\n",
        "centroamerica.extend(geograficamente_centroamerica) # extend = extender, agrega una otra lista a nuestra lista\n",
        "print(f\"Centroamérica 3: {centroamerica}\")\n",
        "\n",
        "# dos otras maneras de extender una lista:\n",
        "\n",
        "centroamerica = centroamerica + [\"Suchitoto\", \"Copán\"]\n",
        "print(f\"Centroamérica 4: {centroamerica}\")\n",
        "centroamerica += [\"Canal de Panamá\", \"Tikal\"]\n",
        "print(f\"Centroamérica 5: {centroamerica}\")"
      ],
      "metadata": {
        "colab": {
          "base_uri": "https://localhost:8080/",
          "height": 240
        },
        "id": "8R0P74_WFIZn",
        "outputId": "1353b1ea-f42c-4a28-f630-285ba98731bf"
      },
      "execution_count": 1,
      "outputs": [
        {
          "output_type": "error",
          "ename": "NameError",
          "evalue": "ignored",
          "traceback": [
            "\u001b[0;31m---------------------------------------------------------------------------\u001b[0m",
            "\u001b[0;31mNameError\u001b[0m                                 Traceback (most recent call last)",
            "\u001b[0;32m<ipython-input-1-dc000575cbfd>\u001b[0m in \u001b[0;36m<cell line: 1>\u001b[0;34m()\u001b[0m\n\u001b[0;32m----> 1\u001b[0;31m \u001b[0mcentroamerica\u001b[0m\u001b[0;34m.\u001b[0m\u001b[0mappend\u001b[0m\u001b[0;34m(\u001b[0m\u001b[0;34m'Guatemala'\u001b[0m\u001b[0;34m)\u001b[0m \u001b[0;31m# append = añadir, aggrega un solo elemento a la lista directamente\u001b[0m\u001b[0;34m\u001b[0m\u001b[0;34m\u001b[0m\u001b[0m\n\u001b[0m\u001b[1;32m      2\u001b[0m \u001b[0mprint\u001b[0m\u001b[0;34m(\u001b[0m\u001b[0;34mf\"Centroamérica 1: {centroamerica}\"\u001b[0m\u001b[0;34m)\u001b[0m\u001b[0;34m\u001b[0m\u001b[0;34m\u001b[0m\u001b[0m\n\u001b[1;32m      3\u001b[0m \u001b[0;34m\u001b[0m\u001b[0m\n\u001b[1;32m      4\u001b[0m \u001b[0mcentroamerica\u001b[0m\u001b[0;34m.\u001b[0m\u001b[0minsert\u001b[0m\u001b[0;34m(\u001b[0m\u001b[0;36m0\u001b[0m\u001b[0;34m,\u001b[0m \u001b[0;34m'Honduras'\u001b[0m\u001b[0;34m)\u001b[0m \u001b[0;31m# insert = insertar, aggrega un solo elemento a la lista con el índice deseado\u001b[0m\u001b[0;34m\u001b[0m\u001b[0;34m\u001b[0m\u001b[0m\n\u001b[1;32m      5\u001b[0m \u001b[0mprint\u001b[0m\u001b[0;34m(\u001b[0m\u001b[0;34mf\"Centroamérica 2: {centroamerica}\"\u001b[0m\u001b[0;34m)\u001b[0m\u001b[0;34m\u001b[0m\u001b[0;34m\u001b[0m\u001b[0m\n",
            "\u001b[0;31mNameError\u001b[0m: name 'centroamerica' is not defined"
          ]
        }
      ]
    },
    {
      "cell_type": "markdown",
      "source": [
        "**⚠️ IMPORTANTE ⚠️** Estas tres operaciones –añadir, insertar y extender– modifican la lista directamente. Véase los próximos dos ejemplos para entender lo que significa:"
      ],
      "metadata": {
        "id": "N9SOXIqCH-Sj"
      }
    },
    {
      "cell_type": "code",
      "source": [
        "centroamerica_reloaded = centroamerica.append('Colombia')\n",
        "print(centroamerica_reloaded)\n",
        "\n",
        "centroamerica = centroamerica.append('Colombia')\n",
        "print(centroamerica)"
      ],
      "metadata": {
        "colab": {
          "base_uri": "https://localhost:8080/"
        },
        "id": "xBozjPM1HXqo",
        "outputId": "e27a4459-04c9-4faf-ef23-cfe8dbce3e59"
      },
      "execution_count": null,
      "outputs": [
        {
          "output_type": "stream",
          "name": "stdout",
          "text": [
            "None\n",
            "None\n"
          ]
        }
      ]
    },
    {
      "cell_type": "markdown",
      "source": [
        "¡Asignar la lista usando una operación que modifica aquella lista directamente no funciona! 😰 ¿Por qué? Porque una operación que modifica el objeto directamente no devuele nada, e ya que no hay un resultado que se devuelve no hay nada para asignar.\n",
        "\n",
        "También hay una manera para invertir una lista directamente a propósito:"
      ],
      "metadata": {
        "id": "z-Af-WTOIRq4"
      }
    },
    {
      "cell_type": "code",
      "source": [
        "numeros = [1, 2, 3_000_000, 4]\n",
        "numeros.reverse()\n",
        "print(numeros)"
      ],
      "metadata": {
        "colab": {
          "base_uri": "https://localhost:8080/"
        },
        "id": "l20uWQXtIF6v",
        "outputId": "35732fc5-7cb7-428f-8223-945ea3920d76"
      },
      "execution_count": null,
      "outputs": [
        {
          "output_type": "stream",
          "name": "stdout",
          "text": [
            "[4, 3000000, 2, 1]\n"
          ]
        }
      ]
    },
    {
      "cell_type": "markdown",
      "source": [
        "**Modificar Elementos**"
      ],
      "metadata": {
        "id": "tdrNtoW9KuYq"
      }
    },
    {
      "cell_type": "code",
      "source": [
        "paises = ['Argentina', 'Argentina campeón del mundo', 'Argentina', 'Bolivia', 'Clmbia', 'Chile', 'Ecuador']\n",
        "print(paises)"
      ],
      "metadata": {
        "colab": {
          "base_uri": "https://localhost:8080/"
        },
        "id": "otYGQ4SVJRE5",
        "outputId": "8037933e-4bef-42d7-a5c7-3b4ad69a6079"
      },
      "execution_count": null,
      "outputs": [
        {
          "output_type": "stream",
          "name": "stdout",
          "text": [
            "['Argentina', 'Argentina campeón del mundo', 'Argentina', 'Bolivia', 'Clmbia', 'Chile', 'Ecuador']\n"
          ]
        }
      ]
    },
    {
      "cell_type": "code",
      "source": [
        "# modificando la lista usando el índice\n",
        "paises[2] = 'Colombia'\n",
        "print(paises)"
      ],
      "metadata": {
        "colab": {
          "base_uri": "https://localhost:8080/"
        },
        "id": "INAMPu14KtQN",
        "outputId": "97c38fae-7b32-4e82-8ddb-aea7f220e86d"
      },
      "execution_count": null,
      "outputs": [
        {
          "output_type": "stream",
          "name": "stdout",
          "text": [
            "['Argentina', 'Argentina campeón del mundo', 'Colombia', 'Bolivia', 'Clmbia', 'Chile', 'Ecuador']\n"
          ]
        }
      ]
    },
    {
      "cell_type": "code",
      "source": [
        "# modificando la lista con slice\n",
        "paises[3:5] = ['Venezuela', 'Paraguay']\n",
        "print(paises)"
      ],
      "metadata": {
        "colab": {
          "base_uri": "https://localhost:8080/"
        },
        "id": "i495E257KtSB",
        "outputId": "9c649dd9-6d31-4327-c724-e2f359b66aac"
      },
      "execution_count": null,
      "outputs": [
        {
          "output_type": "stream",
          "name": "stdout",
          "text": [
            "['Argentina', 'Argentina campeón del mundo', 'Colombia', 'Venezuela', 'Paraguay', 'Chile', 'Ecuador']\n"
          ]
        }
      ]
    },
    {
      "cell_type": "code",
      "source": [
        "# modificando 3 elementos con 2 elementos deja 2 elementos\n",
        "paises[2:5] = ['BRASIL', 'URUGUAY']\n",
        "print(paises)"
      ],
      "metadata": {
        "colab": {
          "base_uri": "https://localhost:8080/"
        },
        "id": "qNOkt6emS4_e",
        "outputId": "a0651381-b89d-4bb6-a612-897011cc6eaa"
      },
      "execution_count": null,
      "outputs": [
        {
          "output_type": "stream",
          "name": "stdout",
          "text": [
            "['Argentina', 'Argentina campeón del mundo', 'BRASIL', 'URUGUAY', 'Chile', 'Ecuador']\n"
          ]
        }
      ]
    },
    {
      "cell_type": "markdown",
      "source": [
        "**Iteraciones**"
      ],
      "metadata": {
        "id": "gUG6qAeFVuB4"
      }
    },
    {
      "cell_type": "markdown",
      "source": [
        "Recorrer un diccionario usando la sentencia `for`"
      ],
      "metadata": {
        "id": "_jImIMdjdsS_"
      }
    },
    {
      "cell_type": "code",
      "source": [
        "lista_aleatoria = [1, 200.93, 'hola', True]\n",
        "\n",
        "for elemento in lista_aleatoria:\n",
        "  print(elemento)"
      ],
      "metadata": {
        "colab": {
          "base_uri": "https://localhost:8080/"
        },
        "id": "i_zQdR8z2kvD",
        "outputId": "60f22fb1-9cf0-4ff5-8082-a56a8dd5110e"
      },
      "execution_count": null,
      "outputs": [
        {
          "output_type": "stream",
          "name": "stdout",
          "text": [
            "1\n",
            "200.93\n",
            "hola\n",
            "True\n"
          ]
        }
      ]
    },
    {
      "cell_type": "markdown",
      "source": [
        "Comprensión de una lista"
      ],
      "metadata": {
        "id": "CpRntsTjVSV9"
      }
    },
    {
      "cell_type": "code",
      "source": [
        "unos_numeros = [1, 2, 3, 4, 5] \n",
        "\n",
        "unos_numeros_cuadrados = [numero ** 2 for numero in unos_numeros]  # eso se llama `comprensión de lista`\n",
        "print(unos_numeros_cuadrados)\n",
        "\n",
        "# es lo mismo que\n",
        "\n",
        "unos_numeros = [1, 2, 3, 4, 5] \n",
        "\n",
        "unos_numeros_cuadrados = list()\n",
        "for numero in unos_numeros:\n",
        "  numero_cuandrado = numero ** 2\n",
        "  unos_numeros_cuadrados.append(numero_cuandrado)\n",
        "\n",
        "print(unos_numeros_cuadrados)"
      ],
      "metadata": {
        "colab": {
          "base_uri": "https://localhost:8080/"
        },
        "id": "KyEXnc1J268X",
        "outputId": "2fa59dec-a6af-419b-8a87-de099cc2617f"
      },
      "execution_count": null,
      "outputs": [
        {
          "output_type": "stream",
          "name": "stdout",
          "text": [
            "[1, 4, 9, 16, 25]\n",
            "[1, 4, 9, 16, 25]\n"
          ]
        }
      ]
    },
    {
      "cell_type": "markdown",
      "source": [
        "Iteraciones Simultáneas usando `zip()`"
      ],
      "metadata": {
        "id": "sq-lat7p3s-Q"
      }
    },
    {
      "cell_type": "code",
      "source": [
        "# con zip se puede recorrer varias listas al mismo tiempo\n",
        "paises = ['CRC', 'PAN', 'NCA']\n",
        "pibs_2020 = [62_160_000_000, 53_980_000_000, 12_590_000_000]\n",
        "pibs_2021 = [64_280_000_000, 63_610_000_000, 14_010_000_000]\n",
        "\n",
        "for pais, pib_2020, pib_2021 in zip(paises, pibs_2020, pibs_2021):\n",
        "  tasa_crecimiento = (pib_2021 - pib_2020) / (pib_2020)\n",
        "  tasa_porcentaje = round(tasa_crecimiento * 100, 2) # round() redondea un número a 2 cifras decimales\n",
        "  print(f\"Tasa de crecimiento económica de {pais}: {tasa_porcentaje}\")"
      ],
      "metadata": {
        "colab": {
          "base_uri": "https://localhost:8080/"
        },
        "id": "kIzmS06V3FLU",
        "outputId": "10211a08-76ae-4b3b-8c25-f2bf9e9f6b79"
      },
      "execution_count": null,
      "outputs": [
        {
          "output_type": "stream",
          "name": "stdout",
          "text": [
            "Tasa de crecimiento económica de CRC: 3.41\n",
            "Tasa de crecimiento económica de PAN: 17.84\n",
            "Tasa de crecimiento económica de NCA: 11.28\n"
          ]
        }
      ]
    },
    {
      "cell_type": "code",
      "source": [
        "lista_x = ['a', 'b'] * 100  # `* n` multiplica los valores de la lista `n` veces\n",
        "print(len(lista_x))  # `len()` cuenta los números de elementos en una lista."
      ],
      "metadata": {
        "colab": {
          "base_uri": "https://localhost:8080/"
        },
        "id": "dk_EL61fSUro",
        "outputId": "1e462052-b61a-414b-9aca-6726a0c3e3a4"
      },
      "execution_count": null,
      "outputs": [
        {
          "output_type": "stream",
          "name": "stdout",
          "text": [
            "200\n"
          ]
        }
      ]
    },
    {
      "cell_type": "markdown",
      "source": [
        "### Diccionarios\n",
        "\n",
        "Un diccionario relaciona una clave (tipo cadena) a un valor, lo cual puede ser cualquier objeto."
      ],
      "metadata": {
        "id": "1dyBbTA8T9HJ"
      }
    },
    {
      "cell_type": "code",
      "source": [
        "# para crear un diccionario es necesario usar llaves {}\n",
        "poblaciones_latam = {\n",
        "    'ARG': 46_044_703,\n",
        "    'COL': 52_215_503,\n",
        "    'BRA': 218_689_757\n",
        "}"
      ],
      "metadata": {
        "id": "UubSVXrWT6yP"
      },
      "execution_count": null,
      "outputs": []
    },
    {
      "cell_type": "code",
      "source": [
        "print(len(poblaciones_latam))  # aquí `len()` cuenta el número de pares"
      ],
      "metadata": {
        "id": "-It7n6IiSq__"
      },
      "execution_count": null,
      "outputs": []
    },
    {
      "cell_type": "markdown",
      "source": [
        "Obtener un valor del diccionario"
      ],
      "metadata": {
        "id": "gjA4Ze35z81w"
      }
    },
    {
      "cell_type": "code",
      "source": [
        "print(poblaciones_latam['COL'])\n",
        "print(poblaciones_latam.get('BRA'))"
      ],
      "metadata": {
        "colab": {
          "base_uri": "https://localhost:8080/"
        },
        "id": "hwYkpQWeT6zI",
        "outputId": "a71b3c80-f017-402e-f1d7-fe4a9d49024f"
      },
      "execution_count": null,
      "outputs": [
        {
          "output_type": "stream",
          "name": "stdout",
          "text": [
            "52215503\n",
            "218689757\n"
          ]
        }
      ]
    },
    {
      "cell_type": "markdown",
      "source": [
        "Añadir y modificar elementos"
      ],
      "metadata": {
        "id": "UMd5sKeR2DnR"
      }
    },
    {
      "cell_type": "code",
      "source": [
        "poblaciones_latam['PER'] = 32_440_172 \n",
        "poblaciones_latam['ARG'] += 1\n",
        "print(poblaciones_latam)"
      ],
      "metadata": {
        "colab": {
          "base_uri": "https://localhost:8080/"
        },
        "id": "FPTEDmaxT69s",
        "outputId": "4fac89c0-ba15-44ad-d26f-5d6eaa3ce828"
      },
      "execution_count": null,
      "outputs": [
        {
          "output_type": "stream",
          "name": "stdout",
          "text": [
            "{'ARG': 46044704, 'COL': 52215503, 'BRA': 218689757, 'PER': 32440172}\n"
          ]
        }
      ]
    },
    {
      "cell_type": "markdown",
      "source": [
        "Obtener los valores, las claves y los pares de un diccionario"
      ],
      "metadata": {
        "id": "PzIAe-l92INj"
      }
    },
    {
      "cell_type": "code",
      "source": [
        "poblaciones_latam_valores = list(poblaciones_latam.values())\n",
        "print(poblaciones_latam_valores)\n",
        "\n",
        "poblaciones_latam_claves = list(poblaciones_latam.keys())\n",
        "print(poblaciones_latam_claves)\n",
        "\n",
        "poblaciones_latam_pares = list(poblaciones_latam.items())\n",
        "print(poblaciones_latam_pares)"
      ],
      "metadata": {
        "colab": {
          "base_uri": "https://localhost:8080/"
        },
        "id": "XXcvGfp7XyMl",
        "outputId": "0209ea59-2efb-474d-ce0e-098ebd36afa1"
      },
      "execution_count": null,
      "outputs": [
        {
          "output_type": "stream",
          "name": "stdout",
          "text": [
            "[46044704, 52215503, 218689757, 32440172, 3416264, 7439863, 30518260]\n",
            "['ARG', 'COL', 'BRA', 'PER', 'URU', 'PAR', 'VEN']\n",
            "[('ARG', 46044704), ('COL', 52215503), ('BRA', 218689757), ('PER', 32440172), ('URU', 3416264), ('PAR', 7439863), ('VEN', 30518260)]\n"
          ]
        }
      ]
    },
    {
      "cell_type": "markdown",
      "source": [
        "**Iteraciones**"
      ],
      "metadata": {
        "id": "c2oS-m4WvNxD"
      }
    },
    {
      "cell_type": "markdown",
      "source": [
        "Recorrer un diccionario usando la sentencia `for`"
      ],
      "metadata": {
        "id": "Ao-jvibudfFe"
      }
    },
    {
      "cell_type": "code",
      "source": [
        "for key, value in poblaciones_latam.items():\n",
        "  print(f\"Yo soy la clave `{key}` e yo el valor `{value}`\")"
      ],
      "metadata": {
        "colab": {
          "base_uri": "https://localhost:8080/"
        },
        "id": "69vSYaB2XHZx",
        "outputId": "6471aff4-3ab5-445e-e9c8-97a489887fa9"
      },
      "execution_count": null,
      "outputs": [
        {
          "output_type": "stream",
          "name": "stdout",
          "text": [
            "Yo soy la clave `ARG` e yo el valor `46044704`\n",
            "Yo soy la clave `COL` e yo el valor `52215503`\n",
            "Yo soy la clave `BRA` e yo el valor `218689757`\n",
            "Yo soy la clave `PER` e yo el valor `32440172`\n"
          ]
        }
      ]
    },
    {
      "cell_type": "code",
      "source": [
        "# algo más productivo\n",
        "otros_paises = ['URU', 'PAR', 'VEN']\n",
        "poblaciones = [3_416_264, 7_439_863, 30_518_260 ]\n",
        "\n",
        "print(len(poblaciones_latam))  # len() devuelve el tamaño de un envase y funciona para todos los envases básicos\n",
        "\n",
        "for pais, poblacion in zip(otros_paises, poblaciones):\n",
        "  poblaciones_latam[pais] = poblacion\n",
        "\n",
        "print(len(poblaciones_latam))"
      ],
      "metadata": {
        "colab": {
          "base_uri": "https://localhost:8080/"
        },
        "id": "XoRxGveAvT_z",
        "outputId": "2d8154ad-3d07-49db-f0b0-cbb40c522aea"
      },
      "execution_count": null,
      "outputs": [
        {
          "output_type": "stream",
          "name": "stdout",
          "text": [
            "4\n",
            "7\n"
          ]
        }
      ]
    },
    {
      "cell_type": "markdown",
      "source": [
        "Comprensión de un diccionario"
      ],
      "metadata": {
        "id": "QkH0G03Pxj7r"
      }
    },
    {
      "cell_type": "code",
      "source": [
        "limite = 30_000_000\n",
        "\n",
        "poblaciones_latam_grandes = {key:value for key, value in poblaciones_latam.items() if value >= limite}\n",
        "\n",
        "print(poblaciones_latam_grandes)"
      ],
      "metadata": {
        "colab": {
          "base_uri": "https://localhost:8080/"
        },
        "id": "f_Skd6AYxjAl",
        "outputId": "f886fe63-0287-4132-f7aa-7016c3cf46ce"
      },
      "execution_count": null,
      "outputs": [
        {
          "output_type": "stream",
          "name": "stdout",
          "text": [
            "{'ARG': 46044704, 'COL': 52215503, 'BRA': 218689757, 'PER': 32440172, 'VEN': 30518260}\n"
          ]
        }
      ]
    },
    {
      "cell_type": "markdown",
      "source": [
        "Fusión de diccionarios"
      ],
      "metadata": {
        "id": "V3LlPH6cTwws"
      }
    },
    {
      "cell_type": "code",
      "source": [
        "dict_a = {\n",
        "    \"a\": True,\n",
        "    \"b\": False\n",
        "}\n",
        "\n",
        "dict_b = {\n",
        "    \"c\": None,\n",
        "    \"d\": True\n",
        "}\n",
        "\n",
        "dict_c = dict(**dict_a, **dict_b)\n",
        "print(dict_c)"
      ],
      "metadata": {
        "colab": {
          "base_uri": "https://localhost:8080/"
        },
        "id": "hSMfIYBHTwFa",
        "outputId": "24a73ec6-cf7a-4fdc-bf7b-d55406e681eb"
      },
      "execution_count": null,
      "outputs": [
        {
          "output_type": "stream",
          "name": "stdout",
          "text": [
            "{'a': True, 'b': False, 'c': None, 'd': True}\n"
          ]
        }
      ]
    },
    {
      "cell_type": "markdown",
      "source": [
        "### Conjuntos\n",
        "\n",
        "Representan conjuntos matemáticos y permiten solamente objectos únicos (es decir un conjunto nunca tiene duplicados)"
      ],
      "metadata": {
        "id": "gPArcvLeUNpU"
      }
    },
    {
      "cell_type": "code",
      "source": [
        "# para crear una nueva instancia de un conjunto también hay que usar llaves {}\n",
        "cono_sur = {'Argentina', 'Argentina', 'Chile', 'Uruguay', 'Paraguay'}\n",
        "mercosur = {'Argentina', 'Uruguay', 'Paraguay', 'Brasil'}\n",
        "print(cono_sur)  # conjuntos no permiten duplicados"
      ],
      "metadata": {
        "id": "q31wA6PlT7AE",
        "colab": {
          "base_uri": "https://localhost:8080/"
        },
        "outputId": "ca7513a2-0f20-407c-ff29-6a67ce22bafe"
      },
      "execution_count": null,
      "outputs": [
        {
          "output_type": "stream",
          "name": "stdout",
          "text": [
            "{'Uruguay', 'Chile', 'Paraguay', 'Argentina'}\n"
          ]
        }
      ]
    },
    {
      "cell_type": "code",
      "source": [
        "x = cono_sur.union(mercosur) # une los elementos únicos de los dos conjuntos\n",
        "print(f\"1: {x}\")\n",
        "\n",
        "x = cono_sur.intersection(mercosur) # identifica los elementos compartidos\n",
        "print(f\"2: {x}\")\n",
        "\n",
        "x = cono_sur.difference(mercosur) # identifica los elementos que están en la primera lista pero no en la segunda\n",
        "print(f\"3: {x}\")"
      ],
      "metadata": {
        "id": "wrpc1W5xUQOO",
        "colab": {
          "base_uri": "https://localhost:8080/"
        },
        "outputId": "cf377fe9-9274-4433-bde2-eb98ccac253f"
      },
      "execution_count": null,
      "outputs": [
        {
          "output_type": "stream",
          "name": "stdout",
          "text": [
            "1: {'Uruguay', 'Chile', 'Argentina', 'Brasil', 'Paraguay'}\n",
            "2: {'Uruguay', 'Argentina', 'Paraguay'}\n",
            "3: {'Chile'}\n"
          ]
        }
      ]
    },
    {
      "cell_type": "markdown",
      "source": [
        "**Iteraciones**"
      ],
      "metadata": {
        "id": "5A6AvC4Wqqar"
      }
    },
    {
      "cell_type": "code",
      "source": [
        "suramerica = {\n",
        "    'Argentina', 'Bolivia', 'Brasil', 'Chile', 'Colombia',\n",
        "    'Ecuador', 'Guyana', 'Perú', 'Surinam', 'Uruguay', 'Venezuela'\n",
        "}"
      ],
      "metadata": {
        "id": "8GEJ1nL5qv9J"
      },
      "execution_count": null,
      "outputs": []
    },
    {
      "cell_type": "markdown",
      "source": [
        "Recorrer un conjunto usando la sentencia `for`"
      ],
      "metadata": {
        "id": "XHqDuKj9rA_p"
      }
    },
    {
      "cell_type": "code",
      "source": [
        "for pais in suramerica:\n",
        "  print(f\"Aquí un país de suramerica: {pais}\")"
      ],
      "metadata": {
        "colab": {
          "base_uri": "https://localhost:8080/"
        },
        "id": "z1kx6cQgrVjC",
        "outputId": "c3658256-836f-47f9-8e31-2076cf7ed387"
      },
      "execution_count": null,
      "outputs": [
        {
          "output_type": "stream",
          "name": "stdout",
          "text": [
            "Aquí un país de suramerica: Guyana\n",
            "Aquí un país de suramerica: Uruguay\n",
            "Aquí un país de suramerica: Ecuador\n",
            "Aquí un país de suramerica: Chile\n",
            "Aquí un país de suramerica: Venezuela\n",
            "Aquí un país de suramerica: Argentina\n",
            "Aquí un país de suramerica: Bolivia\n",
            "Aquí un país de suramerica: Surinam\n",
            "Aquí un país de suramerica: Colombia\n",
            "Aquí un país de suramerica: Perú\n",
            "Aquí un país de suramerica: Brasil\n"
          ]
        }
      ]
    },
    {
      "cell_type": "markdown",
      "source": [
        "Comprensión de un conjunto"
      ],
      "metadata": {
        "id": "AwRA62HksKZ-"
      }
    },
    {
      "cell_type": "code",
      "source": [
        "paises_con_e = {pais for pais in suramerica if 'e' in pais}\n",
        "print(paises_con_e) # acuérdese: E no es la misma letra que e, por eso Ecuador no se encuentra en este conjunto"
      ],
      "metadata": {
        "colab": {
          "base_uri": "https://localhost:8080/"
        },
        "id": "-T95MjofhqM9",
        "outputId": "05396f39-98c0-4b34-a42f-42d0c55b8c92"
      },
      "execution_count": null,
      "outputs": [
        {
          "output_type": "stream",
          "name": "stdout",
          "text": [
            "{'Chile', 'Perú', 'Venezuela', 'Argentina'}\n"
          ]
        }
      ]
    },
    {
      "cell_type": "markdown",
      "source": [
        "### Tuplas\n",
        "\n",
        "Al final, `tuplas` son exactamente lo mismo que `listas` aparte de una diferencia: una `tupla` es **inmutable**. O sea, para modificar una tupla hay que sobreescribir el objeto, no hay maneras de modificación directa. En la mayoría de casos –y especialmente en el ámbito de análisis de datos– esta diferencia tiene poca importancia. Por eso usted necesita reconocer tuplas cuando aparecen e ya.\n",
        "\n",
        "La función `id()` permite ver la dirección del objeto en memoria de su computadora. Usémoslo para ver que pasará en el ejemplo siguiente:"
      ],
      "metadata": {
        "id": "mnS6RsVBURVk"
      }
    },
    {
      "cell_type": "code",
      "source": [
        "# tupla\n",
        "gran_colombia = ('Panamá', 'Venezuela', 'Colombia', 'Ecuador')\n",
        "print(id(gran_colombia))\n",
        "\n",
        "gran_colombia = gran_colombia + ('Canal de Panamá',)\n",
        "print(id(gran_colombia))"
      ],
      "metadata": {
        "id": "guilQR24UQQk",
        "colab": {
          "base_uri": "https://localhost:8080/"
        },
        "outputId": "206d5405-9068-40f1-dbd0-6eb77ab749eb"
      },
      "execution_count": null,
      "outputs": [
        {
          "output_type": "stream",
          "name": "stdout",
          "text": [
            "139868832897424\n",
            "139868981178864\n"
          ]
        }
      ]
    },
    {
      "cell_type": "code",
      "source": [
        "# lista\n",
        "gran_colombia_lista = ['Panamá', 'Venezuela', 'Colombia', 'Ecuador']\n",
        "print(id(gran_colombia_lista))\n",
        "\n",
        "gran_colombia_lista.extend(['Canal de Panamá'])\n",
        "print(id(gran_colombia_lista))\n",
        "# la dirección no cambia"
      ],
      "metadata": {
        "id": "Sv-vhpLEUY19",
        "colab": {
          "base_uri": "https://localhost:8080/"
        },
        "outputId": "8caa47c0-7973-4b91-80e4-063ae3f6352e"
      },
      "execution_count": null,
      "outputs": [
        {
          "output_type": "stream",
          "name": "stdout",
          "text": [
            "139868833053504\n",
            "139868833053504\n"
          ]
        }
      ]
    },
    {
      "cell_type": "markdown",
      "source": [
        "### Práctica de Capítulo 3.0"
      ],
      "metadata": {
        "id": "BrX0hZVrUZVN"
      }
    },
    {
      "cell_type": "code",
      "source": [
        "# Ejercicio 1\n",
        "lista_ejercicio_1 = ['1'] * 984_985\n",
        "lista_ejercicio_1.extend([x for x in range(0,1000)])\n",
        "\n",
        "# 1.1 ¿Cuál es el valor del último elemento?\n",
        "# 1.2 ¿Cuál es la diferencia entre `lista_ejercicio_1[-1]` Y `lista_ejercicio_1[-1:]`?\n",
        "# 1.3 ¿Cuántos elementos tiene la lista `lista_ejercicio_1`?\n",
        "# 1.4 ¿Cuántos elementos únicos hay?\n",
        "# 1.5 Cree un conjunto que lleva todos los números de `lista_ejercicio_1` que sean divisibles\n",
        "#     por 2 y 7 (o sea sin dejar un resto)\n"
      ],
      "metadata": {
        "id": "wkrr6Au9Ucwm",
        "colab": {
          "base_uri": "https://localhost:8080/"
        },
        "outputId": "c993811f-2a6a-4718-faa6-2c5e53d85b74"
      },
      "execution_count": null,
      "outputs": [
        {
          "output_type": "execute_result",
          "data": {
            "text/plain": [
              "999"
            ]
          },
          "metadata": {},
          "execution_count": 10
        }
      ]
    },
    {
      "cell_type": "code",
      "source": [
        "# Ejercicio 2\n",
        "lista_ejercicio_2 = ['a', 'b', 'c', 'd', 'e', 'f', 'g', 'h']\n",
        "\n",
        "# 2.1 Compruebe –usando pyhton– que esta lista no tiene duplicados.\n",
        "# 2.2 Agrega las letras 'i', 'j', 'k' a la lista"
      ],
      "metadata": {
        "id": "vIYgiYInXX8i"
      },
      "execution_count": null,
      "outputs": []
    },
    {
      "cell_type": "code",
      "source": [
        "# Ejercicio 3\n",
        "cuatro_artistas = {\n",
        "    'Bad Bunny': 28,\n",
        "    'Duki': 24,\n",
        "    'La Bichota': 31,\n",
        "    'Nicky Jam': 41\n",
        "}\n",
        "\n",
        "# 3.1 El diccionario `cuatro_artistas` relaciona cada artista con su edad en 2022. Ya que estamos en 2023, sube \n",
        "# cada edad por un año. Use dos enfoques, una vez la sentencia `for` y una vez la comprensión de diccionario.\n",
        "# 3.2 Por razones estéticas, queremos cambiar las claves del diccionario en mayúsculas. Hágalo con el diccionario del\n",
        "# ejercicio 3.1. Truco: Use una sentencia `for` cunto con las atributos `.upper()`(que convierte las letras de una\n",
        "# cadena en mayúscula - p.ej. 'hola'.upper() resulta en `HOLA`) y .pop(nombre del clave) que borra el par de la clave\n",
        "# especificada del diccionario (p.ej. cuatro_artistas.pop('Bad Bunny') borrará el puertorriqueño)"
      ],
      "metadata": {
        "id": "dwFCywkzXYzZ"
      },
      "execution_count": null,
      "outputs": []
    },
    {
      "cell_type": "code",
      "source": [
        "# Ejercicio 4\n",
        "\n",
        "lista_a = ['persona_a', 'persona_b', 'persona_c']\n",
        "lista_b = ['economía', 'ciencias políticas', 'derecho']\n",
        "\n",
        "# Cree un diccionario usando los elementos de lista_a como claves y los elementos de lista_b como valores.\n",
        "# Use una comprensión de diccionario juntos con `zip`"
      ],
      "metadata": {
        "id": "916WutTHZ5Ad"
      },
      "execution_count": null,
      "outputs": []
    },
    {
      "cell_type": "markdown",
      "source": [
        "# ⚠️ Zona de Construcción ⚠️👷"
      ],
      "metadata": {
        "id": "JgPNq558Vg1X"
      }
    },
    {
      "cell_type": "code",
      "source": [],
      "metadata": {
        "id": "NoJJESDWVhQ5"
      },
      "execution_count": null,
      "outputs": []
    }
  ]
}