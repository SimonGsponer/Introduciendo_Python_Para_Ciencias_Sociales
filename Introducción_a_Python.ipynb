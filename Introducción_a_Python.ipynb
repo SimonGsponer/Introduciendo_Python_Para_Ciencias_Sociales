{
  "nbformat": 4,
  "nbformat_minor": 0,
  "metadata": {
    "colab": {
      "provenance": [],
      "authorship_tag": "ABX9TyPk2ez4bjupvvZoz4KcmmMC",
      "include_colab_link": true
    },
    "kernelspec": {
      "name": "python3",
      "display_name": "Python 3"
    },
    "language_info": {
      "name": "python"
    }
  },
  "cells": [
    {
      "cell_type": "markdown",
      "metadata": {
        "id": "view-in-github",
        "colab_type": "text"
      },
      "source": [
        "<a href=\"https://colab.research.google.com/github/SimonGsponer/Introduciendo_Python_Para_Ciencias_Sociales/blob/main/Introducci%C3%B3n_a_Python.ipynb\" target=\"_parent\"><img src=\"https://colab.research.google.com/assets/colab-badge.svg\" alt=\"Open In Colab\"/></a>"
      ]
    },
    {
      "cell_type": "markdown",
      "source": [
        "# Introducción a Python"
      ],
      "metadata": {
        "id": "CewMEW0HBNIO"
      }
    },
    {
      "cell_type": "markdown",
      "source": [
        "## 1.0 Tipos de Datos Principales"
      ],
      "metadata": {
        "id": "-MHzu7iWBNKl"
      }
    },
    {
      "cell_type": "markdown",
      "source": [
        "**Truco:** La función `print()` se usa para ver resultados de operaciones."
      ],
      "metadata": {
        "id": "3NxRruvmshDv"
      }
    },
    {
      "cell_type": "markdown",
      "source": [
        "### Tipo Booleano"
      ],
      "metadata": {
        "id": "WEU68YDkyD9K"
      }
    },
    {
      "cell_type": "code",
      "source": [
        "# el tipo booleano tiene dos valores: True (correcto) o False (incorrecto). Se usa para comprobar condiciones\n",
        "# y implementar secuencias lógicas. Correcto/incorrecto también tienen el valor numérico 1/0.\n",
        "# aplicación en análisis de datos: filtrar un conjunto de datos usando alguna condición lógica\n",
        "# IMPORTANTE: la función ´bool()´ se puede usar para convertir cualquier objeto de python en el tipo booleano!\n",
        "print(f\"Algunos ejemplos de booleanos: a: {True}, b: {bool(1)}, c: {bool(-4)}, d: {bool('hola')}, \\\n",
        "e: {bool(None)}, f: {bool('')}, g: {bool(0)}\")"
      ],
      "metadata": {
        "colab": {
          "base_uri": "https://localhost:8080/"
        },
        "id": "kg980uZ5BWp2",
        "outputId": "6ce0648c-19ec-4360-953b-272acde6b4bf"
      },
      "execution_count": null,
      "outputs": [
        {
          "output_type": "stream",
          "name": "stdout",
          "text": [
            "Algunos ejemplos de booleanos: a: True, b: True, c: True, d: True, e: False, f: False, g: False\n"
          ]
        }
      ]
    },
    {
      "cell_type": "markdown",
      "source": [
        "### Números Enteros"
      ],
      "metadata": {
        "id": "wCRiry99yfAS"
      }
    },
    {
      "cell_type": "code",
      "source": [
        "# integer -> números enteros\n",
        "# aplicación en análisis de datos: variables como edad, estatura, peso, etcétera\n",
        "print(f\"Algunos ejemplos de números enteros: {5}, {int(5.5)}, {int(5.8)}, {-3}\")"
      ],
      "metadata": {
        "colab": {
          "base_uri": "https://localhost:8080/"
        },
        "id": "dsJ-Yp-eBZoL",
        "outputId": "5e7dc45c-38e3-4eac-974c-edbbe9cbe604"
      },
      "execution_count": 4,
      "outputs": [
        {
          "output_type": "stream",
          "name": "stdout",
          "text": [
            "Algunos ejemplos de números enteros: 5, 5, 5, -3\n"
          ]
        }
      ]
    },
    {
      "cell_type": "markdown",
      "source": [
        "### Punto Flotante"
      ],
      "metadata": {
        "id": "1cyVjWhyyp91"
      }
    },
    {
      "cell_type": "code",
      "source": [
        "# float -> punto flotante, número que admite la parte decimal\n",
        "# aplicación en análisis de datos: variables numéricas en general \n",
        "print(f\"Algunos ejemplos de puntos flotantes: {5.5}, {float(0)}, {int(1)/10}\")"
      ],
      "metadata": {
        "colab": {
          "base_uri": "https://localhost:8080/"
        },
        "id": "5n6AeF9KW9pc",
        "outputId": "ff5e3e21-9390-4944-ffae-0a8e38177598"
      },
      "execution_count": null,
      "outputs": [
        {
          "output_type": "stream",
          "name": "stdout",
          "text": [
            "Algunos ejemplos de puntos flotantes: 5.5, 0.0, 0.1\n"
          ]
        }
      ]
    },
    {
      "cell_type": "markdown",
      "source": [
        "### Cadena"
      ],
      "metadata": {
        "id": "OZA3HSa2ys6j"
      }
    },
    {
      "cell_type": "code",
      "source": [
        "# string -> cadena, forma de representar letras y textos\n",
        "# aplicación en análisis de datos: respuestas escritas de personas, variables categóricas antes de codificarlas\n",
        "print(f\"Algunos ejemplos de cadenas: {str(5)}, {'hello world'}, {str(bool(-4))}\")\n",
        "\n",
        "print(f\"Importante: {str(bool(-4)) == bool(-4)}, {str(5) == 5}!!!\")"
      ],
      "metadata": {
        "colab": {
          "base_uri": "https://localhost:8080/"
        },
        "id": "I6JB9NGUY1KC",
        "outputId": "10d09c21-67fb-4d9c-dc4b-590bac7ba269"
      },
      "execution_count": null,
      "outputs": [
        {
          "output_type": "stream",
          "name": "stdout",
          "text": [
            "Algunos ejemplos de cadenas: 5, hello world, True\n",
            "Importante: False, False!!!\n"
          ]
        }
      ]
    },
    {
      "cell_type": "markdown",
      "source": [
        "### Asignación vs. Comprobar Igualdad"
      ],
      "metadata": {
        "id": "q_irx0c2bpIW"
      }
    },
    {
      "cell_type": "code",
      "source": [
        "# el signo igual se usa para asignar valores a variables (x es una variable con el valor 3)\n",
        "x = 3\n",
        "print(x)\n",
        "print(x * x)\n",
        "print(x ** x)\n",
        "# para usar el signo igual en la manera matemática (o sea, comprobar igualdad) es necesario usar dos signos iguales seguidos\n",
        "print(x == 3)"
      ],
      "metadata": {
        "colab": {
          "base_uri": "https://localhost:8080/"
        },
        "id": "8utjG3lxboRv",
        "outputId": "6bd9eb8f-c350-4ac9-94fd-62ce9fb1e3eb"
      },
      "execution_count": null,
      "outputs": [
        {
          "output_type": "stream",
          "name": "stdout",
          "text": [
            "3\n",
            "9\n",
            "27\n",
            "True\n"
          ]
        }
      ]
    },
    {
      "cell_type": "markdown",
      "source": [
        "### Práctica de Capítulo 1.0\n",
        "\n",
        "truco: la función `type()` se puede usar para averiguar el tipo de un objeto en python, p. ej. `type(\"hello\")` devuelve `str`. Para imprimir el resultado necesita usar la función `print()` también; o sea `print(type(\"hello\"))`"
      ],
      "metadata": {
        "id": "NPGCW31pdNt6"
      }
    },
    {
      "cell_type": "code",
      "source": [
        "# 1.1 Asigna el número entero 2500 a una variable que se llama `colones` e imprímelo.\n",
        "\n",
        "# 1.2 Qué es el resultado de 2 == 3, y ¿cúal tipo es el resultado? \n",
        "\n",
        "# 1.3 ¿Cúal es la diferencia entre las expresiones `x = 3` y `x == 3`?\n",
        "\n",
        "# 1.4 ¿Cúal tipo de dato es el valor 9?\n",
        "\n",
        "# 1.5 ¿Cúal tipo de dato es el número 3.0? \n",
        "\n",
        "# 1.6 ¿Cúal tipo es la expresión 2 ** 4.0?\n"
      ],
      "metadata": {
        "id": "lF0RA5hDdMto"
      },
      "execution_count": null,
      "outputs": []
    },
    {
      "cell_type": "markdown",
      "source": [
        "## 2.0 Más Sobre Tipos Numéricos"
      ],
      "metadata": {
        "id": "vtekZapqBZ0Y"
      }
    },
    {
      "cell_type": "markdown",
      "source": [
        "### Números Enteros"
      ],
      "metadata": {
        "id": "RUe_yODlz4q8"
      }
    },
    {
      "cell_type": "code",
      "source": [
        "# cualquier combinación de números sin decimales produce un número entero\n",
        "x = 390480475878994859\n",
        "print(f\"El valor de x es `{x}` y el tipo de x es `{type(x)}`\")\n",
        "\n",
        "x = -14857873480705875083758785\n",
        "print(f\"El valor de x es `{x}` y el tipo de x es `{type(x)}`\")\n",
        "\n",
        "# si es necesario leer el valor exacto del número se puede usar el guión bajo como mil separador\n",
        "# IMPORTANTE: no es posible usar comas como mil separador porque crean un otro \n",
        "# tipo de dato que veremos luego (una tupla)\n",
        "x = 1_000_000_000\n",
        "print(x)"
      ],
      "metadata": {
        "colab": {
          "base_uri": "https://localhost:8080/"
        },
        "id": "W_oYQ1pgRmAf",
        "outputId": "fe3c0ac3-8aa0-40da-a9b5-8c26d61917ec"
      },
      "execution_count": null,
      "outputs": [
        {
          "output_type": "stream",
          "name": "stdout",
          "text": [
            "El valor de x es `390480475878994859` y el tipo de x es `<class 'int'>`\n",
            "El valor de x es `-14857873480705875083758785` y el tipo de x es `<class 'int'>`\n",
            "1000000000\n"
          ]
        }
      ]
    },
    {
      "cell_type": "code",
      "source": [
        "# IMPORTANTE: en python está prohibido empezar un número entero con 0 aparte del literal cero\n",
        "# eso está bien\n",
        "y = 0\n",
        "# eso produce un error\n",
        "y = 04"
      ],
      "metadata": {
        "colab": {
          "base_uri": "https://localhost:8080/",
          "height": 133
        },
        "id": "xD21yc8CX6J_",
        "outputId": "53ab428e-66bf-4c69-a8c6-e38f6dacfc0a"
      },
      "execution_count": null,
      "outputs": [
        {
          "output_type": "error",
          "ename": "SyntaxError",
          "evalue": "ignored",
          "traceback": [
            "\u001b[0;36m  File \u001b[0;32m\"<ipython-input-14-72134f7223c1>\"\u001b[0;36m, line \u001b[0;32m8\u001b[0m\n\u001b[0;31m    y = 04\u001b[0m\n\u001b[0m         ^\u001b[0m\n\u001b[0;31mSyntaxError\u001b[0m\u001b[0;31m:\u001b[0m leading zeros in decimal integer literals are not permitted; use an 0o prefix for octal integers\n"
          ]
        }
      ]
    },
    {
      "cell_type": "markdown",
      "source": [
        "**Operaciones Numéricas**"
      ],
      "metadata": {
        "id": "qFDKO6Wd3BDr"
      }
    },
    {
      "cell_type": "code",
      "source": [
        "print(f\"suma: 3 + 4 = {3 + 4}\")\n",
        "print(f\"resta: 3 - 4 = {3 - 4}\")\n",
        "print(f\"multiplicación: 3 * 4 = {3 * 4}\")\n",
        "print(f\"división: 3 / 4 = {3 / 4}\")\n",
        "print(f\"división entera: 13 // 4 = {13 // 4}\")\n",
        "print(f\"resto de división entera: 13 % 4 = {13 % 4}\")\n",
        "print(f\"\"\"\\nTambién se puede usar la función divmod(x, y) para obtener los\n",
        "resultados de la división entera y su resto directamente:\n",
        "divmod(13, 4) = {divmod(13, 4)}\\n\"\"\")\n",
        "print(f\"x elevado a y: 3 ** 4 = {3 ** 4} o también con la función pow(x,y): {pow(3, 4)}\")"
      ],
      "metadata": {
        "colab": {
          "base_uri": "https://localhost:8080/"
        },
        "id": "5mJjs7QTX7rn",
        "outputId": "82a843e2-fa67-49fd-dc23-75f9b6b354ef"
      },
      "execution_count": null,
      "outputs": [
        {
          "output_type": "stream",
          "name": "stdout",
          "text": [
            "suma: 3 + 4 = 7\n",
            "resta: 3 - 4 = -1\n",
            "multiplicación: 3 * 4 = 12\n",
            "división: 3 / 4 = 0.75\n",
            "división entera: 13 // 4 = 3\n",
            "resto de división entera: 13 % 4 = 1\n",
            "\n",
            "También se puede usar la función divmod(x, y) para obtener los\n",
            "resultados de la división entera y su resto directamente:\n",
            "divmod(13, 4) = (3, 1)\n",
            "\n",
            "x elevado a y: 3 ** 4 = 81 o también con la función pow(x,y): 81\n"
          ]
        }
      ]
    },
    {
      "cell_type": "markdown",
      "source": [
        "### Puntos Flotantes"
      ],
      "metadata": {
        "id": "TLO2oVo1BNuE"
      }
    },
    {
      "cell_type": "code",
      "source": [
        "# cualquier combinación de números con cifras decimales produce un punto flotante\n",
        "x = 5.\n",
        "print(f\"x es: `{x}` y el tipo es `{type(x)}`\")\n",
        "\n",
        "# aunque sea mala práctica, puntos flotantes pueden empezar con un cero adelante\n",
        "x = 07.0\n",
        "print(f\"x es: `{x}` y el tipo es `{type(x)}`\")\n",
        "\n",
        "x = 19.09\n",
        "print(f\"x es: `{x}` y el tipo es `{type(x)}`\")\n",
        "\n",
        "x = 1_000.0\n",
        "print(f\"x es: `{x}` y el tipo es `{type(x)}`\")"
      ],
      "metadata": {
        "colab": {
          "base_uri": "https://localhost:8080/"
        },
        "id": "4WogncMYx9x_",
        "outputId": "98a84e4a-d4e8-422f-a641-978ba3cf6406"
      },
      "execution_count": null,
      "outputs": [
        {
          "output_type": "stream",
          "name": "stdout",
          "text": [
            "x es: `5.0` y el tipo es `<class 'float'>`\n",
            "x es: `7.0` y el tipo es `<class 'float'>`\n",
            "x es: `19.09` y el tipo es `<class 'float'>`\n",
            "x es: `1000.0` y el tipo es `<class 'float'>`\n"
          ]
        }
      ]
    },
    {
      "cell_type": "markdown",
      "source": [
        "### Conversiones "
      ],
      "metadata": {
        "id": "fC-IGRQiDkod"
      }
    },
    {
      "cell_type": "code",
      "source": [
        "# en la primera práctica ya vimos la conversión automática entre números enteros y puntos flotantes\n",
        "# ya que los valores correcto/incorrecto del tipo booleano están ligados a los valores 1/0, estos se convierten\n",
        "# en operaciones matemáticas también\n",
        "\n",
        "x = True + 1\n",
        "print(x)\n",
        "\n",
        "y = 4 - True + False \n",
        "print(y)"
      ],
      "metadata": {
        "colab": {
          "base_uri": "https://localhost:8080/"
        },
        "id": "vhtVQLNfCLY-",
        "outputId": "2740a287-da76-40df-c2de-c1e527eced2b"
      },
      "execution_count": null,
      "outputs": [
        {
          "output_type": "stream",
          "name": "stdout",
          "text": [
            "2\n",
            "3\n"
          ]
        }
      ]
    },
    {
      "cell_type": "markdown",
      "source": [
        "### Práctica de Capítulo 2.0"
      ],
      "metadata": {
        "id": "927X9FTsRNww"
      }
    },
    {
      "cell_type": "code",
      "source": [
        "# 2.1 ¿Qué hace el operador `+=`? ¿Qué hacen los operadores `-=`, `*=`, `**=` y `/=`?\n",
        "\n",
        "x = 2\n",
        "x += 5\n",
        "print(x)\n",
        "\n",
        "# 2.2 ¿Cuántos centímetros tiene un kilómetro? Asigne la cantidad de metros en un kilómetro y\n",
        "# la cantidad de centímetros en un metro a variables\n",
        "metros_en_kilometro = \n",
        "centimetros_en_metro = \n",
        "\n",
        "# 2.3 Use las variables de 2.1 para hacer la multiplicación; asigne la multiplicación a\n",
        "# una nueva variable y muestra el resultado\n",
        "centimetros_en_kilometro = \n",
        "print()\n",
        "\n",
        "# 2.4 Imagínense que estuvieramos en el año 1970 en la Unión Sovietica, y sus 324 compañeros y usted fueran a\n",
        "# comer una torta de chocolate gigantesca de 4988 pedacitos. ¿Cuántos pedazos va a recibir cada persona\n",
        "# si ninguna persona debe tener más pedazos que lo demás? ¡Imprímalo para que el partido comunista\n",
        "# vea el resultado!\n",
        "\n",
        "# 2.5 Ahora imagínese que el resto de la torta fueran para nuestros compañeros del pacto de Varsovia en Checoslovaquia.\n",
        "# ¿Cuántos pedazos mandarían sus compañeros y usted?\n",
        "\n",
        "# 2.6 Nueva situación: Si fuera febrero del año 2023 y usted con un amigo suyo acabaran de ver el video introduciendo el nuevo\n",
        "# megacárcel de Bukele en El Salvador. Cada uno de ustedes mandara el video a dos personas y cada persona también lo mandara a dos\n",
        "# personas más. ¿Cuántas personas recibirían el video en el segundo ciclo de compartirlo? Cuántas personas en el trigésimo ciclo?\n"
      ],
      "metadata": {
        "colab": {
          "base_uri": "https://localhost:8080/",
          "height": 133
        },
        "id": "YiNQ9zzyEKfU",
        "outputId": "3bced726-9fee-4150-a963-a64dd1ec012b"
      },
      "execution_count": null,
      "outputs": [
        {
          "output_type": "error",
          "ename": "SyntaxError",
          "evalue": "ignored",
          "traceback": [
            "\u001b[0;36m  File \u001b[0;32m\"<ipython-input-46-852e059be507>\"\u001b[0;36m, line \u001b[0;32m3\u001b[0m\n\u001b[0;31m    metros_en_kilometro =\u001b[0m\n\u001b[0m                          ^\u001b[0m\n\u001b[0;31mSyntaxError\u001b[0m\u001b[0;31m:\u001b[0m invalid syntax\n"
          ]
        }
      ]
    },
    {
      "cell_type": "code",
      "source": [],
      "metadata": {
        "id": "OzT6mRRIiJaW"
      },
      "execution_count": null,
      "outputs": []
    }
  ]
}